{
  "nbformat": 4,
  "nbformat_minor": 0,
  "metadata": {
    "colab": {
      "name": "numpy.ipynb",
      "version": "0.3.2",
      "provenance": [],
      "include_colab_link": true
    },
    "kernelspec": {
      "name": "python3",
      "display_name": "Python 3"
    }
  },
  "cells": [
    {
      "cell_type": "markdown",
      "metadata": {
        "id": "view-in-github",
        "colab_type": "text"
      },
      "source": [
        "[View in Colaboratory](https://colab.research.google.com/github/Bing5154/AI4AV/blob/master/numpy.ipynb)"
      ]
    },
    {
      "metadata": {
        "id": "6LcguRSjoMtw",
        "colab_type": "code",
        "colab": {
          "base_uri": "https://localhost:8080/",
          "height": 851
        },
        "outputId": "286ff9e6-8359-46d1-bf7e-ed6e977eecf0"
      },
      "cell_type": "code",
      "source": [
        "import numpy as np\n",
        "\n",
        "print(\"\\n Shape and Rank\")\n",
        "a = np.array([1,2,3]) #create a rank of 1 array, rank = dimension\n",
        "                      #[1,2,3]: 1 dimensional (rank1) array\n",
        "                      #[[1,2,3]]: 2 dimensional (rank2) array\n",
        "                      \n",
        "                      \n",
        "print(type(a))\n",
        "print(a.shape) #shape = the size returns(row# x col#)\n",
        "               #1 dimensional only contains the column number ex.(3,) \n",
        "               #shape depends on dimension\n",
        "print(a[0],a[1],a[2])\n",
        "a[0] = 5\n",
        "print(a)\n",
        "\n",
        "b = np.array([[1,2,3],[4,5,6]])\n",
        "print(b.shape)\n",
        "print(b[0,0],b[0,1],b[1,0])\n",
        "\n",
        "print(\"\\nConstant array\")\n",
        "c = np.full((2,3),1)  #first parameter size, 2nd value\n",
        "print(c)\n",
        "print(c.shape)\n",
        "\n",
        "print(\"\\n Modifying Matrix\")\n",
        "a = np.array([[1,2,3,4],[5,6,7,8],[9,10,11,12]])\n",
        "b = a[:2, 1:3]  #slicing array (desired row, desired col), same with list\n",
        "print(a[0,1])\n",
        "b[0,0] = 77    #obtaining element of matrix,similar to list but need 2 vals\n",
        "print(a[0,1])  #setting element of matrix\n",
        "\n",
        "e = np.array([3,5,1])\n",
        "print(e)\n",
        "print(\"\\n\")\n",
        "\n",
        "print(\"\\n array indexing / Mutation\")\n",
        "f = np.array([[1,2,3],[4,5,6],[7,8,9],[10,11,12]])\n",
        "print(f)\n",
        "print(\"\\n\")\n",
        "k = np.array([0,2,0,1])\n",
        "print(f[np.arange(4),k])  #row number 0-3 (not random), b as column number\n",
        "print(\"\\n\")\n",
        "f[np.arange(4),k] += 10 #increments chosen element by 10\n",
        "print(f)\n",
        "\n",
        "print(\"\\nTranspose\")\n",
        "x = np.array([[5,10],[99,8]])\n",
        "print (x)\n",
        "print(x.T)\n",
        "\n",
        "print(\"\\nTranspose 2\")\n",
        "y = np.array(([[1,2,3], [4,5,6]]))\n",
        "print(y)\n",
        "print(y.T)\n",
        "\n",
        "\n",
        "\n",
        "\n"
      ],
      "execution_count": 26,
      "outputs": [
        {
          "output_type": "stream",
          "text": [
            "\n",
            " Shape and Rank\n",
            "<class 'numpy.ndarray'>\n",
            "(3,)\n",
            "1 2 3\n",
            "[5 2 3]\n",
            "(2, 3)\n",
            "1 2 4\n",
            "\n",
            "Constant array\n",
            "[[1 1 1]\n",
            " [1 1 1]]\n",
            "(2, 3)\n",
            "\n",
            " Modifying Matrix\n",
            "2\n",
            "77\n",
            "[3 5 1]\n",
            "\n",
            "\n",
            "\n",
            " array indexing\n",
            "[[ 1  2  3]\n",
            " [ 4  5  6]\n",
            " [ 7  8  9]\n",
            " [10 11 12]]\n",
            "\n",
            "\n",
            "[ 1  6  7 11]\n",
            "\n",
            "\n",
            "[[11  2  3]\n",
            " [ 4  5 16]\n",
            " [17  8  9]\n",
            " [10 21 12]]\n",
            "\n",
            "Transpose\n",
            "[[ 5 10]\n",
            " [99  8]]\n",
            "[[ 5 99]\n",
            " [10  8]]\n",
            "\n",
            "Transpose 2\n",
            "[[1 2 3]\n",
            " [4 5 6]]\n",
            "[[1 4]\n",
            " [2 5]\n",
            " [3 6]]\n"
          ],
          "name": "stdout"
        }
      ]
    }
  ]
}