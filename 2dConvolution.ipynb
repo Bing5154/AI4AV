{
  "nbformat": 4,
  "nbformat_minor": 0,
  "metadata": {
    "colab": {
      "name": "2dConvolution.ipynb",
      "version": "0.3.2",
      "provenance": [],
      "include_colab_link": true
    },
    "kernelspec": {
      "name": "python3",
      "display_name": "Python 3"
    }
  },
  "cells": [
    {
      "cell_type": "markdown",
      "metadata": {
        "id": "view-in-github",
        "colab_type": "text"
      },
      "source": [
        "[View in Colaboratory](https://colab.research.google.com/github/Bing5154/Summer18/blob/master/2dConvolution.ipynb)"
      ]
    },
    {
      "metadata": {
        "id": "69mqjDFrvqaC",
        "colab_type": "code",
        "colab": {}
      },
      "cell_type": "code",
      "source": [
        "import numpy as np\n",
        "from scipy import signal\n",
        "from scipy import misc\n",
        "\n"
      ],
      "execution_count": 0,
      "outputs": []
    },
    {
      "metadata": {
        "id": "-QKr67WGv-3Q",
        "colab_type": "code",
        "colab": {
          "base_uri": "https://localhost:8080/",
          "height": 442
        },
        "outputId": "cb8415a5-fc06-4afb-adb2-63618df0adaa"
      },
      "cell_type": "code",
      "source": [
        "x = np.array([[1,2,0], [4,1,1], [3,1,2]])\n",
        "w = np.array([[2,2], [1,-1]])\n",
        "\n",
        "print(\"x = \\n\", x)\n",
        "print(\"\\n\")\n",
        "print(\"w = \\n\", w)\n",
        "print(\"\\n\")\n",
        "\n",
        "res1 = signal.convolve2d(x,w,'valid')\n",
        "res2 = signal.convolve2d(x,w,'same')\n",
        "res3 = signal.convolve2d(x,w,'full')\n",
        "\n",
        "print(\"valid convolution(x,w) = \\n\", res1) #valid 2d convolution\n",
        "print(\"\\n same convolution(x,w) = \\n\", res2) #same 2d convolution\n",
        "print(\"\\n full convolution(x,w) = \\n\", res3) #full 2d convolution\n"
      ],
      "execution_count": 2,
      "outputs": [
        {
          "output_type": "stream",
          "text": [
            "x = \n",
            " [[1 2 0]\n",
            " [4 1 1]\n",
            " [3 1 2]]\n",
            "\n",
            "\n",
            "w = \n",
            " [[ 2  2]\n",
            " [ 1 -1]]\n",
            "\n",
            "\n",
            "valid convolution(x,w) = \n",
            " [[11  2]\n",
            " [ 5  6]]\n",
            "\n",
            " same convolution(x,w) = \n",
            " [[ 2  6  4]\n",
            " [ 9 11  2]\n",
            " [10  5  6]]\n",
            "\n",
            " full convolution(x,w) = \n",
            " [[ 2  6  4  0]\n",
            " [ 9 11  2  2]\n",
            " [10  5  6  3]\n",
            " [ 3 -2  1 -2]]\n"
          ],
          "name": "stdout"
        }
      ]
    },
    {
      "metadata": {
        "id": "ly5sT7mczNMz",
        "colab_type": "code",
        "colab": {
          "base_uri": "https://localhost:8080/",
          "height": 510
        },
        "outputId": "ad716428-dd6b-43b3-b264-a1f0b00aaa9c"
      },
      "cell_type": "code",
      "source": [
        "y = np.array([[1,0,1,-1],[1,-1,3,0],[0,1,2,-1], [1,2,0,1]])\n",
        "z = np.array([[1,-1], [1,2]])\n",
        "\n",
        "print(\"y = \\n\", y)\n",
        "print(\"\\n\")\n",
        "print(\"z = \\n\", z)\n",
        "print(\"\\n\")\n",
        "\n",
        "res1 = signal.convolve2d(y,z,'valid')\n",
        "res2 = signal.convolve2d(y,z,'same')\n",
        "res3 = signal.convolve2d(y,z,'full')\n",
        "\n",
        "print(\"valid convolution(y,z) = \\n\", res1) #valid 2d convolution\n",
        "print(\"\\n same convolution(y,z) = \\n\", res2) #same 2d convolution\n",
        "print(\"\\n full convolution(y,z) = \\n\", res3) #full 2d convolution\n",
        "\n",
        "\n",
        "\n"
      ],
      "execution_count": 3,
      "outputs": [
        {
          "output_type": "stream",
          "text": [
            "y = \n",
            " [[ 1  0  1 -1]\n",
            " [ 1 -1  3  0]\n",
            " [ 0  1  2 -1]\n",
            " [ 1  2  0  1]]\n",
            "\n",
            "\n",
            "z = \n",
            " [[ 1 -1]\n",
            " [ 1  2]]\n",
            "\n",
            "\n",
            "valid convolution(y,z) = \n",
            " [[ 0  5 -2]\n",
            " [ 2  2  3]\n",
            " [ 2  2  4]]\n",
            "\n",
            " same convolution(y,z) = \n",
            " [[ 1 -1  1 -2]\n",
            " [ 2  0  5 -2]\n",
            " [ 1  2  2  3]\n",
            " [ 1  2  2  4]]\n",
            "\n",
            " full convolution(y,z) = \n",
            " [[ 1 -1  1 -2  1]\n",
            " [ 2  0  5 -2 -2]\n",
            " [ 1  2  2  3  1]\n",
            " [ 1  2  2  4 -3]\n",
            " [ 1  4  4  1  2]]\n"
          ],
          "name": "stdout"
        }
      ]
    },
    {
      "metadata": {
        "id": "fxX2P5P518dm",
        "colab_type": "code",
        "colab": {
          "base_uri": "https://localhost:8080/",
          "height": 52
        },
        "outputId": "43614713-7700-4b92-c4b7-858fb0dc4505"
      },
      "cell_type": "code",
      "source": [
        "c = np.array([[1,1,0,-1],[1,0,2,1],[3,1,0,1]])\n",
        "d = np.array([[1,-1],[1,2]])\n",
        "\n",
        "res1 = signal.convolve2d(c,d,'valid')\n",
        "\n",
        "print(res1)"
      ],
      "execution_count": 13,
      "outputs": [
        {
          "output_type": "stream",
          "text": [
            "[[ 2  4 -2]\n",
            " [ 0  1  6]]\n"
          ],
          "name": "stdout"
        }
      ]
    },
    {
      "metadata": {
        "id": "NwTgainlKcVy",
        "colab_type": "code",
        "colab": {
          "base_uri": "https://localhost:8080/",
          "height": 442
        },
        "outputId": "bfb40daa-e93e-4b61-aba1-c17f0d73c5c3"
      },
      "cell_type": "code",
      "source": [
        "e = np.array([[1,0,2],[1,1,-1],[2,0,2]])\n",
        "f = np.array([[1,-1],[0,2]])\n",
        "\n",
        "print(\"e = \\n\", e)\n",
        "print(\"\\n\")\n",
        "print(\"f = \\n\", f)\n",
        "print(\"\\n\")\n",
        "\n",
        "res1 = signal.convolve2d(e,f,'valid')\n",
        "res2 = signal.convolve2d(e,f,'same')\n",
        "res3 = signal.convolve2d(e,f,'full')\n",
        "\n",
        "print(\"valid convolution(e,f) = \\n\", res1) #valid 2d convolution\n",
        "print(\"\\n same convolution(e,f) = \\n\", res2) #same 2d convolution\n",
        "print(\"\\n full convolution(e,f) = \\n\", res3) #full 2d convolution\n",
        "\n",
        "\n"
      ],
      "execution_count": 4,
      "outputs": [
        {
          "output_type": "stream",
          "text": [
            "e = \n",
            " [[ 1  0  2]\n",
            " [ 1  1 -1]\n",
            " [ 2  0  2]]\n",
            "\n",
            "\n",
            "f = \n",
            " [[ 1 -1]\n",
            " [ 0  2]]\n",
            "\n",
            "\n",
            "valid convolution(e,f) = \n",
            " [[ 2 -2]\n",
            " [ 0  4]]\n",
            "\n",
            " same convolution(e,f) = \n",
            " [[ 1 -1  2]\n",
            " [ 1  2 -2]\n",
            " [ 2  0  4]]\n",
            "\n",
            " full convolution(e,f) = \n",
            " [[ 1 -1  2 -2]\n",
            " [ 1  2 -2  5]\n",
            " [ 2  0  4 -4]\n",
            " [ 0  4  0  4]]\n"
          ],
          "name": "stdout"
        }
      ]
    },
    {
      "metadata": {
        "id": "4yTyHPHCMknH",
        "colab_type": "code",
        "colab": {
          "base_uri": "https://localhost:8080/",
          "height": 85
        },
        "outputId": "aad32588-cc27-4726-c52c-73eeb3e0f65b"
      },
      "cell_type": "code",
      "source": [
        "g = np.array([[1,1,2,0],[-1,0,1,1],[2,1,-1,0],[1,0,1,2]])\n",
        "h = np.array([[0,2],[-1,3]])\n",
        "\n",
        "res1 = signal.convolve2d(g,h,'valid')\n",
        "print(\"valid convolution(g,h) = \\n\", res1)"
      ],
      "execution_count": 5,
      "outputs": [
        {
          "output_type": "stream",
          "text": [
            "valid convolution(g,h) = \n",
            " [[ 0  1  8]\n",
            " [ 1  1  0]\n",
            " [ 7  4 -1]]\n"
          ],
          "name": "stdout"
        }
      ]
    }
  ]
}