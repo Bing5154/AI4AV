{
  "nbformat": 4,
  "nbformat_minor": 0,
  "metadata": {
    "colab": {
      "name": "TorchPractice.ipynb",
      "version": "0.3.2",
      "provenance": [],
      "include_colab_link": true
    },
    "kernelspec": {
      "name": "python3",
      "display_name": "Python 3"
    }
  },
  "cells": [
    {
      "cell_type": "markdown",
      "metadata": {
        "id": "view-in-github",
        "colab_type": "text"
      },
      "source": [
        "[View in Colaboratory](https://colab.research.google.com/github/Bing5154/Summer18/blob/master/TorchPractice.ipynb)"
      ]
    },
    {
      "metadata": {
        "id": "yWvAR7fVACYY",
        "colab_type": "code",
        "colab": {}
      },
      "cell_type": "code",
      "source": [
        "# http://pytorch.org/\n",
        "from os import path\n",
        "from wheel.pep425tags import get_abbr_impl, get_impl_ver, get_abi_tag\n",
        "platform = '{}{}-{}'.format(get_abbr_impl(), get_impl_ver(), get_abi_tag())\n",
        "\n",
        "accelerator = 'cu90' if path.exists('/opt/bin/nvidia-smi') else 'cpu'\n",
        "\n",
        "!pip install -q http://download.pytorch.org/whl/{accelerator}/torch-0.4.0-{platform}-linux_x86_64.whl torchvision\n",
        "import torch  # <Ctrl> / <Shift> + <Return>"
      ],
      "execution_count": 0,
      "outputs": []
    },
    {
      "metadata": {
        "id": "SVBI8gXZAeqs",
        "colab_type": "code",
        "colab": {
          "base_uri": "https://localhost:8080/",
          "height": 34
        },
        "outputId": "d106fb73-ab2b-4053-adf6-f618f3c73635"
      },
      "cell_type": "code",
      "source": [
        "# First way, multiply using matrix and vector\n",
        "# Returns 1-dimensional vector\n",
        "\n",
        "m = torch.Tensor([[0.2, -0.5, 0.1, 2.0],\n",
        "                  [1.5, 1.3, 2.1, 0.0],\n",
        "                  [0.0, 0.25, 0.2, -0.3]])\n",
        "v = torch.Tensor([56, 231, 24, 2])\n",
        "k = torch.Tensor([1.1, 3.2, -1.2])\n",
        "\n",
        "m @ v + k\n",
        "\n"
      ],
      "execution_count": 7,
      "outputs": [
        {
          "output_type": "execute_result",
          "data": {
            "text/plain": [
              "tensor([ -96.8000,  437.9000,   60.7500])"
            ]
          },
          "metadata": {
            "tags": []
          },
          "execution_count": 7
        }
      ]
    },
    {
      "metadata": {
        "id": "xUnMeScMAe4v",
        "colab_type": "code",
        "colab": {
          "base_uri": "https://localhost:8080/",
          "height": 69
        },
        "outputId": "978784b0-f8a9-4fe0-db25-0ee8f350df09"
      },
      "cell_type": "code",
      "source": [
        "# Second way, multiply using all matrices\n",
        "# In order to distinguish column-wise or row-wise matrix\n",
        "# Use the resize_ function\n",
        "\n",
        "a = torch.Tensor([[0.2, -0.5, 0.1, 2.0],\n",
        "                  [1.5, 1.3, 2.1, 0.0],\n",
        "                  [0.0, 0.25, 0.2, -0.3]])\n",
        "b = torch.Tensor([[56, 231, 24, 2]])\n",
        "b. resize_(4,1)\n",
        "c = torch.Tensor([[1.1, 3.2, -1.2]])\n",
        "c. resize_(3,1)\n",
        "\n",
        "a @ b + c  #highest score, classify as that object\n"
      ],
      "execution_count": 8,
      "outputs": [
        {
          "output_type": "execute_result",
          "data": {
            "text/plain": [
              "tensor([[ -96.8000],\n",
              "        [ 437.9000],\n",
              "        [  60.7500]])"
            ]
          },
          "metadata": {
            "tags": []
          },
          "execution_count": 8
        }
      ]
    },
    {
      "metadata": {
        "id": "cvqVSD4FFIld",
        "colab_type": "code",
        "colab": {
          "base_uri": "https://localhost:8080/",
          "height": 34
        },
        "outputId": "9d03af5b-dbf7-459f-961b-62364eedc225"
      },
      "cell_type": "code",
      "source": [
        "k = torch.tensor([[0.2,-0.5, 0.1, 2.0, 1.1],\n",
        "                  [1.5, 1.3, 2.1, 0.0, 3.2],\n",
        "                  [0.0, 0.25, 0.2, -0.3, -1.2]])\n",
        "l = torch.tensor([56.0, 231.0, 24.0, 2.0, 1.0])\n",
        "\n",
        "k @ l \n"
      ],
      "execution_count": 11,
      "outputs": [
        {
          "output_type": "execute_result",
          "data": {
            "text/plain": [
              "tensor([ -96.8000,  437.9000,   60.7500])"
            ]
          },
          "metadata": {
            "tags": []
          },
          "execution_count": 11
        }
      ]
    },
    {
      "metadata": {
        "id": "VVg7Fys-XIqx",
        "colab_type": "code",
        "colab": {
          "base_uri": "https://localhost:8080/",
          "height": 121
        },
        "outputId": "5f702b55-b638-465d-8b77-d983bc60873b"
      },
      "cell_type": "code",
      "source": [
        "d = torch.tensor([1,2,3])\n",
        "e = torch.tensor([1,1,1])\n",
        "f = torch.tensor([[1,2],\n",
        "                  [3,4]])\n",
        "\n",
        "g = torch.tensor([[1,1],\n",
        "                  [1,0]])\n",
        "\n",
        "print(\"dot product: \", end= \"\")\n",
        "d @ e\n",
        "print(\"\\nelement multiplication: \")\n",
        "f * g\n",
        "print(\"\\nmatrix multiplication: \")\n",
        "f @ g"
      ],
      "execution_count": 20,
      "outputs": [
        {
          "output_type": "stream",
          "text": [
            "dot product: \n",
            "element multiplication: \n",
            "\n",
            "matrix multiplication: \n"
          ],
          "name": "stdout"
        },
        {
          "output_type": "execute_result",
          "data": {
            "text/plain": [
              "tensor([[ 3,  1],\n",
              "        [ 7,  3]])"
            ]
          },
          "metadata": {
            "tags": []
          },
          "execution_count": 20
        }
      ]
    },
    {
      "metadata": {
        "id": "zXM0ef4sX4jF",
        "colab_type": "code",
        "colab": {}
      },
      "cell_type": "code",
      "source": [
        "e"
      ],
      "execution_count": 0,
      "outputs": []
    }
  ]
}