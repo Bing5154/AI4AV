{
  "nbformat": 4,
  "nbformat_minor": 0,
  "metadata": {
    "colab": {
      "name": "Find Your Way",
      "version": "0.3.2",
      "provenance": [],
      "collapsed_sections": [],
      "include_colab_link": true
    },
    "kernelspec": {
      "name": "python3",
      "display_name": "Python 3"
    }
  },
  "cells": [
    {
      "cell_type": "markdown",
      "metadata": {
        "id": "view-in-github",
        "colab_type": "text"
      },
      "source": [
        "[View in Colaboratory](https://colab.research.google.com/github/Bing5154/AI4AV/blob/master/Find_Your_Way.ipynb)"
      ]
    },
    {
      "metadata": {
        "id": "Y5ILXCwRK0eS",
        "colab_type": "code",
        "colab": {
          "base_uri": "https://localhost:8080/",
          "height": 1356
        },
        "outputId": "7579fbf1-81e6-40bd-d396-b574f92e90cc"
      },
      "cell_type": "code",
      "source": [
        "import numpy as np\n",
        "import matplotlib.pyplot as plt\n",
        "\n",
        "\n",
        "print (\"Try to find your way from 6 Metrotech, Brooklyn to Uptown Manhattan. Let's go!\")\n",
        "n = str(input(\"What is your name?\"))\n",
        "print('You are at 6 Metrotech, Brooklyn. Begin Level 1.')\n",
        "\n",
        "\n",
        "penalty = 0\n",
        "turn = 0\n",
        "\n",
        "speed = []\n",
        "lv1 = []\n",
        "lv2 = []\n",
        "lv3 = []\n",
        "\n",
        " \n",
        "while (penalty == 0 and turn <= 3):\n",
        "  x = int(input('What is your speed?'))\n",
        "  if x>90: \n",
        "    print(\"Too fast!\", n, \" you lose.\") \n",
        "    penalty += 1\n",
        "    lv1.append(x)\n",
        "    speed.append(x)\n",
        "    break\n",
        "  elif x< 45: \n",
        "    print(\"Too slow!\", n, \" you lose.\")\n",
        "    penalty += 1\n",
        "    lv1.append(x)\n",
        "    speed.append(x)\n",
        "    break\n",
        "  elif x>=85 and x<=90:\n",
        "    print(n,\"slow down! You are approaching the speed limit!\")\n",
        "    turn +=1\n",
        "    lv1.append(x)\n",
        "    speed.append(x)\n",
        "  elif x<=50 and x>=45: \n",
        "    print(n,\"speed up! You're on the highway!\")\n",
        "    turn +=1\n",
        "    lv1.append(x)\n",
        "    speed.append(x)\n",
        "  else: \n",
        "    turn+=1\n",
        "    lv1.append(x)\n",
        "    speed.append(x)\n",
        "    \n",
        "\n",
        "if turn == 4: \n",
        "  plt.axis([0,3,0,100])\n",
        "  plt.plot(lv1)\n",
        "  plt.ylabel('Speed')\n",
        "  plt.xlabel('Move')\n",
        "  plt.show()\n",
        "  print(\"Good job!\", n, \" Now you are at lower Manhattan. Let's move on to Level 2!\")\n",
        "  \n",
        "\n",
        "\n",
        "penalty2 = 0\n",
        "turn2 = 0 \n",
        "\n",
        "while (penalty < 1 and penalty2 < 1 and turn2 <= 2):\n",
        "  y = int(input('What is your speed?'))\n",
        "  if y>=50 and y<=55:\n",
        "    print(n,\"slow down! You are approaching the speed limit!\")\n",
        "    lv2.append(y)\n",
        "    speed.append(y)\n",
        "    turn2 +=1\n",
        "  elif y<=20 and y>=15: \n",
        "    print(n,\"speed up! You're on the highway!\")\n",
        "    lv2.append(y)\n",
        "    speed.append(y)\n",
        "    turn2 +=1\n",
        "  elif y>55: \n",
        "    print(\"Too fast!\", n, \" you lose.\")\n",
        "    lv2.append(y)\n",
        "    speed.append(y)\n",
        "    penalty2 += 1\n",
        "    break\n",
        "  elif y<15: \n",
        "    print(\"Too slow!\", n, \" you lose.\")\n",
        "    penalty2 += 1\n",
        "    lv2.append(y)\n",
        "    speed.append(y)\n",
        "    break\n",
        "  else: \n",
        "    turn2+= 1\n",
        "    lv2.append(y)\n",
        "    speed.append(y)\n",
        "   \n",
        "if turn2  == 3: \n",
        "  plt.axis([0,2,0,100])\n",
        "  plt.plot(lv2)\n",
        "  plt.ylabel('Speed')\n",
        "  plt.xlabel('Move')\n",
        "  plt.show()\n",
        "  print(\"Good job! Now you are at Midtown. Let's move on to Level 3!\")\n",
        "  \n",
        "penalty3 = 0\n",
        "turn3 = 0 \n",
        "\n",
        "while (penalty < 1 and penalty2 < 1 and penalty3 < 1 and turn3 <= 2):\n",
        "  z = int(input('What is your speed?'))\n",
        "  if z>=60 and z<=65:\n",
        "    print(n,\"slow down! You are approaching the speed limit!\")\n",
        "    turn3 +=1\n",
        "    lv3.append(z)\n",
        "    speed.append(z)\n",
        "  elif z<=30 and z>=25: \n",
        "    print(n,\"speed up! You're on the highway!\")\n",
        "    turn3 +=1\n",
        "    lv3.append(z)\n",
        "    speed.append(z)\n",
        "  elif z>65: \n",
        "    print(\"Too fast!\", n ,\" you lose.\")\n",
        "    lv3.append(z)\n",
        "    speed.append(z)\n",
        "    penalty3 += 1\n",
        "    break\n",
        "  elif z<25: \n",
        "    print(\"Too slow!\", n, \" you lose.\")\n",
        "    lv3.append(z)\n",
        "    speed.append(z)\n",
        "    penalty3 += 1\n",
        "    break\n",
        "  else: \n",
        "    turn3+= 1\n",
        "    lv3.append(z)\n",
        "    speed.append(z)\n",
        "    \n",
        "if(turn3 == 3): \n",
        "  plt.axis([0,2,0,100])\n",
        "  plt.plot(lv3)\n",
        "  plt.ylabel('Speed')\n",
        "  plt.xlabel('Move')\n",
        "  plt.show()\n",
        "  print(\"Great job\", n, \"! You win!!!\")\n",
        "  print (speed)\n",
        " \n",
        "plt.axis([0,9,0,100])\n",
        "plt.plot(speed)\n",
        "plt.ylabel('Speed')\n",
        "plt.xlabel('Move')\n",
        "plt.show()"
      ],
      "execution_count": 8,
      "outputs": [
        {
          "output_type": "stream",
          "text": [
            "Try to find your way from 6 Metrotech, Brooklyn to Uptown Manhattan. Let's go!\n",
            "What is your name?Bing\n",
            "You are at 6 Metrotech, Brooklyn. Begin Level 1.\n",
            "What is your speed?85\n",
            "Bing slow down! You are approaching the speed limit!\n",
            "What is your speed?90\n",
            "Bing slow down! You are approaching the speed limit!\n",
            "What is your speed?72\n",
            "What is your speed?70\n"
          ],
          "name": "stdout"
        },
        {
          "output_type": "display_data",
          "data": {
            "image/png": "[encoded data removed]",
            "text/plain": [
              "<matplotlib.figure.Figure at 0x7fb62f035828>"
            ]
          },
          "metadata": {
            "tags": []
          }
        },
        {
          "output_type": "stream",
          "text": [
            "Good job! Bing  Now you are at lower Manhattan. Let's move on to Level 2!\n",
            "What is your speed?45\n",
            "What is your speed?47\n",
            "What is your speed?50\n",
            "Bing slow down! You are approaching the speed limit!\n"
          ],
          "name": "stdout"
        },
        {
          "output_type": "display_data",
          "data": {
            "image/png": "[encoded data removed]",
            "text/plain": [
              "<matplotlib.figure.Figure at 0x7fb62f035710>"
            ]
          },
          "metadata": {
            "tags": []
          }
        },
        {
          "output_type": "stream",
          "text": [
            "Good job! Now you are at Midtown. Let's move on to Level 3!\n",
            "What is your speed?67\n",
            "Too fast! Bing  you lose.\n"
          ],
          "name": "stdout"
        },
        {
          "output_type": "display_data",
          "data": {
            "image/png": "[encoded data removed]",
            "text/plain": [
              "<matplotlib.figure.Figure at 0x7fb62ee57f98>"
            ]
          },
          "metadata": {
            "tags": []
          }
        }
      ]
    },
    {
      "metadata": {
        "id": "bjJ4535ottos",
        "colab_type": "code",
        "colab": {}
      },
      "cell_type": "code",
      "source": [
        "\n"
      ],
      "execution_count": 0,
      "outputs": []
    }
  ]
}