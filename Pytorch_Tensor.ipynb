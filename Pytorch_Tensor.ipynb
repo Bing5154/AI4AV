{
  "nbformat": 4,
  "nbformat_minor": 0,
  "metadata": {
    "colab": {
      "name": "Copy of Pytorch_Tensor.ipynb",
      "version": "0.3.2",
      "provenance": [],
      "collapsed_sections": [
        "dN6brUWFx4VV",
        "wMDdPJEGx4WY"
      ],
      "include_colab_link": true
    },
    "kernelspec": {
      "display_name": "Python 3",
      "language": "python",
      "name": "python3"
    }
  },
  "cells": [
    {
      "cell_type": "markdown",
      "metadata": {
        "id": "view-in-github",
        "colab_type": "text"
      },
      "source": [
        "[View in Colaboratory](https://colab.research.google.com/github/Bing5154/AI4AV/blob/master/Pytorch_Tensor.ipynb)"
      ]
    },
    {
      "metadata": {
        "id": "8cfF8K_3x4UG",
        "colab_type": "text"
      },
      "cell_type": "markdown",
      "source": [
        "\n",
        "# What is PyTorch?\n",
        "\n",
        "It’s a Python based scientific computing package targeted at two sets of audiences:\n",
        "\n",
        "-  Tensorial library that uses the power of GPUs\n",
        "-  A deep learning research platform that provides maximum flexibility and speed\n",
        "\n",
        "## Import the library"
      ]
    },
    {
      "metadata": {
        "id": "dOLy3k7pcb1o",
        "colab_type": "code",
        "colab": {}
      },
      "cell_type": "code",
      "source": [
        "# http://pytorch.org/\n",
        "from os import path\n",
        "from wheel.pep425tags import get_abbr_impl, get_impl_ver, get_abi_tag\n",
        "platform = '{}{}-{}'.format(get_abbr_impl(), get_impl_ver(), get_abi_tag())\n",
        "\n",
        "accelerator = 'cu90' if path.exists('/opt/bin/nvidia-smi') else 'cpu'\n",
        "\n",
        "!pip install -q http://download.pytorch.org/whl/{accelerator}/torch-0.4.0-{platform}-linux_x86_64.whl torchvision\n",
        "import torch  # <Ctrl> / <Shift> + <Return>"
      ],
      "execution_count": 0,
      "outputs": []
    },
    {
      "metadata": {
        "id": "Lm8OmuiONLRz",
        "colab_type": "code",
        "colab": {
          "base_uri": "https://localhost:8080/",
          "height": 34
        },
        "outputId": "8ec66e37-2f77-48e9-eda0-e637700f8e91"
      },
      "cell_type": "code",
      "source": [
        "torch.__version__"
      ],
      "execution_count": 2,
      "outputs": [
        {
          "output_type": "execute_result",
          "data": {
            "text/plain": [
              "'0.4.0'"
            ]
          },
          "metadata": {
            "tags": []
          },
          "execution_count": 2
        }
      ]
    },
    {
      "metadata": {
        "id": "adxexZkDx4UI",
        "colab_type": "text"
      },
      "cell_type": "markdown",
      "source": [
        "## Getting help in Jupyter"
      ]
    },
    {
      "metadata": {
        "id": "TWB7R3sGx4UJ",
        "colab_type": "code",
        "colab": {
          "base_uri": "https://localhost:8080/",
          "height": 34
        },
        "outputId": "60605ea7-022a-40b8-e48d-db6aa6f2ebec"
      },
      "cell_type": "code",
      "source": [
        "torch.sqrt  # <Tab>"
      ],
      "execution_count": 6,
      "outputs": [
        {
          "output_type": "execute_result",
          "data": {
            "text/plain": [
              "<function _VariableFunctions.sqrt>"
            ]
          },
          "metadata": {
            "tags": []
          },
          "execution_count": 6
        }
      ]
    },
    {
      "metadata": {
        "id": "-3W82DZJx4UL",
        "colab_type": "code",
        "colab": {}
      },
      "cell_type": "code",
      "source": [
        "# What about all `*Tensor`s?\n",
        "torch.*Tensor?"
      ],
      "execution_count": 0,
      "outputs": []
    },
    {
      "metadata": {
        "id": "h4YdpZTex4UN",
        "colab_type": "code",
        "colab": {
          "base_uri": "https://localhost:8080/",
          "height": 34
        },
        "outputId": "cd7e0247-0b13-4eb3-d8dd-743e8a1dffb8"
      },
      "cell_type": "code",
      "source": [
        "torch.nn.Module()  # <Shift>+<Tab>"
      ],
      "execution_count": 23,
      "outputs": [
        {
          "output_type": "execute_result",
          "data": {
            "text/plain": [
              "Module()"
            ]
          },
          "metadata": {
            "tags": []
          },
          "execution_count": 23
        }
      ]
    },
    {
      "metadata": {
        "id": "zCH5-S9Yx4UO",
        "colab_type": "code",
        "colab": {}
      },
      "cell_type": "code",
      "source": [
        "# Annotate your functions / classes!\n",
        "torch.nn.Module?"
      ],
      "execution_count": 0,
      "outputs": []
    },
    {
      "metadata": {
        "id": "B2BBx4SBx4UQ",
        "colab_type": "code",
        "colab": {}
      },
      "cell_type": "code",
      "source": [
        "torch.nn.Module??"
      ],
      "execution_count": 0,
      "outputs": []
    },
    {
      "metadata": {
        "id": "6Zah-iXzx4US",
        "colab_type": "text"
      },
      "cell_type": "markdown",
      "source": [
        "## Dropping to Bash: magic!"
      ]
    },
    {
      "metadata": {
        "id": "aCmWJCSpx4US",
        "colab_type": "code",
        "colab": {
          "base_uri": "https://localhost:8080/",
          "height": 51
        },
        "outputId": "4261a1f4-b46f-4f2b-e2df-1b6fae747cc3"
      },
      "cell_type": "code",
      "source": [
        "! ls -lh"
      ],
      "execution_count": 9,
      "outputs": [
        {
          "output_type": "stream",
          "text": [
            "total 4.0K\r\n",
            "drwxr-xr-x 3 root root 4.0K Jul 16 17:37 datalab\r\n"
          ],
          "name": "stdout"
        }
      ]
    },
    {
      "metadata": {
        "id": "vEceaYgNx4UV",
        "colab_type": "code",
        "colab": {
          "base_uri": "https://localhost:8080/",
          "height": 34
        },
        "outputId": "2a3d9202-bae5-4352-b36b-15deb98cf9f7"
      },
      "cell_type": "code",
      "source": [
        "%%bash\n",
        "for f in $(ls *.*); do\n",
        "    echo $(wc -l $f)\n",
        "done"
      ],
      "execution_count": 11,
      "outputs": [
        {
          "output_type": "stream",
          "text": [
            "ls: cannot access '*.*': No such file or directory\n"
          ],
          "name": "stderr"
        }
      ]
    },
    {
      "metadata": {
        "id": "mQAScfyix4UX",
        "colab_type": "code",
        "colab": {}
      },
      "cell_type": "code",
      "source": [
        "# Help?\n",
        "%%bash?"
      ],
      "execution_count": 0,
      "outputs": []
    },
    {
      "metadata": {
        "id": "riYtZHWhx4UZ",
        "colab_type": "code",
        "colab": {}
      },
      "cell_type": "code",
      "source": [
        "# Getting some general help\n",
        "%magic"
      ],
      "execution_count": 0,
      "outputs": []
    },
    {
      "metadata": {
        "id": "Z24LyXaDx4Ub",
        "colab_type": "text"
      },
      "cell_type": "markdown",
      "source": [
        "## Python native data types\n",
        "\n",
        "Python has many native datatypes. Here are the important ones:\n",
        "\n",
        " - **Booleans** are either `True` or `False`.\n",
        " - **Numbers** can be integers (1 and 2), floats (1.1 and 1.2), fractions (1/2 and 2/3), or even complex numbers.\n",
        " - **Strings** are sequences of Unicode characters, e.g. an html document.\n",
        " - **Lists** are ordered sequences of values.\n",
        " - **Tuples** are ordered, immutable sequences of values.\n",
        " - **Sets** are unordered bags of values.\n",
        " - **Dictionaries** are unordered bags of key-value pairs.\n",
        " \n",
        "See [here](http://www.diveintopython3.net/native-datatypes.html) for a complete overview.\n",
        "\n",
        "### More resources\n",
        "\n",
        " 1. Brief Python introduction [here](https://learnxinyminutes.com/docs/python3/).\n",
        " 2. Full Python tutorial [here](https://docs.python.org/3/tutorial/).\n",
        " 3. A Whirlwind Tour of Python [here](https://github.com/jakevdp/WhirlwindTourOfPython).\n",
        " 4. Python Data Science Handbook [here](https://github.com/jakevdp/PythonDataScienceHandbook)."
      ]
    },
    {
      "metadata": {
        "id": "wnoL4kJjx4Uc",
        "colab_type": "text"
      },
      "cell_type": "markdown",
      "source": [
        "## Torch!"
      ]
    },
    {
      "metadata": {
        "id": "r4FeyYtcx4Uc",
        "colab_type": "code",
        "colab": {
          "base_uri": "https://localhost:8080/",
          "height": 136
        },
        "outputId": "b47e2438-e2c7-4fb1-e156-7737d3c14595"
      },
      "cell_type": "code",
      "source": [
        "t = torch.Tensor(2, 3, 4)  #create the tensor with dimension 2x3x4\n",
        "type(t)\n",
        "print(t)"
      ],
      "execution_count": 13,
      "outputs": [
        {
          "output_type": "stream",
          "text": [
            "tensor([[[ 4.5766e-36,  0.0000e+00,  0.0000e+00,  4.9971e-38],\n",
            "         [ 3.6653e+14,  4.5659e-41,  1.7896e+14,  4.5659e-41],\n",
            "         [ 1.4013e-45,  6.7008e-37,  0.0000e+00,  0.0000e+00]],\n",
            "\n",
            "        [[ 7.2762e-08,  4.5659e-41,  0.0000e+00,  0.0000e+00],\n",
            "         [ 0.0000e+00,  0.0000e+00,  0.0000e+00,  0.0000e+00],\n",
            "         [ 2.8167e-33,  4.1878e-38, -2.0499e-19,  2.7508e-36]]])\n"
          ],
          "name": "stdout"
        }
      ]
    },
    {
      "metadata": {
        "id": "U8vM5XcIx4Uf",
        "colab_type": "code",
        "colab": {
          "base_uri": "https://localhost:8080/",
          "height": 34
        },
        "outputId": "6559a6c8-563b-4a02-98c6-e502cc339a0d"
      },
      "cell_type": "code",
      "source": [
        "t.size()  #telling you the size (row, column, height) in list"
      ],
      "execution_count": 17,
      "outputs": [
        {
          "output_type": "execute_result",
          "data": {
            "text/plain": [
              "torch.Size([2, 3, 4])"
            ]
          },
          "metadata": {
            "tags": []
          },
          "execution_count": 17
        }
      ]
    },
    {
      "metadata": {
        "id": "D_1pA5wOx4Um",
        "colab_type": "code",
        "colab": {
          "base_uri": "https://localhost:8080/",
          "height": 34
        },
        "outputId": "d45a6de9-90de-4c9c-e35e-9af733db0092"
      },
      "cell_type": "code",
      "source": [
        "# t.size() is a classic tuple =>\n",
        "print('t size:', ' \\u00D7 '.join(map(str, t.size())))"
      ],
      "execution_count": 14,
      "outputs": [
        {
          "output_type": "stream",
          "text": [
            "t size: 2 × 3 × 4\n"
          ],
          "name": "stdout"
        }
      ]
    },
    {
      "metadata": {
        "id": "HLdO8Xjyx4Uo",
        "colab_type": "code",
        "colab": {
          "base_uri": "https://localhost:8080/",
          "height": 51
        },
        "outputId": "a6803ead-1bb5-41ad-93be-b9c582fbe29a"
      },
      "cell_type": "code",
      "source": [
        "print(f'point in a {t.numel()} dimensional space')  #the total spaces, volume\n",
        "print(f'organised in {t.dim()} sub-dimensions')   #how many dimensions"
      ],
      "execution_count": 15,
      "outputs": [
        {
          "output_type": "stream",
          "text": [
            "point in a 24 dimensional space\n",
            "organised in 3 sub-dimensions\n"
          ],
          "name": "stdout"
        }
      ]
    },
    {
      "metadata": {
        "id": "1plPQ3nEx4Ur",
        "colab_type": "code",
        "colab": {
          "base_uri": "https://localhost:8080/",
          "height": 136
        },
        "outputId": "126e5ec6-e856-4b5a-f3d7-b9e88cdd2c04"
      },
      "cell_type": "code",
      "source": [
        "t"
      ],
      "execution_count": 16,
      "outputs": [
        {
          "output_type": "execute_result",
          "data": {
            "text/plain": [
              "tensor([[[ 4.5766e-36,  0.0000e+00,  0.0000e+00,  4.9971e-38],\n",
              "         [ 3.6653e+14,  4.5659e-41,  1.7896e+14,  4.5659e-41],\n",
              "         [ 1.4013e-45,  6.7008e-37,  0.0000e+00,  0.0000e+00]],\n",
              "\n",
              "        [[ 7.2762e-08,  4.5659e-41,  0.0000e+00,  0.0000e+00],\n",
              "         [ 0.0000e+00,  0.0000e+00,  0.0000e+00,  0.0000e+00],\n",
              "         [ 2.8167e-33,  4.1878e-38, -2.0499e-19,  2.7508e-36]]])"
            ]
          },
          "metadata": {
            "tags": []
          },
          "execution_count": 16
        }
      ]
    },
    {
      "metadata": {
        "id": "ZssEgeu_x4Ut",
        "colab_type": "code",
        "colab": {
          "base_uri": "https://localhost:8080/",
          "height": 139
        },
        "outputId": "8454ad02-c3f6-48b9-e399-fc384daaa48d"
      },
      "cell_type": "code",
      "source": [
        "# Mind the underscore!\n",
        "t.random_(10)"
      ],
      "execution_count": 16,
      "outputs": [
        {
          "output_type": "execute_result",
          "data": {
            "text/plain": [
              "tensor([[[ 2.,  3.,  0.,  4.],\n",
              "         [ 1.,  4.,  1.,  4.],\n",
              "         [ 8.,  3.,  8.,  5.]],\n",
              "\n",
              "        [[ 9.,  2.,  7.,  7.],\n",
              "         [ 4.,  1.,  1.,  2.],\n",
              "         [ 6.,  4.,  2.,  9.]]])"
            ]
          },
          "metadata": {
            "tags": []
          },
          "execution_count": 16
        }
      ]
    },
    {
      "metadata": {
        "id": "H9yHcm5Jx4Uv",
        "colab_type": "code",
        "colab": {
          "base_uri": "https://localhost:8080/",
          "height": 139
        },
        "outputId": "5c5022dc-5832-4fe3-b128-a6166e252df9"
      },
      "cell_type": "code",
      "source": [
        "t"
      ],
      "execution_count": 24,
      "outputs": [
        {
          "output_type": "execute_result",
          "data": {
            "text/plain": [
              "tensor([[[ 7.7316e-37,  0.0000e+00,  8.6881e-44,  0.0000e+00],\n",
              "         [        nan,  4.5737e-41,  1.7589e+22,  1.2403e-14],\n",
              "         [ 3.6423e-06,  2.0699e-19,  4.6316e+27,  1.8037e+28]],\n",
              "\n",
              "        [[ 1.2986e+19,  7.5554e+28,  2.4176e-12,  1.7740e+28],\n",
              "         [ 7.1447e+31,  7.5769e+23,  4.5444e+30,  4.7429e+30],\n",
              "         [ 1.8515e+28,  3.4403e+10,  8.0000e+00,  2.7930e+20]]])"
            ]
          },
          "metadata": {
            "tags": []
          },
          "execution_count": 24
        }
      ]
    },
    {
      "metadata": {
        "id": "0Eq32kD9x4Uy",
        "colab_type": "code",
        "colab": {
          "base_uri": "https://localhost:8080/",
          "height": 121
        },
        "outputId": "dcb59495-5475-4e1e-f7d5-3e3dc6d318d6"
      },
      "cell_type": "code",
      "source": [
        "r = torch.Tensor(t) #similar to int() in numpy, \n",
        "                    #converting t into tensor and call it r\n",
        "                    #parameter can also contain dimensions\n",
        "                    #now they are alias to each other\n",
        "r.resize_(3, 8)\n",
        "r"
      ],
      "execution_count": 27,
      "outputs": [
        {
          "output_type": "execute_result",
          "data": {
            "text/plain": [
              "tensor([[ 7.7316e-37,  0.0000e+00,  8.6881e-44,  0.0000e+00,         nan,\n",
              "          4.5737e-41,  1.7589e+22,  1.2403e-14],\n",
              "        [ 3.6423e-06,  2.0699e-19,  4.6316e+27,  1.8037e+28,  1.2986e+19,\n",
              "          7.5554e+28,  2.4176e-12,  1.7740e+28],\n",
              "        [ 7.1447e+31,  7.5769e+23,  4.5444e+30,  4.7429e+30,  1.8515e+28,\n",
              "          3.4403e+10,  8.0000e+00,  2.7930e+20]])"
            ]
          },
          "metadata": {
            "tags": []
          },
          "execution_count": 27
        }
      ]
    },
    {
      "metadata": {
        "id": "CrxsmVbAx4Uz",
        "colab_type": "code",
        "colab": {
          "base_uri": "https://localhost:8080/",
          "height": 69
        },
        "outputId": "0c3fc995-edfb-4087-af53-44f8c90b26bc"
      },
      "cell_type": "code",
      "source": [
        "r.zero_()  #set everything to zero, remember underscore"
      ],
      "execution_count": 33,
      "outputs": [
        {
          "output_type": "execute_result",
          "data": {
            "text/plain": [
              "tensor([[ 0.,  0.,  0.,  0.,  0.,  0.,  0.,  0.],\n",
              "        [ 0.,  0.,  0.,  0.,  0.,  0.,  0.,  0.],\n",
              "        [ 0.,  0.,  0.,  0.,  0.,  0.,  0.,  0.]])"
            ]
          },
          "metadata": {
            "tags": []
          },
          "execution_count": 33
        }
      ]
    },
    {
      "metadata": {
        "id": "jftaeHTDx4U1",
        "colab_type": "code",
        "colab": {
          "base_uri": "https://localhost:8080/",
          "height": 139
        },
        "outputId": "2dab9f56-df61-481f-ad80-c463810d1520"
      },
      "cell_type": "code",
      "source": [
        "t "
      ],
      "execution_count": 29,
      "outputs": [
        {
          "output_type": "execute_result",
          "data": {
            "text/plain": [
              "tensor([[[ 0.,  0.,  0.,  0.],\n",
              "         [ 0.,  0.,  0.,  0.],\n",
              "         [ 0.,  0.,  0.,  0.]],\n",
              "\n",
              "        [[ 0.,  0.,  0.,  0.],\n",
              "         [ 0.,  0.,  0.,  0.],\n",
              "         [ 0.,  0.,  0.,  0.]]])"
            ]
          },
          "metadata": {
            "tags": []
          },
          "execution_count": 29
        }
      ]
    },
    {
      "metadata": {
        "id": "0-prTSwIx4U2",
        "colab_type": "code",
        "colab": {}
      },
      "cell_type": "code",
      "source": [
        "# This *is* important, sigh...\n",
        "s = r.clone()  #r is currently 3 x 8"
      ],
      "execution_count": 0,
      "outputs": []
    },
    {
      "metadata": {
        "id": "5b1WRvyGx4U4",
        "colab_type": "code",
        "colab": {
          "base_uri": "https://localhost:8080/",
          "height": 69
        },
        "outputId": "c665c457-216b-43fd-f313-efcf92433ee7"
      },
      "cell_type": "code",
      "source": [
        "s.fill_(1)  #a clone of r, all method call should have _\n",
        "s"
      ],
      "execution_count": 32,
      "outputs": [
        {
          "output_type": "execute_result",
          "data": {
            "text/plain": [
              "tensor([[ 1.,  1.,  1.,  1.,  1.,  1.,  1.,  1.],\n",
              "        [ 1.,  1.,  1.,  1.,  1.,  1.,  1.,  1.],\n",
              "        [ 1.,  1.,  1.,  1.,  1.,  1.,  1.,  1.]])"
            ]
          },
          "metadata": {
            "tags": []
          },
          "execution_count": 32
        }
      ]
    },
    {
      "metadata": {
        "id": "M6MnERKFx4U5",
        "colab_type": "code",
        "colab": {
          "base_uri": "https://localhost:8080/",
          "height": 69
        },
        "outputId": "a7cdec90-586b-4d0a-eb5e-30c4feef4183"
      },
      "cell_type": "code",
      "source": [
        "r"
      ],
      "execution_count": 35,
      "outputs": [
        {
          "output_type": "execute_result",
          "data": {
            "text/plain": [
              "tensor([[ 0.,  0.,  0.,  0.,  0.,  0.,  0.,  0.],\n",
              "        [ 0.,  0.,  0.,  0.,  0.,  0.,  0.,  0.],\n",
              "        [ 0.,  0.,  0.,  0.,  0.,  0.,  0.,  0.]])"
            ]
          },
          "metadata": {
            "tags": []
          },
          "execution_count": 35
        }
      ]
    },
    {
      "metadata": {
        "id": "VxdzeMK4x4U7",
        "colab_type": "text"
      },
      "cell_type": "markdown",
      "source": [
        "## Vectors (1D Tensors)"
      ]
    },
    {
      "metadata": {
        "id": "nD59re0Gx4U7",
        "colab_type": "code",
        "colab": {
          "base_uri": "https://localhost:8080/",
          "height": 34
        },
        "outputId": "3b30024d-42af-4cfc-ef08-cbd0a017e3f0"
      },
      "cell_type": "code",
      "source": [
        "v = torch.Tensor([1, 2, 3, 4]); v  #with bracket, not dimensions, an array"
      ],
      "execution_count": 36,
      "outputs": [
        {
          "output_type": "execute_result",
          "data": {
            "text/plain": [
              "tensor([ 1.,  2.,  3.,  4.])"
            ]
          },
          "metadata": {
            "tags": []
          },
          "execution_count": 36
        }
      ]
    },
    {
      "metadata": {
        "id": "p8OX9wqLx4U9",
        "colab_type": "code",
        "colab": {
          "base_uri": "https://localhost:8080/",
          "height": 34
        },
        "outputId": "52fac18e-1dd3-4565-9c0e-379150ac168f"
      },
      "cell_type": "code",
      "source": [
        "print(f'dim: {v.dim()}, size: {v.size()[0]}') "
      ],
      "execution_count": 37,
      "outputs": [
        {
          "output_type": "stream",
          "text": [
            "dim: 1, size: 4\n"
          ],
          "name": "stdout"
        }
      ]
    },
    {
      "metadata": {
        "id": "qdZJDtEzx4U_",
        "colab_type": "code",
        "colab": {
          "base_uri": "https://localhost:8080/",
          "height": 34
        },
        "outputId": "d2b51f27-2ab3-40a0-cfb0-114af3705a23"
      },
      "cell_type": "code",
      "source": [
        "w = torch.Tensor([1, 0, 2, 0]); w"
      ],
      "execution_count": 38,
      "outputs": [
        {
          "output_type": "execute_result",
          "data": {
            "text/plain": [
              "tensor([ 1.,  0.,  2.,  0.])"
            ]
          },
          "metadata": {
            "tags": []
          },
          "execution_count": 38
        }
      ]
    },
    {
      "metadata": {
        "id": "hj2SLYrsx4VB",
        "colab_type": "code",
        "colab": {
          "base_uri": "https://localhost:8080/",
          "height": 34
        },
        "outputId": "2e4616ea-8af8-4648-ed4a-230663e14b9e"
      },
      "cell_type": "code",
      "source": [
        "# Element-wise multiplication\n",
        "v * w"
      ],
      "execution_count": 40,
      "outputs": [
        {
          "output_type": "execute_result",
          "data": {
            "text/plain": [
              "tensor([ 1.,  0.,  6.,  0.])"
            ]
          },
          "metadata": {
            "tags": []
          },
          "execution_count": 40
        }
      ]
    },
    {
      "metadata": {
        "id": "WnfS3EVdx4VC",
        "colab_type": "code",
        "colab": {
          "base_uri": "https://localhost:8080/",
          "height": 34
        },
        "outputId": "734c025f-2f65-465f-8410-10ee4a53db83"
      },
      "cell_type": "code",
      "source": [
        "# Scalar product: 1*1 + 2*0 + 3*2 + 4*0\n",
        "v @ w"
      ],
      "execution_count": 41,
      "outputs": [
        {
          "output_type": "execute_result",
          "data": {
            "text/plain": [
              "tensor(7.)"
            ]
          },
          "metadata": {
            "tags": []
          },
          "execution_count": 41
        }
      ]
    },
    {
      "metadata": {
        "id": "XBm3XOgex4VE",
        "colab_type": "code",
        "colab": {
          "base_uri": "https://localhost:8080/",
          "height": 34
        },
        "outputId": "1ec8f5a5-db1f-4810-be3a-33aeece65191"
      },
      "cell_type": "code",
      "source": [
        "x = torch.Tensor(5).random_(10); x   #dimension of 5 with random numbers between 0 to 9"
      ],
      "execution_count": 42,
      "outputs": [
        {
          "output_type": "execute_result",
          "data": {
            "text/plain": [
              "tensor([ 7.,  6.,  9.,  9.,  3.])"
            ]
          },
          "metadata": {
            "tags": []
          },
          "execution_count": 42
        }
      ]
    },
    {
      "metadata": {
        "id": "0xVMHY29x4VH",
        "colab_type": "code",
        "colab": {
          "base_uri": "https://localhost:8080/",
          "height": 34
        },
        "outputId": "2482c567-22ad-4acf-be8c-f66cace49593"
      },
      "cell_type": "code",
      "source": [
        "print(f'first: {x[0]}, last: {x[-1]}')  #indexing"
      ],
      "execution_count": 43,
      "outputs": [
        {
          "output_type": "stream",
          "text": [
            "first: 7.0, last: 3.0\n"
          ],
          "name": "stdout"
        }
      ]
    },
    {
      "metadata": {
        "id": "kzjroR1sx4VJ",
        "colab_type": "code",
        "colab": {
          "base_uri": "https://localhost:8080/",
          "height": 34
        },
        "outputId": "94061cf6-4241-49a2-d12b-12448a90f0d5"
      },
      "cell_type": "code",
      "source": [
        "# Extract sub-Tensor [from:to)\n",
        "x[1:2 + 1]"
      ],
      "execution_count": 44,
      "outputs": [
        {
          "output_type": "execute_result",
          "data": {
            "text/plain": [
              "tensor([ 6.,  9.])"
            ]
          },
          "metadata": {
            "tags": []
          },
          "execution_count": 44
        }
      ]
    },
    {
      "metadata": {
        "id": "NPHG7u6Ex4VM",
        "colab_type": "code",
        "colab": {
          "base_uri": "https://localhost:8080/",
          "height": 34
        },
        "outputId": "4cb1adac-079e-4d31-a683-2e7c0c245b1c"
      },
      "cell_type": "code",
      "source": [
        "v"
      ],
      "execution_count": 45,
      "outputs": [
        {
          "output_type": "execute_result",
          "data": {
            "text/plain": [
              "tensor([ 1.,  2.,  3.,  4.])"
            ]
          },
          "metadata": {
            "tags": []
          },
          "execution_count": 45
        }
      ]
    },
    {
      "metadata": {
        "id": "wrIcgnHcx4VO",
        "colab_type": "code",
        "colab": {},
        "outputId": "02cd4502-3279-48c1-ba76-0d6954101a21"
      },
      "cell_type": "code",
      "source": [
        "v = torch.arange(1, 4 + 1); v"
      ],
      "execution_count": 0,
      "outputs": [
        {
          "output_type": "execute_result",
          "data": {
            "text/plain": [
              "\n",
              " 1\n",
              " 2\n",
              " 3\n",
              " 4\n",
              "[torch.FloatTensor of size 4]"
            ]
          },
          "metadata": {
            "tags": []
          },
          "execution_count": 31
        }
      ]
    },
    {
      "metadata": {
        "id": "R_-Nbp12x4VQ",
        "colab_type": "code",
        "colab": {},
        "outputId": "483c5148-a30c-4d92-994e-d52275c9f9ac"
      },
      "cell_type": "code",
      "source": [
        "print(v.pow(2), v)"
      ],
      "execution_count": 0,
      "outputs": [
        {
          "output_type": "stream",
          "text": [
            "\n",
            "  1\n",
            "  4\n",
            "  9\n",
            " 16\n",
            "[torch.FloatTensor of size 4]\n",
            " \n",
            " 1\n",
            " 2\n",
            " 3\n",
            " 4\n",
            "[torch.FloatTensor of size 4]\n",
            "\n"
          ],
          "name": "stdout"
        }
      ]
    },
    {
      "metadata": {
        "id": "2TcuoyUDx4VS",
        "colab_type": "code",
        "colab": {},
        "outputId": "41a6ebe4-962c-4f7c-8537-b4445824cdc6"
      },
      "cell_type": "code",
      "source": [
        "print(v.pow_(2), v)"
      ],
      "execution_count": 0,
      "outputs": [
        {
          "output_type": "stream",
          "text": [
            "\n",
            "  1\n",
            "  4\n",
            "  9\n",
            " 16\n",
            "[torch.FloatTensor of size 4]\n",
            " \n",
            "  1\n",
            "  4\n",
            "  9\n",
            " 16\n",
            "[torch.FloatTensor of size 4]\n",
            "\n"
          ],
          "name": "stdout"
        }
      ]
    },
    {
      "metadata": {
        "id": "dN6brUWFx4VV",
        "colab_type": "text"
      },
      "cell_type": "markdown",
      "source": [
        "## Matrices (2D Tensors)"
      ]
    },
    {
      "metadata": {
        "id": "lNc8ZFz0x4VV",
        "colab_type": "code",
        "colab": {},
        "outputId": "ba12b130-45ad-4785-c3bf-7b4bb92eba54"
      },
      "cell_type": "code",
      "source": [
        "m = torch.Tensor([[2, 5, 3, 7],\n",
        "                  [4, 2, 1, 9]]); m"
      ],
      "execution_count": 0,
      "outputs": [
        {
          "output_type": "execute_result",
          "data": {
            "text/plain": [
              "\n",
              " 2  5  3  7\n",
              " 4  2  1  9\n",
              "[torch.FloatTensor of size 2x4]"
            ]
          },
          "metadata": {
            "tags": []
          },
          "execution_count": 34
        }
      ]
    },
    {
      "metadata": {
        "id": "j_Vz4FaCx4VX",
        "colab_type": "code",
        "colab": {},
        "outputId": "31a971e1-99ca-4188-dcb1-f847afc2d48a"
      },
      "cell_type": "code",
      "source": [
        "m.dim()"
      ],
      "execution_count": 0,
      "outputs": [
        {
          "output_type": "execute_result",
          "data": {
            "text/plain": [
              "2"
            ]
          },
          "metadata": {
            "tags": []
          },
          "execution_count": 35
        }
      ]
    },
    {
      "metadata": {
        "id": "7L_w8Zkhx4VZ",
        "colab_type": "code",
        "colab": {},
        "outputId": "114aa87c-cc3d-4ee9-f1f4-b6da717ed137"
      },
      "cell_type": "code",
      "source": [
        "print(m.size(0), m.size(1), m.size(), sep=' -- ')"
      ],
      "execution_count": 0,
      "outputs": [
        {
          "output_type": "stream",
          "text": [
            "2 -- 4 -- torch.Size([2, 4])\n"
          ],
          "name": "stdout"
        }
      ]
    },
    {
      "metadata": {
        "id": "n6OKyelpx4Va",
        "colab_type": "code",
        "colab": {},
        "outputId": "7617557a-6449-4258-f87c-443c7bbd529e"
      },
      "cell_type": "code",
      "source": [
        "m.numel()"
      ],
      "execution_count": 0,
      "outputs": [
        {
          "output_type": "execute_result",
          "data": {
            "text/plain": [
              "8"
            ]
          },
          "metadata": {
            "tags": []
          },
          "execution_count": 37
        }
      ]
    },
    {
      "metadata": {
        "id": "Ndu8UxFDx4Vd",
        "colab_type": "code",
        "colab": {},
        "outputId": "8d05ad23-7581-4549-d8a2-4918df8f14a5"
      },
      "cell_type": "code",
      "source": [
        "m[0][2]"
      ],
      "execution_count": 0,
      "outputs": [
        {
          "output_type": "execute_result",
          "data": {
            "text/plain": [
              "3.0"
            ]
          },
          "metadata": {
            "tags": []
          },
          "execution_count": 38
        }
      ]
    },
    {
      "metadata": {
        "id": "KsKN2WG-x4Ve",
        "colab_type": "code",
        "colab": {},
        "outputId": "348d447f-f584-442e-a3c8-460be69f58b6"
      },
      "cell_type": "code",
      "source": [
        "m[0, 2]"
      ],
      "execution_count": 0,
      "outputs": [
        {
          "output_type": "execute_result",
          "data": {
            "text/plain": [
              "3.0"
            ]
          },
          "metadata": {
            "tags": []
          },
          "execution_count": 39
        }
      ]
    },
    {
      "metadata": {
        "id": "_SoYxtstx4Vh",
        "colab_type": "code",
        "colab": {},
        "outputId": "5ecd16c5-20c1-4ca9-eac4-d9385aeb3bff"
      },
      "cell_type": "code",
      "source": [
        "m[:, 1]"
      ],
      "execution_count": 0,
      "outputs": [
        {
          "output_type": "execute_result",
          "data": {
            "text/plain": [
              "\n",
              " 5\n",
              " 2\n",
              "[torch.FloatTensor of size 2]"
            ]
          },
          "metadata": {
            "tags": []
          },
          "execution_count": 40
        }
      ]
    },
    {
      "metadata": {
        "id": "w9KqZSlAx4Vk",
        "colab_type": "code",
        "colab": {},
        "outputId": "95341ee9-75e9-44c3-8ee3-f7ed672b9558"
      },
      "cell_type": "code",
      "source": [
        "m[:, [1]]"
      ],
      "execution_count": 0,
      "outputs": [
        {
          "output_type": "execute_result",
          "data": {
            "text/plain": [
              "\n",
              " 5\n",
              " 2\n",
              "[torch.FloatTensor of size 2x1]"
            ]
          },
          "metadata": {
            "tags": []
          },
          "execution_count": 41
        }
      ]
    },
    {
      "metadata": {
        "id": "GBzPmhF1x4Vl",
        "colab_type": "code",
        "colab": {},
        "outputId": "5d76630a-8db8-4799-f64e-5e7fe1ad0afd"
      },
      "cell_type": "code",
      "source": [
        "m[[0], :]"
      ],
      "execution_count": 0,
      "outputs": [
        {
          "output_type": "execute_result",
          "data": {
            "text/plain": [
              "\n",
              " 2  5  3  7\n",
              "[torch.FloatTensor of size 1x4]"
            ]
          },
          "metadata": {
            "tags": []
          },
          "execution_count": 42
        }
      ]
    },
    {
      "metadata": {
        "id": "toFn64NCx4Vn",
        "colab_type": "code",
        "colab": {},
        "outputId": "22529bab-e702-404c-f69c-e7405653dbcd"
      },
      "cell_type": "code",
      "source": [
        "m[0, :]"
      ],
      "execution_count": 0,
      "outputs": [
        {
          "output_type": "execute_result",
          "data": {
            "text/plain": [
              "\n",
              " 2\n",
              " 5\n",
              " 3\n",
              " 7\n",
              "[torch.FloatTensor of size 4]"
            ]
          },
          "metadata": {
            "tags": []
          },
          "execution_count": 43
        }
      ]
    },
    {
      "metadata": {
        "id": "rZ1pz7EKx4Vo",
        "colab_type": "code",
        "colab": {},
        "outputId": "ca1c3ca5-1609-4539-e872-9243c2060e97"
      },
      "cell_type": "code",
      "source": [
        "v = torch.arange(1, 4 + 1); v"
      ],
      "execution_count": 0,
      "outputs": [
        {
          "output_type": "execute_result",
          "data": {
            "text/plain": [
              "\n",
              " 1\n",
              " 2\n",
              " 3\n",
              " 4\n",
              "[torch.FloatTensor of size 4]"
            ]
          },
          "metadata": {
            "tags": []
          },
          "execution_count": 44
        }
      ]
    },
    {
      "metadata": {
        "id": "Z-FGe4PIx4Vp",
        "colab_type": "code",
        "colab": {},
        "outputId": "dde7aa32-56cf-48ea-f105-8a8f12495e15"
      },
      "cell_type": "code",
      "source": [
        "m @ v"
      ],
      "execution_count": 0,
      "outputs": [
        {
          "output_type": "execute_result",
          "data": {
            "text/plain": [
              "\n",
              " 49\n",
              " 47\n",
              "[torch.FloatTensor of size 2]"
            ]
          },
          "metadata": {
            "tags": []
          },
          "execution_count": 45
        }
      ]
    },
    {
      "metadata": {
        "id": "TSNfyssnx4Vr",
        "colab_type": "code",
        "colab": {},
        "outputId": "3a19a660-a43a-42fa-829c-c20cc3e5e1f4"
      },
      "cell_type": "code",
      "source": [
        "m[[0], :] @ v"
      ],
      "execution_count": 0,
      "outputs": [
        {
          "output_type": "execute_result",
          "data": {
            "text/plain": [
              "\n",
              " 49\n",
              "[torch.FloatTensor of size 1]"
            ]
          },
          "metadata": {
            "tags": []
          },
          "execution_count": 46
        }
      ]
    },
    {
      "metadata": {
        "id": "PrJHoNi2x4Vt",
        "colab_type": "code",
        "colab": {},
        "outputId": "f4c1a2ee-ce4c-4e19-81ed-22cf3591a081"
      },
      "cell_type": "code",
      "source": [
        "m[[1], :] @ v"
      ],
      "execution_count": 0,
      "outputs": [
        {
          "output_type": "execute_result",
          "data": {
            "text/plain": [
              "\n",
              " 47\n",
              "[torch.FloatTensor of size 1]"
            ]
          },
          "metadata": {
            "tags": []
          },
          "execution_count": 47
        }
      ]
    },
    {
      "metadata": {
        "id": "FIC_3auyx4Vu",
        "colab_type": "code",
        "colab": {},
        "outputId": "d5d1730b-1c92-4ad9-c152-cf06714978cd"
      },
      "cell_type": "code",
      "source": [
        "m + torch.rand(2, 4)"
      ],
      "execution_count": 0,
      "outputs": [
        {
          "output_type": "execute_result",
          "data": {
            "text/plain": [
              "\n",
              " 2.2680  5.3845  3.5066  7.2793\n",
              " 4.8702  2.2567  1.9085  9.1093\n",
              "[torch.FloatTensor of size 2x4]"
            ]
          },
          "metadata": {
            "tags": []
          },
          "execution_count": 48
        }
      ]
    },
    {
      "metadata": {
        "id": "d7pF9123x4Vv",
        "colab_type": "code",
        "colab": {},
        "outputId": "d697c590-bb6c-4304-e3c5-328595cff3b8"
      },
      "cell_type": "code",
      "source": [
        "m - torch.rand(2, 4)"
      ],
      "execution_count": 0,
      "outputs": [
        {
          "output_type": "execute_result",
          "data": {
            "text/plain": [
              "\n",
              " 1.6493  4.9247  2.4892  6.3535\n",
              " 3.9845  1.4249  0.0890  8.8695\n",
              "[torch.FloatTensor of size 2x4]"
            ]
          },
          "metadata": {
            "tags": []
          },
          "execution_count": 49
        }
      ]
    },
    {
      "metadata": {
        "id": "uSC7nslIx4Vy",
        "colab_type": "code",
        "colab": {},
        "outputId": "51e65c82-4e0a-4b36-b432-f41628dc3814"
      },
      "cell_type": "code",
      "source": [
        "m * torch.rand(2, 4)"
      ],
      "execution_count": 0,
      "outputs": [
        {
          "output_type": "execute_result",
          "data": {
            "text/plain": [
              "\n",
              " 1.1733  4.1260  0.1421  1.8981\n",
              " 3.8840  0.7485  0.8296  8.5378\n",
              "[torch.FloatTensor of size 2x4]"
            ]
          },
          "metadata": {
            "tags": []
          },
          "execution_count": 50
        }
      ]
    },
    {
      "metadata": {
        "id": "TpIsP9OSx4Vz",
        "colab_type": "code",
        "colab": {},
        "outputId": "92457d27-37a9-4f45-bedd-53ab252c2824"
      },
      "cell_type": "code",
      "source": [
        "m / torch.rand(2, 4)"
      ],
      "execution_count": 0,
      "outputs": [
        {
          "output_type": "execute_result",
          "data": {
            "text/plain": [
              "\n",
              " 36.9576  17.7094   8.6183  16.6519\n",
              "  5.9585   6.3225   2.1091  12.2522\n",
              "[torch.FloatTensor of size 2x4]"
            ]
          },
          "metadata": {
            "tags": []
          },
          "execution_count": 51
        }
      ]
    },
    {
      "metadata": {
        "id": "-rR5qsWfx4V0",
        "colab_type": "code",
        "colab": {},
        "outputId": "dd615727-2884-401c-f85a-e0c2b3822ecd"
      },
      "cell_type": "code",
      "source": [
        "m.t()"
      ],
      "execution_count": 0,
      "outputs": [
        {
          "output_type": "execute_result",
          "data": {
            "text/plain": [
              "\n",
              " 2  4\n",
              " 5  2\n",
              " 3  1\n",
              " 7  9\n",
              "[torch.FloatTensor of size 4x2]"
            ]
          },
          "metadata": {
            "tags": []
          },
          "execution_count": 52
        }
      ]
    },
    {
      "metadata": {
        "id": "wJCzwsTnx4V2",
        "colab_type": "code",
        "colab": {},
        "outputId": "56762013-b172-4aed-ae64-732e19111d32"
      },
      "cell_type": "code",
      "source": [
        "# Same as\n",
        "m.transpose(0, 1)"
      ],
      "execution_count": 0,
      "outputs": [
        {
          "output_type": "execute_result",
          "data": {
            "text/plain": [
              "\n",
              " 2  4\n",
              " 5  2\n",
              " 3  1\n",
              " 7  9\n",
              "[torch.FloatTensor of size 4x2]"
            ]
          },
          "metadata": {
            "tags": []
          },
          "execution_count": 53
        }
      ]
    },
    {
      "metadata": {
        "id": "yBMpAuvvx4V3",
        "colab_type": "text"
      },
      "cell_type": "markdown",
      "source": [
        "## Constructors"
      ]
    },
    {
      "metadata": {
        "id": "mBSwsqf_x4V4",
        "colab_type": "code",
        "colab": {},
        "outputId": "6efcda0d-0bcd-471e-e2eb-de8db310d386"
      },
      "cell_type": "code",
      "source": [
        "torch.arange(3, 8 + 1)"
      ],
      "execution_count": 0,
      "outputs": [
        {
          "output_type": "execute_result",
          "data": {
            "text/plain": [
              "\n",
              " 3\n",
              " 4\n",
              " 5\n",
              " 6\n",
              " 7\n",
              " 8\n",
              "[torch.FloatTensor of size 6]"
            ]
          },
          "metadata": {
            "tags": []
          },
          "execution_count": 54
        }
      ]
    },
    {
      "metadata": {
        "id": "ZnudrD_nx4V5",
        "colab_type": "code",
        "colab": {},
        "outputId": "083da191-51b6-43cc-c8b2-5b2ff3ca1418"
      },
      "cell_type": "code",
      "source": [
        "torch.arange(5.7, -3, -2.1)"
      ],
      "execution_count": 0,
      "outputs": [
        {
          "output_type": "execute_result",
          "data": {
            "text/plain": [
              "\n",
              " 5.7000\n",
              " 3.6000\n",
              " 1.5000\n",
              "-0.6000\n",
              "-2.7000\n",
              "[torch.FloatTensor of size 5]"
            ]
          },
          "metadata": {
            "tags": []
          },
          "execution_count": 55
        }
      ]
    },
    {
      "metadata": {
        "id": "fJGILka5x4V7",
        "colab_type": "code",
        "colab": {},
        "outputId": "495ca0bc-6963-42a4-b28f-057b8ac7bbb1"
      },
      "cell_type": "code",
      "source": [
        "torch.linspace(3, 8, 20).view(1, -1)"
      ],
      "execution_count": 0,
      "outputs": [
        {
          "output_type": "execute_result",
          "data": {
            "text/plain": [
              "\n",
              "\n",
              "Columns 0 to 9 \n",
              " 3.0000  3.2632  3.5263  3.7895  4.0526  4.3158  4.5789  4.8421  5.1053  5.3684\n",
              "\n",
              "Columns 10 to 19 \n",
              " 5.6316  5.8947  6.1579  6.4211  6.6842  6.9474  7.2105  7.4737  7.7368  8.0000\n",
              "[torch.FloatTensor of size 1x20]"
            ]
          },
          "metadata": {
            "tags": []
          },
          "execution_count": 56
        }
      ]
    },
    {
      "metadata": {
        "id": "UZ-e_EWnx4V8",
        "colab_type": "code",
        "colab": {},
        "outputId": "a04893b6-debf-42b3-efff-2d8873c29a92"
      },
      "cell_type": "code",
      "source": [
        "torch.zeros(3, 5)"
      ],
      "execution_count": 0,
      "outputs": [
        {
          "output_type": "execute_result",
          "data": {
            "text/plain": [
              "\n",
              " 0  0  0  0  0\n",
              " 0  0  0  0  0\n",
              " 0  0  0  0  0\n",
              "[torch.FloatTensor of size 3x5]"
            ]
          },
          "metadata": {
            "tags": []
          },
          "execution_count": 57
        }
      ]
    },
    {
      "metadata": {
        "id": "IVKtZlBGx4V9",
        "colab_type": "code",
        "colab": {},
        "outputId": "cbce2a83-6fb4-471f-edef-72e704d43326"
      },
      "cell_type": "code",
      "source": [
        "torch.ones(3, 2, 5)"
      ],
      "execution_count": 0,
      "outputs": [
        {
          "output_type": "execute_result",
          "data": {
            "text/plain": [
              "\n",
              "(0 ,.,.) = \n",
              "  1  1  1  1  1\n",
              "  1  1  1  1  1\n",
              "\n",
              "(1 ,.,.) = \n",
              "  1  1  1  1  1\n",
              "  1  1  1  1  1\n",
              "\n",
              "(2 ,.,.) = \n",
              "  1  1  1  1  1\n",
              "  1  1  1  1  1\n",
              "[torch.FloatTensor of size 3x2x5]"
            ]
          },
          "metadata": {
            "tags": []
          },
          "execution_count": 58
        }
      ]
    },
    {
      "metadata": {
        "id": "EhqJcmRbx4V_",
        "colab_type": "code",
        "colab": {},
        "outputId": "a55f22a5-8a84-47c5-ef2d-74e2d152ed14"
      },
      "cell_type": "code",
      "source": [
        "torch.eye(3)"
      ],
      "execution_count": 0,
      "outputs": [
        {
          "output_type": "execute_result",
          "data": {
            "text/plain": [
              "\n",
              " 1  0  0\n",
              " 0  1  0\n",
              " 0  0  1\n",
              "[torch.FloatTensor of size 3x3]"
            ]
          },
          "metadata": {
            "tags": []
          },
          "execution_count": 59
        }
      ]
    },
    {
      "metadata": {
        "id": "NJZWGh-Ix4WA",
        "colab_type": "code",
        "colab": {}
      },
      "cell_type": "code",
      "source": [
        "# Pretty plotting config\n",
        "%run ~/Dropbox/NYU/Work/plot_conf.py"
      ],
      "execution_count": 0,
      "outputs": []
    },
    {
      "metadata": {
        "id": "ohr8KJWHx4WD",
        "colab_type": "code",
        "colab": {}
      },
      "cell_type": "code",
      "source": [
        "# Pretty plotting config\n",
        "%run ~/Dropbox/NYU/Work/plot_conf.py"
      ],
      "execution_count": 0,
      "outputs": []
    },
    {
      "metadata": {
        "id": "qaj5fwkXx4WF",
        "colab_type": "code",
        "colab": {},
        "outputId": "45b68252-ab16-497d-b076-487261b37a8f"
      },
      "cell_type": "code",
      "source": [
        "# Numpy bridge!\n",
        "plt.hist(torch.randn(1000).numpy(), 100);"
      ],
      "execution_count": 0,
      "outputs": [
        {
          "output_type": "display_data",
          "data": {
            "image/png": "[encoded data removed]",
            "text/plain": [
              "<matplotlib.figure.Figure at 0x11ee6ebe0>"
            ]
          },
          "metadata": {
            "tags": []
          }
        }
      ]
    },
    {
      "metadata": {
        "id": "1KkO5-tix4WH",
        "colab_type": "code",
        "colab": {}
      },
      "cell_type": "code",
      "source": [
        "plt.hist(torch.randn(10**6).numpy(), 100);  # how much does this chart weight?\n",
        "# use rasterized=True for SVG/EPS/PDF!"
      ],
      "execution_count": 0,
      "outputs": []
    },
    {
      "metadata": {
        "id": "OCg0wkYXx4WJ",
        "colab_type": "code",
        "colab": {}
      },
      "cell_type": "code",
      "source": [
        "plt.hist(torch.rand(10**6).numpy(), 100);"
      ],
      "execution_count": 0,
      "outputs": []
    },
    {
      "metadata": {
        "id": "MYP4Yprmx4WK",
        "colab_type": "text"
      },
      "cell_type": "markdown",
      "source": [
        "## Casting"
      ]
    },
    {
      "metadata": {
        "id": "W9Ppoo5wx4WK",
        "colab_type": "code",
        "colab": {}
      },
      "cell_type": "code",
      "source": [
        "torch.*Tensor?"
      ],
      "execution_count": 0,
      "outputs": []
    },
    {
      "metadata": {
        "id": "kCbWVn7Jx4WL",
        "colab_type": "code",
        "colab": {},
        "outputId": "74d0af6b-b08e-42df-cf17-e0ecdc273347"
      },
      "cell_type": "code",
      "source": [
        "m"
      ],
      "execution_count": 0,
      "outputs": [
        {
          "output_type": "execute_result",
          "data": {
            "text/plain": [
              "\n",
              " 2  5  3  7\n",
              " 4  2  1  9\n",
              "[torch.FloatTensor of size 2x4]"
            ]
          },
          "metadata": {
            "tags": []
          },
          "execution_count": 66
        }
      ]
    },
    {
      "metadata": {
        "id": "n1hEwEPox4WN",
        "colab_type": "code",
        "colab": {},
        "outputId": "0c81c54b-f12c-483a-c485-b138f4e5ad3a"
      },
      "cell_type": "code",
      "source": [
        "m.double()"
      ],
      "execution_count": 0,
      "outputs": [
        {
          "output_type": "execute_result",
          "data": {
            "text/plain": [
              "\n",
              " 2  5  3  7\n",
              " 4  2  1  9\n",
              "[torch.DoubleTensor of size 2x4]"
            ]
          },
          "metadata": {
            "tags": []
          },
          "execution_count": 67
        }
      ]
    },
    {
      "metadata": {
        "id": "QCnDHhICx4WN",
        "colab_type": "code",
        "colab": {},
        "outputId": "a2f94fae-ea45-4594-8889-68cf894db391"
      },
      "cell_type": "code",
      "source": [
        "m.byte()"
      ],
      "execution_count": 0,
      "outputs": [
        {
          "output_type": "execute_result",
          "data": {
            "text/plain": [
              "\n",
              " 2  5  3  7\n",
              " 4  2  1  9\n",
              "[torch.ByteTensor of size 2x4]"
            ]
          },
          "metadata": {
            "tags": []
          },
          "execution_count": 68
        }
      ]
    },
    {
      "metadata": {
        "id": "oWEB8JpKx4WO",
        "colab_type": "code",
        "colab": {}
      },
      "cell_type": "code",
      "source": [
        "if torch.cuda.is_available():\n",
        "    m.cuda()"
      ],
      "execution_count": 0,
      "outputs": []
    },
    {
      "metadata": {
        "id": "6mtnrbQox4WQ",
        "colab_type": "code",
        "colab": {},
        "outputId": "c58a8179-25fa-4c70-ae4c-8b6c57060463"
      },
      "cell_type": "code",
      "source": [
        "m_np = m.numpy(); m_np"
      ],
      "execution_count": 0,
      "outputs": [
        {
          "output_type": "execute_result",
          "data": {
            "text/plain": [
              "array([[2., 5., 3., 7.],\n",
              "       [4., 2., 1., 9.]], dtype=float32)"
            ]
          },
          "metadata": {
            "tags": []
          },
          "execution_count": 70
        }
      ]
    },
    {
      "metadata": {
        "id": "2IX6_Nm6x4WR",
        "colab_type": "code",
        "colab": {},
        "outputId": "6162feef-aca5-4d27-ee28-0178742e8512"
      },
      "cell_type": "code",
      "source": [
        "m_np[0, 0] = -1; m_np"
      ],
      "execution_count": 0,
      "outputs": [
        {
          "output_type": "execute_result",
          "data": {
            "text/plain": [
              "array([[-1.,  5.,  3.,  7.],\n",
              "       [ 4.,  2.,  1.,  9.]], dtype=float32)"
            ]
          },
          "metadata": {
            "tags": []
          },
          "execution_count": 71
        }
      ]
    },
    {
      "metadata": {
        "id": "oLbFr2Ymx4WS",
        "colab_type": "code",
        "colab": {},
        "outputId": "eb882e66-fd33-4aa1-de82-1c4adaa72a0c"
      },
      "cell_type": "code",
      "source": [
        "m"
      ],
      "execution_count": 0,
      "outputs": [
        {
          "output_type": "execute_result",
          "data": {
            "text/plain": [
              "\n",
              "-1  5  3  7\n",
              " 4  2  1  9\n",
              "[torch.FloatTensor of size 2x4]"
            ]
          },
          "metadata": {
            "tags": []
          },
          "execution_count": 72
        }
      ]
    },
    {
      "metadata": {
        "id": "oN9jqgM6x4WU",
        "colab_type": "code",
        "colab": {},
        "outputId": "df9861d8-9961-459a-9b89-2d418257ee44"
      },
      "cell_type": "code",
      "source": [
        "n_np = np.arange(5)\n",
        "n = torch.from_numpy(n_np)\n",
        "print(n_np, n)"
      ],
      "execution_count": 0,
      "outputs": [
        {
          "output_type": "stream",
          "text": [
            "[0 1 2 3 4] \n",
            " 0\n",
            " 1\n",
            " 2\n",
            " 3\n",
            " 4\n",
            "[torch.LongTensor of size 5]\n",
            "\n"
          ],
          "name": "stdout"
        }
      ]
    },
    {
      "metadata": {
        "id": "d8SVuHNBx4WV",
        "colab_type": "code",
        "colab": {},
        "outputId": "1bbb6028-10d2-45be-acc3-4e07604fc33d"
      },
      "cell_type": "code",
      "source": [
        "n.mul_(2)\n",
        "n_np"
      ],
      "execution_count": 0,
      "outputs": [
        {
          "output_type": "execute_result",
          "data": {
            "text/plain": [
              "array([0, 2, 4, 6, 8])"
            ]
          },
          "metadata": {
            "tags": []
          },
          "execution_count": 74
        }
      ]
    },
    {
      "metadata": {
        "id": "-cRmJ5Xsx4WV",
        "colab_type": "text"
      },
      "cell_type": "markdown",
      "source": [
        "## More fun"
      ]
    },
    {
      "metadata": {
        "id": "gp11Etnux4WV",
        "colab_type": "code",
        "colab": {},
        "outputId": "fb6fc8e6-ad93-456a-bfdb-020e22855afc"
      },
      "cell_type": "code",
      "source": [
        "a = torch.Tensor([[1, 2, 3, 4]])\n",
        "b = torch.Tensor([[5, 6, 7, 8]])\n",
        "print(a, b)"
      ],
      "execution_count": 0,
      "outputs": [
        {
          "output_type": "stream",
          "text": [
            "\n",
            " 1  2  3  4\n",
            "[torch.FloatTensor of size 1x4]\n",
            " \n",
            " 5  6  7  8\n",
            "[torch.FloatTensor of size 1x4]\n",
            "\n"
          ],
          "name": "stdout"
        }
      ]
    },
    {
      "metadata": {
        "id": "a9mnETCFx4WX",
        "colab_type": "code",
        "colab": {},
        "outputId": "2ed27d46-81cc-4a38-f167-0b56e2d966b5"
      },
      "cell_type": "code",
      "source": [
        "torch.cat((a, b), 0)"
      ],
      "execution_count": 0,
      "outputs": [
        {
          "output_type": "execute_result",
          "data": {
            "text/plain": [
              "\n",
              " 1  2  3  4\n",
              " 5  6  7  8\n",
              "[torch.FloatTensor of size 2x4]"
            ]
          },
          "metadata": {
            "tags": []
          },
          "execution_count": 76
        }
      ]
    },
    {
      "metadata": {
        "id": "mjVFiY9Fx4WY",
        "colab_type": "code",
        "colab": {},
        "outputId": "68573492-606b-4867-dac2-646e0f312820"
      },
      "cell_type": "code",
      "source": [
        "torch.cat((a, b), 1)"
      ],
      "execution_count": 0,
      "outputs": [
        {
          "output_type": "execute_result",
          "data": {
            "text/plain": [
              "\n",
              "    1     2     3     4     5     6     7     8\n",
              "[torch.FloatTensor of size 1x8]"
            ]
          },
          "metadata": {
            "tags": []
          },
          "execution_count": 77
        }
      ]
    },
    {
      "metadata": {
        "id": "wMDdPJEGx4WY",
        "colab_type": "text"
      },
      "cell_type": "markdown",
      "source": [
        "## Much more\n",
        "\n",
        "There's definitely much more, but this was the basics about `Tensor`s fun.\n",
        "\n",
        "*Torch* full API should be read at least once.\n",
        "Hence, go [here](http://pytorch.org/docs/0.3.0/torch.html).\n",
        "You'll find 100+ `Tensor` operations, including transposing, indexing, slicing, mathematical operations, linear algebra, random numbers, etc are described."
      ]
    }
  ]
}