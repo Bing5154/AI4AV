{
  "nbformat": 4,
  "nbformat_minor": 0,
  "metadata": {
    "colab": {
      "name": "Copy of Pytorch_Tensor.ipynb",
      "version": "0.3.2",
      "provenance": [],
      "collapsed_sections": [
        "wMDdPJEGx4WY"
      ],
      "include_colab_link": true
    },
    "kernelspec": {
      "display_name": "Python 3",
      "language": "python",
      "name": "python3"
    }
  },
  "cells": [
    {
      "cell_type": "markdown",
      "metadata": {
        "id": "view-in-github",
        "colab_type": "text"
      },
      "source": [
        "[View in Colaboratory](https://colab.research.google.com/github/Bing5154/Summer18/blob/master/Pytorch_Tensor.ipynb)"
      ]
    },
    {
      "metadata": {
        "id": "8cfF8K_3x4UG",
        "colab_type": "text"
      },
      "cell_type": "markdown",
      "source": [
        "\n",
        "# What is PyTorch?\n",
        "\n",
        "It’s a Python based scientific computing package targeted at two sets of audiences:\n",
        "\n",
        "-  Tensorial library that uses the power of GPUs\n",
        "-  A deep learning research platform that provides maximum flexibility and speed\n",
        "\n",
        "## Import the library"
      ]
    },
    {
      "metadata": {
        "id": "dOLy3k7pcb1o",
        "colab_type": "code",
        "colab": {}
      },
      "cell_type": "code",
      "source": [
        "# http://pytorch.org/\n",
        "from os import path\n",
        "from wheel.pep425tags import get_abbr_impl, get_impl_ver, get_abi_tag\n",
        "platform = '{}{}-{}'.format(get_abbr_impl(), get_impl_ver(), get_abi_tag())\n",
        "\n",
        "accelerator = 'cu90' if path.exists('/opt/bin/nvidia-smi') else 'cpu'\n",
        "\n",
        "!pip install -q http://download.pytorch.org/whl/{accelerator}/torch-0.4.0-{platform}-linux_x86_64.whl torchvision\n",
        "import torch  # <Ctrl> / <Shift> + <Return>"
      ],
      "execution_count": 0,
      "outputs": []
    },
    {
      "metadata": {
        "id": "Lm8OmuiONLRz",
        "colab_type": "code",
        "colab": {
          "base_uri": "https://localhost:8080/",
          "height": 34
        },
        "outputId": "32b889c6-0796-4199-d7c5-31e3313e27d6"
      },
      "cell_type": "code",
      "source": [
        "torch.__version__"
      ],
      "execution_count": 106,
      "outputs": [
        {
          "output_type": "execute_result",
          "data": {
            "text/plain": [
              "'0.4.0'"
            ]
          },
          "metadata": {
            "tags": []
          },
          "execution_count": 106
        }
      ]
    },
    {
      "metadata": {
        "id": "adxexZkDx4UI",
        "colab_type": "text"
      },
      "cell_type": "markdown",
      "source": [
        "## Getting help in Jupyter"
      ]
    },
    {
      "metadata": {
        "id": "TWB7R3sGx4UJ",
        "colab_type": "code",
        "colab": {
          "base_uri": "https://localhost:8080/",
          "height": 34
        },
        "outputId": "8afa630a-d0f5-47bb-9fd9-ca436de4b0da"
      },
      "cell_type": "code",
      "source": [
        "torch.sqrt  # <Tab>"
      ],
      "execution_count": 107,
      "outputs": [
        {
          "output_type": "execute_result",
          "data": {
            "text/plain": [
              "<function _VariableFunctions.sqrt>"
            ]
          },
          "metadata": {
            "tags": []
          },
          "execution_count": 107
        }
      ]
    },
    {
      "metadata": {
        "id": "-3W82DZJx4UL",
        "colab_type": "code",
        "colab": {}
      },
      "cell_type": "code",
      "source": [
        "# What about all `*Tensor`s?\n",
        "torch.*Tensor?"
      ],
      "execution_count": 0,
      "outputs": []
    },
    {
      "metadata": {
        "id": "h4YdpZTex4UN",
        "colab_type": "code",
        "colab": {
          "base_uri": "https://localhost:8080/",
          "height": 34
        },
        "outputId": "dae7919d-a4bb-4ffe-843e-63231d7af232"
      },
      "cell_type": "code",
      "source": [
        "torch.nn.Module()  # <Shift>+<Tab>"
      ],
      "execution_count": 109,
      "outputs": [
        {
          "output_type": "execute_result",
          "data": {
            "text/plain": [
              "Module()"
            ]
          },
          "metadata": {
            "tags": []
          },
          "execution_count": 109
        }
      ]
    },
    {
      "metadata": {
        "id": "zCH5-S9Yx4UO",
        "colab_type": "code",
        "colab": {}
      },
      "cell_type": "code",
      "source": [
        "# Annotate your functions / classes!\n",
        "torch.nn.Module?"
      ],
      "execution_count": 0,
      "outputs": []
    },
    {
      "metadata": {
        "id": "B2BBx4SBx4UQ",
        "colab_type": "code",
        "colab": {}
      },
      "cell_type": "code",
      "source": [
        "torch.nn.Module??"
      ],
      "execution_count": 0,
      "outputs": []
    },
    {
      "metadata": {
        "id": "6Zah-iXzx4US",
        "colab_type": "text"
      },
      "cell_type": "markdown",
      "source": [
        "## Dropping to Bash: magic!"
      ]
    },
    {
      "metadata": {
        "id": "aCmWJCSpx4US",
        "colab_type": "code",
        "colab": {
          "base_uri": "https://localhost:8080/",
          "height": 51
        },
        "outputId": "1949eb32-6fa1-4056-a326-0e97e60e9ec5"
      },
      "cell_type": "code",
      "source": [
        "! ls -lh"
      ],
      "execution_count": 112,
      "outputs": [
        {
          "output_type": "stream",
          "text": [
            "total 4.0K\r\n",
            "drwxr-xr-x 3 root root 4.0K Jul 16 17:37 datalab\r\n"
          ],
          "name": "stdout"
        }
      ]
    },
    {
      "metadata": {
        "id": "vEceaYgNx4UV",
        "colab_type": "code",
        "colab": {
          "base_uri": "https://localhost:8080/",
          "height": 34
        },
        "outputId": "a5bbfd7e-ac1d-4b65-c8c8-a9beb0fad93c"
      },
      "cell_type": "code",
      "source": [
        "%%bash\n",
        "for f in $(ls *.*); do\n",
        "    echo $(wc -l $f)\n",
        "done"
      ],
      "execution_count": 113,
      "outputs": [
        {
          "output_type": "stream",
          "text": [
            "ls: cannot access '*.*': No such file or directory\n"
          ],
          "name": "stderr"
        }
      ]
    },
    {
      "metadata": {
        "id": "mQAScfyix4UX",
        "colab_type": "code",
        "colab": {}
      },
      "cell_type": "code",
      "source": [
        "# Help?\n",
        "%%bash?"
      ],
      "execution_count": 0,
      "outputs": []
    },
    {
      "metadata": {
        "id": "riYtZHWhx4UZ",
        "colab_type": "code",
        "colab": {}
      },
      "cell_type": "code",
      "source": [
        "# Getting some general help\n",
        "%magic"
      ],
      "execution_count": 0,
      "outputs": []
    },
    {
      "metadata": {
        "id": "Z24LyXaDx4Ub",
        "colab_type": "text"
      },
      "cell_type": "markdown",
      "source": [
        "## Python native data types\n",
        "\n",
        "Python has many native datatypes. Here are the important ones:\n",
        "\n",
        " - **Booleans** are either `True` or `False`.\n",
        " - **Numbers** can be integers (1 and 2), floats (1.1 and 1.2), fractions (1/2 and 2/3), or even complex numbers.\n",
        " - **Strings** are sequences of Unicode characters, e.g. an html document.\n",
        " - **Lists** are ordered sequences of values.\n",
        " - **Tuples** are ordered, immutable sequences of values.\n",
        " - **Sets** are unordered bags of values.\n",
        " - **Dictionaries** are unordered bags of key-value pairs.\n",
        " \n",
        "See [here](http://www.diveintopython3.net/native-datatypes.html) for a complete overview.\n",
        "\n",
        "### More resources\n",
        "\n",
        " 1. Brief Python introduction [here](https://learnxinyminutes.com/docs/python3/).\n",
        " 2. Full Python tutorial [here](https://docs.python.org/3/tutorial/).\n",
        " 3. A Whirlwind Tour of Python [here](https://github.com/jakevdp/WhirlwindTourOfPython).\n",
        " 4. Python Data Science Handbook [here](https://github.com/jakevdp/PythonDataScienceHandbook)."
      ]
    },
    {
      "metadata": {
        "id": "wnoL4kJjx4Uc",
        "colab_type": "text"
      },
      "cell_type": "markdown",
      "source": [
        "## Torch!"
      ]
    },
    {
      "metadata": {
        "id": "r4FeyYtcx4Uc",
        "colab_type": "code",
        "colab": {
          "base_uri": "https://localhost:8080/",
          "height": 136
        },
        "outputId": "d1c8d7c8-7ca7-434e-ab0b-6b7077bdb5e5"
      },
      "cell_type": "code",
      "source": [
        "t = torch.Tensor(2, 3, 4)  #create the tensor with dimension 2x3x4\n",
        "type(t)\n",
        "print(t)"
      ],
      "execution_count": 116,
      "outputs": [
        {
          "output_type": "stream",
          "text": [
            "tensor([[[ 4.5796e-36,  0.0000e+00,  7.2719e+22,  7.5044e+28],\n",
            "         [ 2.8405e+20,  1.8503e+20,  8.3280e+35,  1.7830e+19],\n",
            "         [ 7.0062e+22,  7.1221e+28,  7.1441e+31,  1.1259e+24]],\n",
            "\n",
            "        [[ 7.4451e+34,  1.1704e-19,  1.3563e-19,  2.9538e+21],\n",
            "         [ 7.0806e+31,  1.1626e+27,  8.7530e-04,  1.3563e-19],\n",
            "         [ 1.3563e-19,  1.3563e-19,  4.4359e+27,  7.1440e+31]]])\n"
          ],
          "name": "stdout"
        }
      ]
    },
    {
      "metadata": {
        "id": "U8vM5XcIx4Uf",
        "colab_type": "code",
        "colab": {
          "base_uri": "https://localhost:8080/",
          "height": 34
        },
        "outputId": "a6d9c4d7-8e0a-4dee-d140-994066df123d"
      },
      "cell_type": "code",
      "source": [
        "t.size()  #telling you the size (row, column, height) in list"
      ],
      "execution_count": 117,
      "outputs": [
        {
          "output_type": "execute_result",
          "data": {
            "text/plain": [
              "torch.Size([2, 3, 4])"
            ]
          },
          "metadata": {
            "tags": []
          },
          "execution_count": 117
        }
      ]
    },
    {
      "metadata": {
        "id": "D_1pA5wOx4Um",
        "colab_type": "code",
        "colab": {
          "base_uri": "https://localhost:8080/",
          "height": 34
        },
        "outputId": "6ac46c5f-200d-4864-c8ba-65d17fd6786f"
      },
      "cell_type": "code",
      "source": [
        "# t.size() is a classic tuple =>\n",
        "print('t size:', ' \\u00D7 '.join(map(str, t.size())))"
      ],
      "execution_count": 118,
      "outputs": [
        {
          "output_type": "stream",
          "text": [
            "t size: 2 × 3 × 4\n"
          ],
          "name": "stdout"
        }
      ]
    },
    {
      "metadata": {
        "id": "HLdO8Xjyx4Uo",
        "colab_type": "code",
        "colab": {
          "base_uri": "https://localhost:8080/",
          "height": 51
        },
        "outputId": "1c766227-a5fa-4691-f037-0b66042fbb1e"
      },
      "cell_type": "code",
      "source": [
        "print(f'point in a {t.numel()} dimensional space')  #the total spaces, volume\n",
        "print(f'organised in {t.dim()} sub-dimensions')   #how many dimensions"
      ],
      "execution_count": 119,
      "outputs": [
        {
          "output_type": "stream",
          "text": [
            "point in a 24 dimensional space\n",
            "organised in 3 sub-dimensions\n"
          ],
          "name": "stdout"
        }
      ]
    },
    {
      "metadata": {
        "id": "1plPQ3nEx4Ur",
        "colab_type": "code",
        "colab": {
          "base_uri": "https://localhost:8080/",
          "height": 136
        },
        "outputId": "da8952e3-2176-4c17-dd45-8c779fcf2070"
      },
      "cell_type": "code",
      "source": [
        "t"
      ],
      "execution_count": 120,
      "outputs": [
        {
          "output_type": "execute_result",
          "data": {
            "text/plain": [
              "tensor([[[ 4.5796e-36,  0.0000e+00,  7.2719e+22,  7.5044e+28],\n",
              "         [ 2.8405e+20,  1.8503e+20,  8.3280e+35,  1.7830e+19],\n",
              "         [ 7.0062e+22,  7.1221e+28,  7.1441e+31,  1.1259e+24]],\n",
              "\n",
              "        [[ 7.4451e+34,  1.1704e-19,  1.3563e-19,  2.9538e+21],\n",
              "         [ 7.0806e+31,  1.1626e+27,  8.7530e-04,  1.3563e-19],\n",
              "         [ 1.3563e-19,  1.3563e-19,  4.4359e+27,  7.1440e+31]]])"
            ]
          },
          "metadata": {
            "tags": []
          },
          "execution_count": 120
        }
      ]
    },
    {
      "metadata": {
        "id": "ZssEgeu_x4Ut",
        "colab_type": "code",
        "colab": {
          "base_uri": "https://localhost:8080/",
          "height": 136
        },
        "outputId": "1e396138-67a6-415e-dd25-cc6b7d8c03c9"
      },
      "cell_type": "code",
      "source": [
        "# Mind the underscore!\n",
        "# why?\n",
        "t.random_(10)"
      ],
      "execution_count": 139,
      "outputs": [
        {
          "output_type": "execute_result",
          "data": {
            "text/plain": [
              "tensor([[[ 1.,  9.,  0.,  9.],\n",
              "         [ 1.,  6.,  6.,  4.],\n",
              "         [ 4.,  5.,  1.,  1.]],\n",
              "\n",
              "        [[ 6.,  6.,  8.,  3.],\n",
              "         [ 7.,  2.,  8.,  5.],\n",
              "         [ 9.,  9.,  3.,  8.]]])"
            ]
          },
          "metadata": {
            "tags": []
          },
          "execution_count": 139
        }
      ]
    },
    {
      "metadata": {
        "id": "H9yHcm5Jx4Uv",
        "colab_type": "code",
        "colab": {
          "base_uri": "https://localhost:8080/",
          "height": 136
        },
        "outputId": "b8fd15b5-ff23-403a-cb11-c186f69b4bde"
      },
      "cell_type": "code",
      "source": [
        "t  # more brief way to print out the tensor"
      ],
      "execution_count": 121,
      "outputs": [
        {
          "output_type": "execute_result",
          "data": {
            "text/plain": [
              "tensor([[[ 4.5796e-36,  0.0000e+00,  7.2719e+22,  7.5044e+28],\n",
              "         [ 2.8405e+20,  1.8503e+20,  8.3280e+35,  1.7830e+19],\n",
              "         [ 7.0062e+22,  7.1221e+28,  7.1441e+31,  1.1259e+24]],\n",
              "\n",
              "        [[ 7.4451e+34,  1.1704e-19,  1.3563e-19,  2.9538e+21],\n",
              "         [ 7.0806e+31,  1.1626e+27,  8.7530e-04,  1.3563e-19],\n",
              "         [ 1.3563e-19,  1.3563e-19,  4.4359e+27,  7.1440e+31]]])"
            ]
          },
          "metadata": {
            "tags": []
          },
          "execution_count": 121
        }
      ]
    },
    {
      "metadata": {
        "id": "0Eq32kD9x4Uy",
        "colab_type": "code",
        "colab": {
          "base_uri": "https://localhost:8080/",
          "height": 119
        },
        "outputId": "94744d79-8727-4372-938c-79962bdca4e6"
      },
      "cell_type": "code",
      "source": [
        "r = torch.Tensor(t) #similar to int() in numpy, \n",
        "                    #converting t into tensor and call it r\n",
        "                    #parameter can also contain dimensions\n",
        "                    #now they are alias to each other\n",
        "r.resize_(3, 8)\n",
        "r"
      ],
      "execution_count": 122,
      "outputs": [
        {
          "output_type": "execute_result",
          "data": {
            "text/plain": [
              "tensor([[ 4.5796e-36,  0.0000e+00,  7.2719e+22,  7.5044e+28,  2.8405e+20,\n",
              "          1.8503e+20,  8.3280e+35,  1.7830e+19],\n",
              "        [ 7.0062e+22,  7.1221e+28,  7.1441e+31,  1.1259e+24,  7.4451e+34,\n",
              "          1.1704e-19,  1.3563e-19,  2.9538e+21],\n",
              "        [ 7.0806e+31,  1.1626e+27,  8.7530e-04,  1.3563e-19,  1.3563e-19,\n",
              "          1.3563e-19,  4.4359e+27,  7.1440e+31]])"
            ]
          },
          "metadata": {
            "tags": []
          },
          "execution_count": 122
        }
      ]
    },
    {
      "metadata": {
        "id": "CrxsmVbAx4Uz",
        "colab_type": "code",
        "colab": {
          "base_uri": "https://localhost:8080/",
          "height": 68
        },
        "outputId": "f8faf332-f29a-460b-f6a0-7ce4fe922c6e"
      },
      "cell_type": "code",
      "source": [
        "r.zero_()  #set everything to zero, remember underscore"
      ],
      "execution_count": 123,
      "outputs": [
        {
          "output_type": "execute_result",
          "data": {
            "text/plain": [
              "tensor([[ 0.,  0.,  0.,  0.,  0.,  0.,  0.,  0.],\n",
              "        [ 0.,  0.,  0.,  0.,  0.,  0.,  0.,  0.],\n",
              "        [ 0.,  0.,  0.,  0.,  0.,  0.,  0.,  0.]])"
            ]
          },
          "metadata": {
            "tags": []
          },
          "execution_count": 123
        }
      ]
    },
    {
      "metadata": {
        "id": "jftaeHTDx4U1",
        "colab_type": "code",
        "colab": {
          "base_uri": "https://localhost:8080/",
          "height": 136
        },
        "outputId": "80df0811-8beb-4848-9e62-f3b33ca77bad"
      },
      "cell_type": "code",
      "source": [
        "t # how did t change value? Had the same value as r"
      ],
      "execution_count": 140,
      "outputs": [
        {
          "output_type": "execute_result",
          "data": {
            "text/plain": [
              "tensor([[[ 1.,  9.,  0.,  9.],\n",
              "         [ 1.,  6.,  6.,  4.],\n",
              "         [ 4.,  5.,  1.,  1.]],\n",
              "\n",
              "        [[ 6.,  6.,  8.,  3.],\n",
              "         [ 7.,  2.,  8.,  5.],\n",
              "         [ 9.,  9.,  3.,  8.]]])"
            ]
          },
          "metadata": {
            "tags": []
          },
          "execution_count": 140
        }
      ]
    },
    {
      "metadata": {
        "id": "0-prTSwIx4U2",
        "colab_type": "code",
        "colab": {}
      },
      "cell_type": "code",
      "source": [
        "# This *is* important, sigh...\n",
        "s = r.clone()  #create a copy of r, 3x8"
      ],
      "execution_count": 0,
      "outputs": []
    },
    {
      "metadata": {
        "id": "5b1WRvyGx4U4",
        "colab_type": "code",
        "colab": {
          "base_uri": "https://localhost:8080/",
          "height": 68
        },
        "outputId": "97fc30d9-3339-4003-92f2-8a74e8e8eba2"
      },
      "cell_type": "code",
      "source": [
        "#all method call should have _, constant matrix\n",
        "s.fill_(1)  \n",
        "s"
      ],
      "execution_count": 126,
      "outputs": [
        {
          "output_type": "execute_result",
          "data": {
            "text/plain": [
              "tensor([[ 1.,  1.,  1.,  1.,  1.,  1.,  1.,  1.],\n",
              "        [ 1.,  1.,  1.,  1.,  1.,  1.,  1.,  1.],\n",
              "        [ 1.,  1.,  1.,  1.,  1.,  1.,  1.,  1.]])"
            ]
          },
          "metadata": {
            "tags": []
          },
          "execution_count": 126
        }
      ]
    },
    {
      "metadata": {
        "id": "M6MnERKFx4U5",
        "colab_type": "code",
        "colab": {
          "base_uri": "https://localhost:8080/",
          "height": 69
        },
        "outputId": "a7cdec90-586b-4d0a-eb5e-30c4feef4183"
      },
      "cell_type": "code",
      "source": [
        "r"
      ],
      "execution_count": 35,
      "outputs": [
        {
          "output_type": "execute_result",
          "data": {
            "text/plain": [
              "tensor([[ 0.,  0.,  0.,  0.,  0.,  0.,  0.,  0.],\n",
              "        [ 0.,  0.,  0.,  0.,  0.,  0.,  0.,  0.],\n",
              "        [ 0.,  0.,  0.,  0.,  0.,  0.,  0.,  0.]])"
            ]
          },
          "metadata": {
            "tags": []
          },
          "execution_count": 35
        }
      ]
    },
    {
      "metadata": {
        "id": "VxdzeMK4x4U7",
        "colab_type": "text"
      },
      "cell_type": "markdown",
      "source": [
        "## Vectors (1D Tensors)"
      ]
    },
    {
      "metadata": {
        "id": "nD59re0Gx4U7",
        "colab_type": "code",
        "colab": {
          "base_uri": "https://localhost:8080/",
          "height": 34
        },
        "outputId": "5eb480b1-7121-43bd-8331-0cb5678a7928"
      },
      "cell_type": "code",
      "source": [
        "#with bracket, so not dimensions but a vector\n",
        "v = torch.Tensor([1, 2, 3, 4]); v  "
      ],
      "execution_count": 41,
      "outputs": [
        {
          "output_type": "execute_result",
          "data": {
            "text/plain": [
              "tensor([ 1.,  2.,  3.,  4.])"
            ]
          },
          "metadata": {
            "tags": []
          },
          "execution_count": 41
        }
      ]
    },
    {
      "metadata": {
        "id": "p8OX9wqLx4U9",
        "colab_type": "code",
        "colab": {
          "base_uri": "https://localhost:8080/",
          "height": 34
        },
        "outputId": "8fc7806b-3c63-4389-a592-e39c86461c19"
      },
      "cell_type": "code",
      "source": [
        "print(f'dim: {v.dim()}, size: {v.size()[0]}') "
      ],
      "execution_count": 38,
      "outputs": [
        {
          "output_type": "stream",
          "text": [
            "dim: 1, size: 4\n"
          ],
          "name": "stdout"
        }
      ]
    },
    {
      "metadata": {
        "id": "qdZJDtEzx4U_",
        "colab_type": "code",
        "colab": {
          "base_uri": "https://localhost:8080/",
          "height": 34
        },
        "outputId": "a41f1b22-ead1-405c-d047-cac95375ad94"
      },
      "cell_type": "code",
      "source": [
        "w = torch.Tensor([1, 0, 2, 0]); w"
      ],
      "execution_count": 39,
      "outputs": [
        {
          "output_type": "execute_result",
          "data": {
            "text/plain": [
              "tensor([ 1.,  0.,  2.,  0.])"
            ]
          },
          "metadata": {
            "tags": []
          },
          "execution_count": 39
        }
      ]
    },
    {
      "metadata": {
        "id": "hj2SLYrsx4VB",
        "colab_type": "code",
        "colab": {
          "base_uri": "https://localhost:8080/",
          "height": 34
        },
        "outputId": "92db0a34-ce4b-43c5-91f0-fc7217ea8f50"
      },
      "cell_type": "code",
      "source": [
        "# Element-wise multiplication\n",
        "v * w"
      ],
      "execution_count": 40,
      "outputs": [
        {
          "output_type": "execute_result",
          "data": {
            "text/plain": [
              "tensor([ 1.,  0.,  6.,  0.])"
            ]
          },
          "metadata": {
            "tags": []
          },
          "execution_count": 40
        }
      ]
    },
    {
      "metadata": {
        "id": "WnfS3EVdx4VC",
        "colab_type": "code",
        "colab": {
          "base_uri": "https://localhost:8080/",
          "height": 34
        },
        "outputId": "2abbf72e-4b4c-4590-a4c3-8cb45e50d375"
      },
      "cell_type": "code",
      "source": [
        "# Scalar product: 1*1 + 2*0 + 3*2 + 4*0\n",
        "v @ w"
      ],
      "execution_count": 42,
      "outputs": [
        {
          "output_type": "execute_result",
          "data": {
            "text/plain": [
              "tensor(7.)"
            ]
          },
          "metadata": {
            "tags": []
          },
          "execution_count": 42
        }
      ]
    },
    {
      "metadata": {
        "id": "XBm3XOgex4VE",
        "colab_type": "code",
        "colab": {
          "base_uri": "https://localhost:8080/",
          "height": 34
        },
        "outputId": "41f6cabd-03a8-44f6-a7ef-efe83d4e107e"
      },
      "cell_type": "code",
      "source": [
        "#dimension of 5 with random numbers between 0 to 99\n",
        "x = torch.Tensor(5).random_(100); x   "
      ],
      "execution_count": 79,
      "outputs": [
        {
          "output_type": "execute_result",
          "data": {
            "text/plain": [
              "tensor([ 46.,  79.,  81.,  66.,  99.])"
            ]
          },
          "metadata": {
            "tags": []
          },
          "execution_count": 79
        }
      ]
    },
    {
      "metadata": {
        "id": "0xVMHY29x4VH",
        "colab_type": "code",
        "colab": {
          "base_uri": "https://localhost:8080/",
          "height": 34
        },
        "outputId": "bc9c9b07-11e5-419d-ac8b-8c44ae4dd133"
      },
      "cell_type": "code",
      "source": [
        "print(f'first: {x[0]}, last: {x[-1]}')  #indexing, negative works too"
      ],
      "execution_count": 45,
      "outputs": [
        {
          "output_type": "stream",
          "text": [
            "first: 4.0, last: 5.0\n"
          ],
          "name": "stdout"
        }
      ]
    },
    {
      "metadata": {
        "id": "kzjroR1sx4VJ",
        "colab_type": "code",
        "colab": {
          "base_uri": "https://localhost:8080/",
          "height": 34
        },
        "outputId": "0c32e277-876e-4e50-d7e1-daf663479135"
      },
      "cell_type": "code",
      "source": [
        "# Extract sub-Tensor [from:to)\n",
        "x[1:2 + 1]"
      ],
      "execution_count": 46,
      "outputs": [
        {
          "output_type": "execute_result",
          "data": {
            "text/plain": [
              "tensor([ 7.,  7.])"
            ]
          },
          "metadata": {
            "tags": []
          },
          "execution_count": 46
        }
      ]
    },
    {
      "metadata": {
        "id": "NPHG7u6Ex4VM",
        "colab_type": "code",
        "colab": {
          "base_uri": "https://localhost:8080/",
          "height": 34
        },
        "outputId": "beda1fcd-3052-46cf-f72b-ceab48a197ae"
      },
      "cell_type": "code",
      "source": [
        "v"
      ],
      "execution_count": 48,
      "outputs": [
        {
          "output_type": "execute_result",
          "data": {
            "text/plain": [
              "tensor([ 1.,  2.,  3.,  4.])"
            ]
          },
          "metadata": {
            "tags": []
          },
          "execution_count": 48
        }
      ]
    },
    {
      "metadata": {
        "id": "wrIcgnHcx4VO",
        "colab_type": "code",
        "colab": {},
        "outputId": "02cd4502-3279-48c1-ba76-0d6954101a21"
      },
      "cell_type": "code",
      "source": [
        "#arange: [start, end)\n",
        "#to get 1 to 4, arange[1,5)\n",
        "v = torch.arange(1, 4 + 1); v"
      ],
      "execution_count": 0,
      "outputs": [
        {
          "output_type": "execute_result",
          "data": {
            "text/plain": [
              "\n",
              " 1\n",
              " 2\n",
              " 3\n",
              " 4\n",
              "[torch.FloatTensor of size 4]"
            ]
          },
          "metadata": {
            "tags": []
          },
          "execution_count": 31
        }
      ]
    },
    {
      "metadata": {
        "id": "R_-Nbp12x4VQ",
        "colab_type": "code",
        "colab": {
          "base_uri": "https://localhost:8080/",
          "height": 34
        },
        "outputId": "0295c247-f51e-4799-f1a3-14f198bb95c6"
      },
      "cell_type": "code",
      "source": [
        "#element wise exponent, doesn't change v\n",
        "print(v.pow(2), v)"
      ],
      "execution_count": 49,
      "outputs": [
        {
          "output_type": "stream",
          "text": [
            "tensor([  1.,   4.,   9.,  16.]) tensor([ 1.,  2.,  3.,  4.])\n"
          ],
          "name": "stdout"
        }
      ]
    },
    {
      "metadata": {
        "id": "2TcuoyUDx4VS",
        "colab_type": "code",
        "colab": {
          "base_uri": "https://localhost:8080/",
          "height": 34
        },
        "outputId": "a8d3c2c3-97ed-4cd1-f9be-6b9e7a44a236"
      },
      "cell_type": "code",
      "source": [
        "#element wise exponet, does change v\n",
        "print(v.pow_(2), v)"
      ],
      "execution_count": 50,
      "outputs": [
        {
          "output_type": "stream",
          "text": [
            "tensor([  1.,   4.,   9.,  16.]) tensor([  1.,   4.,   9.,  16.])\n"
          ],
          "name": "stdout"
        }
      ]
    },
    {
      "metadata": {
        "id": "dN6brUWFx4VV",
        "colab_type": "text"
      },
      "cell_type": "markdown",
      "source": [
        "## Matrices (2D Tensors)"
      ]
    },
    {
      "metadata": {
        "id": "lNc8ZFz0x4VV",
        "colab_type": "code",
        "colab": {
          "base_uri": "https://localhost:8080/",
          "height": 51
        },
        "outputId": "8337d6da-b87d-451d-a4c0-7a4e3bc0c1aa"
      },
      "cell_type": "code",
      "source": [
        "m = torch.Tensor([[2, 5, 3, 7],\n",
        "                  [4, 2, 1, 9]]); m"
      ],
      "execution_count": 51,
      "outputs": [
        {
          "output_type": "execute_result",
          "data": {
            "text/plain": [
              "tensor([[ 2.,  5.,  3.,  7.],\n",
              "        [ 4.,  2.,  1.,  9.]])"
            ]
          },
          "metadata": {
            "tags": []
          },
          "execution_count": 51
        }
      ]
    },
    {
      "metadata": {
        "id": "j_Vz4FaCx4VX",
        "colab_type": "code",
        "colab": {
          "base_uri": "https://localhost:8080/",
          "height": 34
        },
        "outputId": "786d6ea8-5bae-474b-a513-6d940974fd76"
      },
      "cell_type": "code",
      "source": [
        "m.dim()"
      ],
      "execution_count": 52,
      "outputs": [
        {
          "output_type": "execute_result",
          "data": {
            "text/plain": [
              "2"
            ]
          },
          "metadata": {
            "tags": []
          },
          "execution_count": 52
        }
      ]
    },
    {
      "metadata": {
        "id": "7L_w8Zkhx4VZ",
        "colab_type": "code",
        "colab": {
          "base_uri": "https://localhost:8080/",
          "height": 34
        },
        "outputId": "3cd2b2ab-4aed-4711-e399-fe28b34cfc03"
      },
      "cell_type": "code",
      "source": [
        "# size(0) --> number of rows\n",
        "# size(1) --> number of cols\n",
        "# tensor.size() --> the size of the matrix in array\n",
        "print(m.size(0), m.size(1), m.size(), sep=' -- ')"
      ],
      "execution_count": 60,
      "outputs": [
        {
          "output_type": "stream",
          "text": [
            "2 -- 4 -- torch.Size([2, 4])\n"
          ],
          "name": "stdout"
        }
      ]
    },
    {
      "metadata": {
        "id": "n6OKyelpx4Va",
        "colab_type": "code",
        "colab": {},
        "outputId": "7617557a-6449-4258-f87c-443c7bbd529e"
      },
      "cell_type": "code",
      "source": [
        "#how many elements in total, 2x4\n",
        "m.numel()"
      ],
      "execution_count": 0,
      "outputs": [
        {
          "output_type": "execute_result",
          "data": {
            "text/plain": [
              "8"
            ]
          },
          "metadata": {
            "tags": []
          },
          "execution_count": 37
        }
      ]
    },
    {
      "metadata": {
        "id": "Ndu8UxFDx4Vd",
        "colab_type": "code",
        "colab": {
          "base_uri": "https://localhost:8080/",
          "height": 34
        },
        "outputId": "1dbf6d04-4312-44f0-ccc6-8b4d9aa7f302"
      },
      "cell_type": "code",
      "source": [
        "#indexing\n",
        "m[0][2]"
      ],
      "execution_count": 61,
      "outputs": [
        {
          "output_type": "execute_result",
          "data": {
            "text/plain": [
              "tensor(3.)"
            ]
          },
          "metadata": {
            "tags": []
          },
          "execution_count": 61
        }
      ]
    },
    {
      "metadata": {
        "id": "KsKN2WG-x4Ve",
        "colab_type": "code",
        "colab": {
          "base_uri": "https://localhost:8080/",
          "height": 34
        },
        "outputId": "5b2e79de-07ac-4337-87d8-222438ccf8e3"
      },
      "cell_type": "code",
      "source": [
        "m[0, 2]"
      ],
      "execution_count": 62,
      "outputs": [
        {
          "output_type": "execute_result",
          "data": {
            "text/plain": [
              "tensor(3.)"
            ]
          },
          "metadata": {
            "tags": []
          },
          "execution_count": 62
        }
      ]
    },
    {
      "metadata": {
        "id": "_SoYxtstx4Vh",
        "colab_type": "code",
        "colab": {},
        "outputId": "5ecd16c5-20c1-4ca9-eac4-d9385aeb3bff"
      },
      "cell_type": "code",
      "source": [
        "#slicing, shape not kept\n",
        "m[:, 1]"
      ],
      "execution_count": 0,
      "outputs": [
        {
          "output_type": "execute_result",
          "data": {
            "text/plain": [
              "\n",
              " 5\n",
              " 2\n",
              "[torch.FloatTensor of size 2]"
            ]
          },
          "metadata": {
            "tags": []
          },
          "execution_count": 40
        }
      ]
    },
    {
      "metadata": {
        "id": "w9KqZSlAx4Vk",
        "colab_type": "code",
        "colab": {
          "base_uri": "https://localhost:8080/",
          "height": 51
        },
        "outputId": "d243e4fe-837a-41fd-d1d6-6921afee83e6"
      },
      "cell_type": "code",
      "source": [
        "# slicing\n",
        "# if bracket added\n",
        "# the shape in the sub matrix are kept\n",
        "# aka. same dimension as m\n",
        "m[:, [1]]"
      ],
      "execution_count": 64,
      "outputs": [
        {
          "output_type": "execute_result",
          "data": {
            "text/plain": [
              "tensor([[ 5.],\n",
              "        [ 2.]])"
            ]
          },
          "metadata": {
            "tags": []
          },
          "execution_count": 64
        }
      ]
    },
    {
      "metadata": {
        "id": "GBzPmhF1x4Vl",
        "colab_type": "code",
        "colab": {
          "base_uri": "https://localhost:8080/",
          "height": 34
        },
        "outputId": "14e2b7f3-6054-45d5-f1a1-f29586c9e03c"
      },
      "cell_type": "code",
      "source": [
        "m[[0], :]"
      ],
      "execution_count": 63,
      "outputs": [
        {
          "output_type": "execute_result",
          "data": {
            "text/plain": [
              "tensor([[ 2.,  5.,  3.,  7.]])"
            ]
          },
          "metadata": {
            "tags": []
          },
          "execution_count": 63
        }
      ]
    },
    {
      "metadata": {
        "id": "toFn64NCx4Vn",
        "colab_type": "code",
        "colab": {
          "base_uri": "https://localhost:8080/",
          "height": 34
        },
        "outputId": "5da1d89d-23d8-4057-d447-7dd450429bc5"
      },
      "cell_type": "code",
      "source": [
        "m[0, :]"
      ],
      "execution_count": 65,
      "outputs": [
        {
          "output_type": "execute_result",
          "data": {
            "text/plain": [
              "tensor([ 2.,  5.,  3.,  7.])"
            ]
          },
          "metadata": {
            "tags": []
          },
          "execution_count": 65
        }
      ]
    },
    {
      "metadata": {
        "id": "rZ1pz7EKx4Vo",
        "colab_type": "code",
        "colab": {
          "base_uri": "https://localhost:8080/",
          "height": 34
        },
        "outputId": "11b82746-b0b0-41ac-c3a0-5be04ce8ada4"
      },
      "cell_type": "code",
      "source": [
        "# arange: [start, end)\n",
        "v = torch.arange(1, 4 + 1); v"
      ],
      "execution_count": 66,
      "outputs": [
        {
          "output_type": "execute_result",
          "data": {
            "text/plain": [
              "tensor([ 1.,  2.,  3.,  4.])"
            ]
          },
          "metadata": {
            "tags": []
          },
          "execution_count": 66
        }
      ]
    },
    {
      "metadata": {
        "id": "Z-FGe4PIx4Vp",
        "colab_type": "code",
        "colab": {
          "base_uri": "https://localhost:8080/",
          "height": 34
        },
        "outputId": "7ca9c97b-eb11-41b0-97f5-ba978b7dcfc9"
      },
      "cell_type": "code",
      "source": [
        "# scalar\n",
        "m @ v  "
      ],
      "execution_count": 67,
      "outputs": [
        {
          "output_type": "execute_result",
          "data": {
            "text/plain": [
              "tensor([ 49.,  47.])"
            ]
          },
          "metadata": {
            "tags": []
          },
          "execution_count": 67
        }
      ]
    },
    {
      "metadata": {
        "id": "TSNfyssnx4Vr",
        "colab_type": "code",
        "colab": {
          "base_uri": "https://localhost:8080/",
          "height": 34
        },
        "outputId": "680822ca-4f73-43ed-a90a-7632ab680b80"
      },
      "cell_type": "code",
      "source": [
        "# 2x1 + 5x2 + 3x3 + 7x4 = 49\n",
        "m[[0], :] @ v   "
      ],
      "execution_count": 68,
      "outputs": [
        {
          "output_type": "execute_result",
          "data": {
            "text/plain": [
              "tensor([ 49.])"
            ]
          },
          "metadata": {
            "tags": []
          },
          "execution_count": 68
        }
      ]
    },
    {
      "metadata": {
        "id": "PrJHoNi2x4Vt",
        "colab_type": "code",
        "colab": {
          "base_uri": "https://localhost:8080/",
          "height": 34
        },
        "outputId": "18d7894d-ed54-454c-a705-906863edf597"
      },
      "cell_type": "code",
      "source": [
        "# 4x1 + 2x2 + 3x1 + 9x4 = 47\n",
        "m[[1], :] @ v "
      ],
      "execution_count": 69,
      "outputs": [
        {
          "output_type": "execute_result",
          "data": {
            "text/plain": [
              "tensor([ 47.])"
            ]
          },
          "metadata": {
            "tags": []
          },
          "execution_count": 69
        }
      ]
    },
    {
      "metadata": {
        "id": "FIC_3auyx4Vu",
        "colab_type": "code",
        "colab": {
          "base_uri": "https://localhost:8080/",
          "height": 51
        },
        "outputId": "905e9364-44a8-4258-a894-00f360c6f7dc"
      },
      "cell_type": "code",
      "source": [
        "# rand(m, n) creates a random 2-dimensional matrix\n",
        "# add m and rand\n",
        "m + torch.rand(2, 4)"
      ],
      "execution_count": 70,
      "outputs": [
        {
          "output_type": "execute_result",
          "data": {
            "text/plain": [
              "tensor([[ 2.9468,  5.6908,  3.5284,  7.7318],\n",
              "        [ 4.2998,  2.2113,  1.6123,  9.5629]])"
            ]
          },
          "metadata": {
            "tags": []
          },
          "execution_count": 70
        }
      ]
    },
    {
      "metadata": {
        "id": "d7pF9123x4Vv",
        "colab_type": "code",
        "colab": {
          "base_uri": "https://localhost:8080/",
          "height": 51
        },
        "outputId": "344e77e2-2520-423a-9dd2-99becc93ab86"
      },
      "cell_type": "code",
      "source": [
        "# subtract m and rand elementwise\n",
        "m - torch.rand(2, 4)"
      ],
      "execution_count": 71,
      "outputs": [
        {
          "output_type": "execute_result",
          "data": {
            "text/plain": [
              "tensor([[ 1.9051,  4.9015,  2.4309,  6.1532],\n",
              "        [ 3.6316,  1.7443,  0.9364,  8.9203]])"
            ]
          },
          "metadata": {
            "tags": []
          },
          "execution_count": 71
        }
      ]
    },
    {
      "metadata": {
        "id": "uSC7nslIx4Vy",
        "colab_type": "code",
        "colab": {
          "base_uri": "https://localhost:8080/",
          "height": 51
        },
        "outputId": "6567bc08-78f3-4d90-9d1c-b3cf4bd906e4"
      },
      "cell_type": "code",
      "source": [
        "# multiply m and rand element wise\n",
        "m * torch.rand(2, 4)"
      ],
      "execution_count": 75,
      "outputs": [
        {
          "output_type": "execute_result",
          "data": {
            "text/plain": [
              "tensor([[ 0.5070,  3.4993,  0.2083,  0.8771],\n",
              "        [ 0.6052,  1.2299,  0.6296,  4.9760]])"
            ]
          },
          "metadata": {
            "tags": []
          },
          "execution_count": 75
        }
      ]
    },
    {
      "metadata": {
        "id": "TpIsP9OSx4Vz",
        "colab_type": "code",
        "colab": {
          "base_uri": "https://localhost:8080/",
          "height": 51
        },
        "outputId": "49f9872d-f023-40c7-c08f-03b4574a627f"
      },
      "cell_type": "code",
      "source": [
        "# divide m and rand element wise\n",
        "m / torch.rand(2, 4)"
      ],
      "execution_count": 76,
      "outputs": [
        {
          "output_type": "execute_result",
          "data": {
            "text/plain": [
              "tensor([[  7.6253,  18.3319,  21.7557,  11.0003],\n",
              "        [  4.4909,   4.9415,   1.0994,  16.7943]])"
            ]
          },
          "metadata": {
            "tags": []
          },
          "execution_count": 76
        }
      ]
    },
    {
      "metadata": {
        "id": "-rR5qsWfx4V0",
        "colab_type": "code",
        "colab": {
          "base_uri": "https://localhost:8080/",
          "height": 85
        },
        "outputId": "ad6765a7-d5d3-49de-8700-ccb16cb1caf0"
      },
      "cell_type": "code",
      "source": [
        "# tranpose of m\n",
        "m.t()"
      ],
      "execution_count": 77,
      "outputs": [
        {
          "output_type": "execute_result",
          "data": {
            "text/plain": [
              "tensor([[ 2.,  4.],\n",
              "        [ 5.,  2.],\n",
              "        [ 3.,  1.],\n",
              "        [ 7.,  9.]])"
            ]
          },
          "metadata": {
            "tags": []
          },
          "execution_count": 77
        }
      ]
    },
    {
      "metadata": {
        "id": "wJCzwsTnx4V2",
        "colab_type": "code",
        "colab": {
          "base_uri": "https://localhost:8080/",
          "height": 85
        },
        "outputId": "43abaf1e-df5a-4468-eb6d-cb08ad0bda39"
      },
      "cell_type": "code",
      "source": [
        "# Same as\n",
        "m.transpose(0, 1)"
      ],
      "execution_count": 78,
      "outputs": [
        {
          "output_type": "execute_result",
          "data": {
            "text/plain": [
              "tensor([[ 2.,  4.],\n",
              "        [ 5.,  2.],\n",
              "        [ 3.,  1.],\n",
              "        [ 7.,  9.]])"
            ]
          },
          "metadata": {
            "tags": []
          },
          "execution_count": 78
        }
      ]
    },
    {
      "metadata": {
        "id": "yBMpAuvvx4V3",
        "colab_type": "text"
      },
      "cell_type": "markdown",
      "source": [
        "## Constructors"
      ]
    },
    {
      "metadata": {
        "id": "mBSwsqf_x4V4",
        "colab_type": "code",
        "colab": {
          "base_uri": "https://localhost:8080/",
          "height": 34
        },
        "outputId": "5e3e60bf-a1fb-4edf-ff6f-2a74a462a5ea"
      },
      "cell_type": "code",
      "source": [
        "torch.arange(3, 8 + 1)"
      ],
      "execution_count": 83,
      "outputs": [
        {
          "output_type": "execute_result",
          "data": {
            "text/plain": [
              "tensor([ 3.,  4.,  5.,  6.,  7.,  8.])"
            ]
          },
          "metadata": {
            "tags": []
          },
          "execution_count": 83
        }
      ]
    },
    {
      "metadata": {
        "id": "ZnudrD_nx4V5",
        "colab_type": "code",
        "colab": {
          "base_uri": "https://localhost:8080/",
          "height": 34
        },
        "outputId": "490f483a-67e4-4e1f-cecd-024e79479f9a"
      },
      "cell_type": "code",
      "source": [
        "# arange(start, end, step)\n",
        "# step ==> intervals \n",
        "torch.arange(5.7, -3, -2.1)"
      ],
      "execution_count": 84,
      "outputs": [
        {
          "output_type": "execute_result",
          "data": {
            "text/plain": [
              "tensor([ 5.7000,  3.6000,  1.5000, -0.6000, -2.7000])"
            ]
          },
          "metadata": {
            "tags": []
          },
          "execution_count": 84
        }
      ]
    },
    {
      "metadata": {
        "id": "fJGILka5x4V7",
        "colab_type": "code",
        "colab": {
          "base_uri": "https://localhost:8080/",
          "height": 68
        },
        "outputId": "c9964f3f-ac6a-4a58-b0c1-c6e39552be10"
      },
      "cell_type": "code",
      "source": [
        "#linspace(like arange): returns one dimensional tensor with (start,end,step)\n",
        "#view: Returns a new tensor with the same data but of a set size.\n",
        "torch.linspace(3, 8, 20).view(1, -1) "
      ],
      "execution_count": 85,
      "outputs": [
        {
          "output_type": "execute_result",
          "data": {
            "text/plain": [
              "tensor([[ 3.0000,  3.2632,  3.5263,  3.7895,  4.0526,  4.3158,  4.5789,\n",
              "          4.8421,  5.1053,  5.3684,  5.6316,  5.8947,  6.1579,  6.4211,\n",
              "          6.6842,  6.9474,  7.2105,  7.4737,  7.7368,  8.0000]])"
            ]
          },
          "metadata": {
            "tags": []
          },
          "execution_count": 85
        }
      ]
    },
    {
      "metadata": {
        "id": "UZ-e_EWnx4V8",
        "colab_type": "code",
        "colab": {
          "base_uri": "https://localhost:8080/",
          "height": 68
        },
        "outputId": "3d53131b-9173-48e0-d3b7-5e58e5e41d25"
      },
      "cell_type": "code",
      "source": [
        "torch.zeros(3, 5)  "
      ],
      "execution_count": 87,
      "outputs": [
        {
          "output_type": "execute_result",
          "data": {
            "text/plain": [
              "tensor([[ 0.,  0.,  0.,  0.,  0.],\n",
              "        [ 0.,  0.,  0.,  0.,  0.],\n",
              "        [ 0.,  0.,  0.,  0.,  0.]])"
            ]
          },
          "metadata": {
            "tags": []
          },
          "execution_count": 87
        }
      ]
    },
    {
      "metadata": {
        "id": "IVKtZlBGx4V9",
        "colab_type": "code",
        "colab": {
          "base_uri": "https://localhost:8080/",
          "height": 153
        },
        "outputId": "f222fb5c-ba9a-4226-fb7c-6bc39482b3d3"
      },
      "cell_type": "code",
      "source": [
        "torch.ones(3, 2, 5)"
      ],
      "execution_count": 88,
      "outputs": [
        {
          "output_type": "execute_result",
          "data": {
            "text/plain": [
              "tensor([[[ 1.,  1.,  1.,  1.,  1.],\n",
              "         [ 1.,  1.,  1.,  1.,  1.]],\n",
              "\n",
              "        [[ 1.,  1.,  1.,  1.,  1.],\n",
              "         [ 1.,  1.,  1.,  1.,  1.]],\n",
              "\n",
              "        [[ 1.,  1.,  1.,  1.,  1.],\n",
              "         [ 1.,  1.,  1.,  1.,  1.]]])"
            ]
          },
          "metadata": {
            "tags": []
          },
          "execution_count": 88
        }
      ]
    },
    {
      "metadata": {
        "id": "EhqJcmRbx4V_",
        "colab_type": "code",
        "colab": {
          "base_uri": "https://localhost:8080/",
          "height": 68
        },
        "outputId": "82021f83-f9cb-4aaf-e408-f9c702254932"
      },
      "cell_type": "code",
      "source": [
        "# eye == identity matrix\n",
        "torch.eye(3)"
      ],
      "execution_count": 100,
      "outputs": [
        {
          "output_type": "execute_result",
          "data": {
            "text/plain": [
              "tensor([[ 1.,  0.,  0.],\n",
              "        [ 0.,  1.,  0.],\n",
              "        [ 0.,  0.,  1.]])"
            ]
          },
          "metadata": {
            "tags": []
          },
          "execution_count": 100
        }
      ]
    },
    {
      "metadata": {
        "id": "NJZWGh-Ix4WA",
        "colab_type": "code",
        "colab": {}
      },
      "cell_type": "code",
      "source": [
        "# Pretty plotting config\n",
        "%run ~/Dropbox/NYU/Work/plot_conf.py"
      ],
      "execution_count": 0,
      "outputs": []
    },
    {
      "metadata": {
        "id": "ohr8KJWHx4WD",
        "colab_type": "code",
        "colab": {}
      },
      "cell_type": "code",
      "source": [
        "# Pretty plotting config\n",
        "%run ~/Dropbox/NYU/Work/plot_conf.py"
      ],
      "execution_count": 0,
      "outputs": []
    },
    {
      "metadata": {
        "id": "qaj5fwkXx4WF",
        "colab_type": "code",
        "colab": {}
      },
      "cell_type": "code",
      "source": [
        "# Numpy bridge!\n",
        "plt.hist(torch.randn(1000).numpy(), 100);"
      ],
      "execution_count": 0,
      "outputs": []
    },
    {
      "metadata": {
        "id": "1KkO5-tix4WH",
        "colab_type": "code",
        "colab": {}
      },
      "cell_type": "code",
      "source": [
        "plt.hist(torch.randn(10**6).numpy(), 100);  # how much does this chart weight?\n",
        "# use rasterized=True for SVG/EPS/PDF!"
      ],
      "execution_count": 0,
      "outputs": []
    },
    {
      "metadata": {
        "id": "OCg0wkYXx4WJ",
        "colab_type": "code",
        "colab": {}
      },
      "cell_type": "code",
      "source": [
        "plt.hist(torch.rand(10**6).numpy(), 100);"
      ],
      "execution_count": 0,
      "outputs": []
    },
    {
      "metadata": {
        "id": "MYP4Yprmx4WK",
        "colab_type": "text"
      },
      "cell_type": "markdown",
      "source": [
        "## Casting"
      ]
    },
    {
      "metadata": {
        "id": "W9Ppoo5wx4WK",
        "colab_type": "code",
        "colab": {}
      },
      "cell_type": "code",
      "source": [
        "# show differnt types of tensor\n",
        "torch.*Tensor?"
      ],
      "execution_count": 0,
      "outputs": []
    },
    {
      "metadata": {
        "id": "kCbWVn7Jx4WL",
        "colab_type": "code",
        "colab": {
          "base_uri": "https://localhost:8080/",
          "height": 51
        },
        "outputId": "b4a8616b-429a-4339-bb4e-9e16afca98a5"
      },
      "cell_type": "code",
      "source": [
        "m"
      ],
      "execution_count": 102,
      "outputs": [
        {
          "output_type": "execute_result",
          "data": {
            "text/plain": [
              "tensor([[ 2.,  5.,  3.,  7.],\n",
              "        [ 4.,  2.,  1.,  9.]])"
            ]
          },
          "metadata": {
            "tags": []
          },
          "execution_count": 102
        }
      ]
    },
    {
      "metadata": {
        "id": "n1hEwEPox4WN",
        "colab_type": "code",
        "colab": {
          "base_uri": "https://localhost:8080/",
          "height": 51
        },
        "outputId": "6e439576-4950-459f-faed-e3d9a1722c32"
      },
      "cell_type": "code",
      "source": [
        "# cast int to double\n",
        "m.double()"
      ],
      "execution_count": 103,
      "outputs": [
        {
          "output_type": "execute_result",
          "data": {
            "text/plain": [
              "tensor([[ 2.,  5.,  3.,  7.],\n",
              "        [ 4.,  2.,  1.,  9.]], dtype=torch.float64)"
            ]
          },
          "metadata": {
            "tags": []
          },
          "execution_count": 103
        }
      ]
    },
    {
      "metadata": {
        "id": "QCnDHhICx4WN",
        "colab_type": "code",
        "colab": {
          "base_uri": "https://localhost:8080/",
          "height": 51
        },
        "outputId": "9b46841d-e0a9-4c5c-d337-90362e60762f"
      },
      "cell_type": "code",
      "source": [
        "# cast double to byte\n",
        "m.byte()"
      ],
      "execution_count": 129,
      "outputs": [
        {
          "output_type": "execute_result",
          "data": {
            "text/plain": [
              "tensor([[ 2,  5,  3,  7],\n",
              "        [ 4,  2,  1,  9]], dtype=torch.uint8)"
            ]
          },
          "metadata": {
            "tags": []
          },
          "execution_count": 129
        }
      ]
    },
    {
      "metadata": {
        "id": "oWEB8JpKx4WO",
        "colab_type": "code",
        "colab": {}
      },
      "cell_type": "code",
      "source": [
        "# checks if your package contains CUDA\n",
        "# CUDA is necessary for running GPUs\n",
        "# return bool\n",
        "if torch.cuda.is_available():\n",
        "    m.cuda()"
      ],
      "execution_count": 0,
      "outputs": []
    },
    {
      "metadata": {
        "id": "6mtnrbQox4WQ",
        "colab_type": "code",
        "colab": {
          "base_uri": "https://localhost:8080/",
          "height": 51
        },
        "outputId": "17f845bc-aa8e-4b30-d5a4-b376144e050c"
      },
      "cell_type": "code",
      "source": [
        "# tensor to array\n",
        "# what is the difference between array and tensor?\n",
        "m_np = m.numpy(); m_np"
      ],
      "execution_count": 132,
      "outputs": [
        {
          "output_type": "execute_result",
          "data": {
            "text/plain": [
              "array([[2., 5., 3., 7.],\n",
              "       [4., 2., 1., 9.]], dtype=float32)"
            ]
          },
          "metadata": {
            "tags": []
          },
          "execution_count": 132
        }
      ]
    },
    {
      "metadata": {
        "id": "2IX6_Nm6x4WR",
        "colab_type": "code",
        "colab": {},
        "outputId": "6162feef-aca5-4d27-ee28-0178742e8512"
      },
      "cell_type": "code",
      "source": [
        "m_np[0, 0] = -1; m_np"
      ],
      "execution_count": 0,
      "outputs": [
        {
          "output_type": "execute_result",
          "data": {
            "text/plain": [
              "array([[-1.,  5.,  3.,  7.],\n",
              "       [ 4.,  2.,  1.,  9.]], dtype=float32)"
            ]
          },
          "metadata": {
            "tags": []
          },
          "execution_count": 71
        }
      ]
    },
    {
      "metadata": {
        "id": "oLbFr2Ymx4WS",
        "colab_type": "code",
        "colab": {},
        "outputId": "eb882e66-fd33-4aa1-de82-1c4adaa72a0c"
      },
      "cell_type": "code",
      "source": [
        "m"
      ],
      "execution_count": 0,
      "outputs": [
        {
          "output_type": "execute_result",
          "data": {
            "text/plain": [
              "\n",
              "-1  5  3  7\n",
              " 4  2  1  9\n",
              "[torch.FloatTensor of size 2x4]"
            ]
          },
          "metadata": {
            "tags": []
          },
          "execution_count": 72
        }
      ]
    },
    {
      "metadata": {
        "id": "oN9jqgM6x4WU",
        "colab_type": "code",
        "colab": {
          "base_uri": "https://localhost:8080/",
          "height": 34
        },
        "outputId": "a552a20d-8471-4421-ebaa-e77069644c97"
      },
      "cell_type": "code",
      "source": [
        "# from_numpy(): cast array to tensor\n",
        "import numpy as np\n",
        "n_np = np.arange(5)\n",
        "n = torch.from_numpy(n_np) #n is a tensor\n",
        "print(n_np, n)"
      ],
      "execution_count": 134,
      "outputs": [
        {
          "output_type": "stream",
          "text": [
            "[0 1 2 3 4] tensor([ 0,  1,  2,  3,  4])\n"
          ],
          "name": "stdout"
        }
      ]
    },
    {
      "metadata": {
        "id": "d8SVuHNBx4WV",
        "colab_type": "code",
        "colab": {
          "base_uri": "https://localhost:8080/",
          "height": 34
        },
        "outputId": "c79ec476-4a07-4c85-de46-c9f0b0689a9f"
      },
      "cell_type": "code",
      "source": [
        "# how does changing n affects n_np\n",
        "n.mul_(2)\n",
        "n_np"
      ],
      "execution_count": 135,
      "outputs": [
        {
          "output_type": "execute_result",
          "data": {
            "text/plain": [
              "array([0, 2, 4, 6, 8])"
            ]
          },
          "metadata": {
            "tags": []
          },
          "execution_count": 135
        }
      ]
    },
    {
      "metadata": {
        "id": "-cRmJ5Xsx4WV",
        "colab_type": "text"
      },
      "cell_type": "markdown",
      "source": [
        "## More fun"
      ]
    },
    {
      "metadata": {
        "id": "gp11Etnux4WV",
        "colab_type": "code",
        "colab": {
          "base_uri": "https://localhost:8080/",
          "height": 34
        },
        "outputId": "78127ae1-a9dc-4c5a-d67c-f67009694045"
      },
      "cell_type": "code",
      "source": [
        "a = torch.Tensor([[1, 2, 3, 4]])\n",
        "b = torch.Tensor([[5, 6, 7, 8]])\n",
        "print(a, b)"
      ],
      "execution_count": 136,
      "outputs": [
        {
          "output_type": "stream",
          "text": [
            "tensor([[ 1.,  2.,  3.,  4.]]) tensor([[ 5.,  6.,  7.,  8.]])\n"
          ],
          "name": "stdout"
        }
      ]
    },
    {
      "metadata": {
        "id": "a9mnETCFx4WX",
        "colab_type": "code",
        "colab": {
          "base_uri": "https://localhost:8080/",
          "height": 51
        },
        "outputId": "c1f021d8-b0cb-4696-bf66-bbb4f5fdc556"
      },
      "cell_type": "code",
      "source": [
        "#cancatenate two vectors into a 2x2 matrix\n",
        "# 0 means cat by row\n",
        "torch.cat((a, b), 0)"
      ],
      "execution_count": 137,
      "outputs": [
        {
          "output_type": "execute_result",
          "data": {
            "text/plain": [
              "tensor([[ 1.,  2.,  3.,  4.],\n",
              "        [ 5.,  6.,  7.,  8.]])"
            ]
          },
          "metadata": {
            "tags": []
          },
          "execution_count": 137
        }
      ]
    },
    {
      "metadata": {
        "id": "mjVFiY9Fx4WY",
        "colab_type": "code",
        "colab": {},
        "outputId": "68573492-606b-4867-dac2-646e0f312820"
      },
      "cell_type": "code",
      "source": [
        "# 1 means cat by column\n",
        "torch.cat((a, b), 1)"
      ],
      "execution_count": 0,
      "outputs": [
        {
          "output_type": "execute_result",
          "data": {
            "text/plain": [
              "\n",
              "    1     2     3     4     5     6     7     8\n",
              "[torch.FloatTensor of size 1x8]"
            ]
          },
          "metadata": {
            "tags": []
          },
          "execution_count": 77
        }
      ]
    },
    {
      "metadata": {
        "id": "wMDdPJEGx4WY",
        "colab_type": "text"
      },
      "cell_type": "markdown",
      "source": [
        "## Much more\n",
        "\n",
        "There's definitely much more, but this was the basics about `Tensor`s fun.\n",
        "\n",
        "*Torch* full API should be read at least once.\n",
        "Hence, go [here](http://pytorch.org/docs/0.3.0/torch.html).\n",
        "You'll find 100+ `Tensor` operations, including transposing, indexing, slicing, mathematical operations, linear algebra, random numbers, etc are described."
      ]
    }
  ]
}