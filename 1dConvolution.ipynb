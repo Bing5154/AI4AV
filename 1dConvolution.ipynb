{
  "nbformat": 4,
  "nbformat_minor": 0,
  "metadata": {
    "colab": {
      "name": "1dConvolution.ipynb",
      "version": "0.3.2",
      "provenance": [],
      "include_colab_link": true
    },
    "kernelspec": {
      "name": "python3",
      "display_name": "Python 3"
    }
  },
  "cells": [
    {
      "cell_type": "markdown",
      "metadata": {
        "id": "view-in-github",
        "colab_type": "text"
      },
      "source": [
        "[View in Colaboratory](https://colab.research.google.com/github/Bing5154/Summer18/blob/master/1dConvolution.ipynb)"
      ]
    },
    {
      "metadata": {
        "id": "9AQy8FQ6AM33",
        "colab_type": "code",
        "colab": {
          "base_uri": "https://localhost:8080/",
          "height": 139
        },
        "outputId": "9315eeaf-54fc-4cb5-bd69-e4cfa25647bd"
      },
      "cell_type": "code",
      "source": [
        "# 1-d convolution with python\n",
        "# this program calculates the convolution of two 1d arrays\n",
        "\n",
        "import numpy as np\n",
        "\n",
        "x = np.array([0,1,2,3,4])\n",
        "w = np.array([1,-1,2])\n",
        "\n",
        "print(\"x = \", x)\n",
        "print(\"\\n\")\n",
        "print(\"w = \", w)\n",
        "print(\"\\n\")\n",
        "\n",
        "res = np.convolve(x,w)\n",
        "print(\"conv(x,w) = \", res)"
      ],
      "execution_count": 3,
      "outputs": [
        {
          "output_type": "stream",
          "text": [
            "x =  [0 1 2 3 4]\n",
            "\n",
            "\n",
            "w =  [ 1 -1  2]\n",
            "\n",
            "\n",
            "conv(x,w) =  [0 1 1 3 5 2 8]\n"
          ],
          "name": "stdout"
        }
      ]
    },
    {
      "metadata": {
        "id": "MsT7y7Q7BGH3",
        "colab_type": "code",
        "colab": {
          "base_uri": "https://localhost:8080/",
          "height": 139
        },
        "outputId": "433d42e5-fdf4-4955-d2cb-70fd382a768f"
      },
      "cell_type": "code",
      "source": [
        "y = np.array([3,1,2,6,4])\n",
        "z = np.array([1,1,2])\n",
        "\n",
        "print(\"y = \", y)\n",
        "print(\"\\n\")\n",
        "print(\"z = \", z)\n",
        "print(\"\\n\")\n",
        "\n",
        "res = np.convolve(y,z)\n",
        "print(\"conv(x,w) = \", res)\n"
      ],
      "execution_count": 4,
      "outputs": [
        {
          "output_type": "stream",
          "text": [
            "y =  [3 1 2 6 4]\n",
            "\n",
            "\n",
            "z =  [1 1 2]\n",
            "\n",
            "\n",
            "conv(x,w) =  [ 3  4  9 10 14 16  8]\n"
          ],
          "name": "stdout"
        }
      ]
    },
    {
      "metadata": {
        "id": "Gn2xhOo-Ao5G",
        "colab_type": "code",
        "colab": {
          "base_uri": "https://localhost:8080/",
          "height": 34
        },
        "outputId": "0245d6ea-b8d7-410c-993e-83b3211feed8"
      },
      "cell_type": "code",
      "source": [
        "a = np.array([8,4,2,6,4,10])\n",
        "b = np.array([-9,2,-10,9])\n",
        "\n",
        "res = np.convolve(a,b)\n",
        "print(\"conv(a,b) = \", res)"
      ],
      "execution_count": 6,
      "outputs": [
        {
          "output_type": "stream",
          "text": [
            "conv(a,b) =  [ -72  -20  -90  -18   -8 -124   34  -64   90]\n"
          ],
          "name": "stdout"
        }
      ]
    }
  ]
}