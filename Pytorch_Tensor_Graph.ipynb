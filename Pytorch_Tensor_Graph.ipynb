{
  "nbformat": 4,
  "nbformat_minor": 0,
  "metadata": {
    "colab": {
      "name": "Pytorch_Tensor.ipynb",
      "version": "0.3.2",
      "provenance": [],
      "collapsed_sections": [
        "wMDdPJEGx4WY"
      ],
      "include_colab_link": true
    },
    "kernelspec": {
      "display_name": "Python 3",
      "language": "python",
      "name": "python3"
    },
    "accelerator": "GPU"
  },
  "cells": [
    {
      "cell_type": "markdown",
      "metadata": {
        "id": "view-in-github",
        "colab_type": "text"
      },
      "source": [
        "[View in Colaboratory](https://colab.research.google.com/github/Bing5154/AI4AV/blob/master/Pytorch_Tensor_Graph.ipynb)"
      ]
    },
    {
      "metadata": {
        "id": "8cfF8K_3x4UG",
        "colab_type": "text"
      },
      "cell_type": "markdown",
      "source": [
        "\n",
        "# What is PyTorch?\n",
        "\n",
        "It’s a Python based scientific computing package targeted at two sets of audiences:\n",
        "\n",
        "-  Tensorial library that uses the power of GPUs\n",
        "-  A deep learning research platform that provides maximum flexibility and speed\n",
        "\n",
        "## Import the library"
      ]
    },
    {
      "metadata": {
        "id": "dOLy3k7pcb1o",
        "colab_type": "code",
        "colab": {}
      },
      "cell_type": "code",
      "source": [
        "# http://pytorch.org/\n",
        "from os import path\n",
        "from wheel.pep425tags import get_abbr_impl, get_impl_ver, get_abi_tag\n",
        "platform = '{}{}-{}'.format(get_abbr_impl(), get_impl_ver(), get_abi_tag())\n",
        "\n",
        "accelerator = 'cu90' if path.exists('/opt/bin/nvidia-smi') else 'cpu'\n",
        "\n",
        "!pip install -q http://download.pytorch.org/whl/{accelerator}/torch-0.4.0-{platform}-linux_x86_64.whl torchvision\n",
        "import torch  # <Ctrl> / <Shift> + <Return>"
      ],
      "execution_count": 0,
      "outputs": []
    },
    {
      "metadata": {
        "id": "Lm8OmuiONLRz",
        "colab_type": "code",
        "colab": {
          "base_uri": "https://localhost:8080/",
          "height": 34
        },
        "outputId": "537e9293-30ae-43a5-91dc-1324ad01d6de"
      },
      "cell_type": "code",
      "source": [
        "torch.__version__"
      ],
      "execution_count": 4,
      "outputs": [
        {
          "output_type": "execute_result",
          "data": {
            "text/plain": [
              "'0.4.0'"
            ]
          },
          "metadata": {
            "tags": []
          },
          "execution_count": 4
        }
      ]
    },
    {
      "metadata": {
        "id": "adxexZkDx4UI",
        "colab_type": "text"
      },
      "cell_type": "markdown",
      "source": [
        "## Getting help in Jupyter"
      ]
    },
    {
      "metadata": {
        "id": "TWB7R3sGx4UJ",
        "colab_type": "code",
        "colab": {
          "base_uri": "https://localhost:8080/",
          "height": 163
        },
        "outputId": "7dea3b85-8c47-4d06-a8f3-62605c95116b"
      },
      "cell_type": "code",
      "source": [
        "torch.sq # <Tab>"
      ],
      "execution_count": 5,
      "outputs": [
        {
          "output_type": "error",
          "ename": "AttributeError",
          "evalue": "ignored",
          "traceback": [
            "\u001b[0;31m---------------------------------------------------------------------------\u001b[0m",
            "\u001b[0;31mAttributeError\u001b[0m                            Traceback (most recent call last)",
            "\u001b[0;32m<ipython-input-5-e909df981492>\u001b[0m in \u001b[0;36m<module>\u001b[0;34m()\u001b[0m\n\u001b[0;32m----> 1\u001b[0;31m \u001b[0mtorch\u001b[0m\u001b[0;34m.\u001b[0m\u001b[0msq\u001b[0m \u001b[0;31m# <Tab>\u001b[0m\u001b[0;34m\u001b[0m\u001b[0m\n\u001b[0m",
            "\u001b[0;31mAttributeError\u001b[0m: module 'torch' has no attribute 'sq'"
          ]
        }
      ]
    },
    {
      "metadata": {
        "id": "-3W82DZJx4UL",
        "colab_type": "code",
        "colab": {}
      },
      "cell_type": "code",
      "source": [
        "# What about all `*Tensor`s?\n",
        "torch.*Tensor?"
      ],
      "execution_count": 0,
      "outputs": []
    },
    {
      "metadata": {
        "id": "h4YdpZTex4UN",
        "colab_type": "code",
        "colab": {
          "base_uri": "https://localhost:8080/",
          "height": 95
        },
        "outputId": "8c92ba31-d12c-450b-8662-adccb6eed6cd"
      },
      "cell_type": "code",
      "source": [
        "torch.nn.Module()  # <Shift>+<Tab>"
      ],
      "execution_count": 4,
      "outputs": [
        {
          "output_type": "execute_result",
          "data": {
            "text/plain": [
              "Module()"
            ]
          },
          "metadata": {
            "tags": []
          },
          "execution_count": 4
        }
      ]
    },
    {
      "metadata": {
        "id": "zCH5-S9Yx4UO",
        "colab_type": "code",
        "colab": {}
      },
      "cell_type": "code",
      "source": [
        "# Annotate your functions / classes!\n",
        "torch.nn.Module?"
      ],
      "execution_count": 0,
      "outputs": []
    },
    {
      "metadata": {
        "id": "B2BBx4SBx4UQ",
        "colab_type": "code",
        "colab": {}
      },
      "cell_type": "code",
      "source": [
        "torch.nn.Module??"
      ],
      "execution_count": 0,
      "outputs": []
    },
    {
      "metadata": {
        "id": "6Zah-iXzx4US",
        "colab_type": "text"
      },
      "cell_type": "markdown",
      "source": [
        "## Dropping to Bash: magic!"
      ]
    },
    {
      "metadata": {
        "id": "aCmWJCSpx4US",
        "colab_type": "code",
        "colab": {
          "base_uri": "https://localhost:8080/",
          "height": 52
        },
        "outputId": "eae23624-787d-4be7-b518-4352932b657b"
      },
      "cell_type": "code",
      "source": [
        "! ls -lh"
      ],
      "execution_count": 0,
      "outputs": [
        {
          "output_type": "stream",
          "text": [
            "total 4.0K\r\n",
            "drwxr-xr-x 3 root root 4.0K Jul  2 16:56 datalab\r\n"
          ],
          "name": "stdout"
        }
      ]
    },
    {
      "metadata": {
        "id": "vEceaYgNx4UV",
        "colab_type": "code",
        "colab": {
          "base_uri": "https://localhost:8080/",
          "height": 34
        },
        "outputId": "ceddb848-82e5-4c77-e91c-5955f1fd6b07"
      },
      "cell_type": "code",
      "source": [
        "%%bash\n",
        "for f in $(ls *.*); do\n",
        "    echo $(wc -l $f)\n",
        "done"
      ],
      "execution_count": 0,
      "outputs": [
        {
          "output_type": "stream",
          "text": [
            "ls: cannot access '*.*': No such file or directory\n"
          ],
          "name": "stderr"
        }
      ]
    },
    {
      "metadata": {
        "id": "mQAScfyix4UX",
        "colab_type": "code",
        "colab": {}
      },
      "cell_type": "code",
      "source": [
        "# Help?\n",
        "%%bash?"
      ],
      "execution_count": 0,
      "outputs": []
    },
    {
      "metadata": {
        "id": "riYtZHWhx4UZ",
        "colab_type": "code",
        "colab": {}
      },
      "cell_type": "code",
      "source": [
        "# Getting some general help\n",
        "%magic"
      ],
      "execution_count": 0,
      "outputs": []
    },
    {
      "metadata": {
        "id": "Z24LyXaDx4Ub",
        "colab_type": "text"
      },
      "cell_type": "markdown",
      "source": [
        "## Python native data types\n",
        "\n",
        "Python has many native datatypes. Here are the important ones:\n",
        "\n",
        " - **Booleans** are either `True` or `False`.\n",
        " - **Numbers** can be integers (1 and 2), floats (1.1 and 1.2), fractions (1/2 and 2/3), or even complex numbers.\n",
        " - **Strings** are sequences of Unicode characters, e.g. an html document.\n",
        " - **Lists** are ordered sequences of values.\n",
        " - **Tuples** are ordered, immutable sequences of values.\n",
        " - **Sets** are unordered bags of values.\n",
        " - **Dictionaries** are unordered bags of key-value pairs.\n",
        " \n",
        "See [here](http://www.diveintopython3.net/native-datatypes.html) for a complete overview.\n",
        "\n",
        "### More resources\n",
        "\n",
        " 1. Brief Python introduction [here](https://learnxinyminutes.com/docs/python3/).\n",
        " 2. Full Python tutorial [here](https://docs.python.org/3/tutorial/).\n",
        " 3. A Whirlwind Tour of Python [here](https://github.com/jakevdp/WhirlwindTourOfPython).\n",
        " 4. Python Data Science Handbook [here](https://github.com/jakevdp/PythonDataScienceHandbook)."
      ]
    },
    {
      "metadata": {
        "id": "wnoL4kJjx4Uc",
        "colab_type": "text"
      },
      "cell_type": "markdown",
      "source": [
        "## Torch!"
      ]
    },
    {
      "metadata": {
        "id": "r4FeyYtcx4Uc",
        "colab_type": "code",
        "colab": {
          "base_uri": "https://localhost:8080/",
          "height": 34
        },
        "outputId": "acf056ab-e663-4bae-b9ad-d30eb98990e1"
      },
      "cell_type": "code",
      "source": [
        "t = torch.Tensor(2, 3, 4)\n",
        "#torch.Tensor is an alias for the default tensor type (torch.FloatTensor).\n",
        "type(t)"
      ],
      "execution_count": 10,
      "outputs": [
        {
          "output_type": "execute_result",
          "data": {
            "text/plain": [
              "torch.Tensor"
            ]
          },
          "metadata": {
            "tags": []
          },
          "execution_count": 10
        }
      ]
    },
    {
      "metadata": {
        "id": "U8vM5XcIx4Uf",
        "colab_type": "code",
        "colab": {
          "base_uri": "https://localhost:8080/",
          "height": 34
        },
        "outputId": "a7e194c7-8873-4bd2-b2d1-abf935db88e6"
      },
      "cell_type": "code",
      "source": [
        "t.size()"
      ],
      "execution_count": 11,
      "outputs": [
        {
          "output_type": "execute_result",
          "data": {
            "text/plain": [
              "torch.Size([2, 3, 4])"
            ]
          },
          "metadata": {
            "tags": []
          },
          "execution_count": 11
        }
      ]
    },
    {
      "metadata": {
        "id": "D_1pA5wOx4Um",
        "colab_type": "code",
        "colab": {
          "base_uri": "https://localhost:8080/",
          "height": 34
        },
        "outputId": "dd8b5148-d459-40a3-82dd-63511c11d4bb"
      },
      "cell_type": "code",
      "source": [
        "# t.size() is a classic tuple =>\n",
        "print('t size:', ' \\u00D7 '.join(map(str, t.size())))"
      ],
      "execution_count": 12,
      "outputs": [
        {
          "output_type": "stream",
          "text": [
            "t size: 2 × 3 × 4\n"
          ],
          "name": "stdout"
        }
      ]
    },
    {
      "metadata": {
        "id": "HLdO8Xjyx4Uo",
        "colab_type": "code",
        "colab": {
          "base_uri": "https://localhost:8080/",
          "height": 34
        },
        "outputId": "d41658c8-ec7a-4b9d-ca1e-db1e60df1e46"
      },
      "cell_type": "code",
      "source": [
        "print(f'organised in {t.dim()} sub-dimensions')"
      ],
      "execution_count": 13,
      "outputs": [
        {
          "output_type": "stream",
          "text": [
            "organised in 3 sub-dimensions\n"
          ],
          "name": "stdout"
        }
      ]
    },
    {
      "metadata": {
        "id": "1plPQ3nEx4Ur",
        "colab_type": "code",
        "colab": {
          "base_uri": "https://localhost:8080/",
          "height": 136
        },
        "outputId": "be17299c-afe9-4f93-84ea-fa006771b198"
      },
      "cell_type": "code",
      "source": [
        "t"
      ],
      "execution_count": 14,
      "outputs": [
        {
          "output_type": "execute_result",
          "data": {
            "text/plain": [
              "tensor([[[ 5.2849e-36,  0.0000e+00,  0.0000e+00,  1.6244e+19],\n",
              "         [ 2.6785e-07,  4.5703e-41,  1.6644e-16,  4.5703e-41],\n",
              "         [ 1.4013e-45,  1.4349e-42,  0.0000e+00,  0.0000e+00]],\n",
              "\n",
              "        [[ 5.0439e-29,  4.5703e-41,  0.0000e+00,  0.0000e+00],\n",
              "         [ 0.0000e+00,  0.0000e+00,  0.0000e+00,  0.0000e+00],\n",
              "         [ 2.5353e+30,  9.6690e-44,  1.2812e-20,  2.5353e+30]]])"
            ]
          },
          "metadata": {
            "tags": []
          },
          "execution_count": 14
        }
      ]
    },
    {
      "metadata": {
        "id": "ZssEgeu_x4Ut",
        "colab_type": "code",
        "colab": {
          "base_uri": "https://localhost:8080/",
          "height": 136
        },
        "outputId": "6c0fc86d-8fce-4742-ead7-f94e21c35095"
      },
      "cell_type": "code",
      "source": [
        "# Mind the underscore!\n",
        "t.random_(10)"
      ],
      "execution_count": 15,
      "outputs": [
        {
          "output_type": "execute_result",
          "data": {
            "text/plain": [
              "tensor([[[ 6.,  8.,  1.,  5.],\n",
              "         [ 9.,  9.,  2.,  1.],\n",
              "         [ 7.,  1.,  5.,  8.]],\n",
              "\n",
              "        [[ 9.,  9.,  1.,  7.],\n",
              "         [ 7.,  8.,  8.,  7.],\n",
              "         [ 3.,  2.,  3.,  7.]]])"
            ]
          },
          "metadata": {
            "tags": []
          },
          "execution_count": 15
        }
      ]
    },
    {
      "metadata": {
        "id": "H9yHcm5Jx4Uv",
        "colab_type": "code",
        "colab": {
          "base_uri": "https://localhost:8080/",
          "height": 136
        },
        "outputId": "2d0b6ed3-4137-4391-ad1d-11ba1cedfd64"
      },
      "cell_type": "code",
      "source": [
        "t"
      ],
      "execution_count": 16,
      "outputs": [
        {
          "output_type": "execute_result",
          "data": {
            "text/plain": [
              "tensor([[[ 6.,  8.,  1.,  5.],\n",
              "         [ 9.,  9.,  2.,  1.],\n",
              "         [ 7.,  1.,  5.,  8.]],\n",
              "\n",
              "        [[ 9.,  9.,  1.,  7.],\n",
              "         [ 7.,  8.,  8.,  7.],\n",
              "         [ 3.,  2.,  3.,  7.]]])"
            ]
          },
          "metadata": {
            "tags": []
          },
          "execution_count": 16
        }
      ]
    },
    {
      "metadata": {
        "id": "0Eq32kD9x4Uy",
        "colab_type": "code",
        "colab": {
          "base_uri": "https://localhost:8080/",
          "height": 68
        },
        "outputId": "dead1039-81f3-4da5-c9d5-33927af9a40f"
      },
      "cell_type": "code",
      "source": [
        "r = torch.Tensor(t)\n",
        "r.resize_(3, 8)\n",
        "r"
      ],
      "execution_count": 17,
      "outputs": [
        {
          "output_type": "execute_result",
          "data": {
            "text/plain": [
              "tensor([[ 6.,  8.,  1.,  5.,  9.,  9.,  2.,  1.],\n",
              "        [ 7.,  1.,  5.,  8.,  9.,  9.,  1.,  7.],\n",
              "        [ 7.,  8.,  8.,  7.,  3.,  2.,  3.,  7.]])"
            ]
          },
          "metadata": {
            "tags": []
          },
          "execution_count": 17
        }
      ]
    },
    {
      "metadata": {
        "id": "CrxsmVbAx4Uz",
        "colab_type": "code",
        "colab": {
          "base_uri": "https://localhost:8080/",
          "height": 68
        },
        "outputId": "d987d1b2-c3fd-4ba9-a2f2-00b17b45c106"
      },
      "cell_type": "code",
      "source": [
        "r.zero_()"
      ],
      "execution_count": 18,
      "outputs": [
        {
          "output_type": "execute_result",
          "data": {
            "text/plain": [
              "tensor([[ 0.,  0.,  0.,  0.,  0.,  0.,  0.,  0.],\n",
              "        [ 0.,  0.,  0.,  0.,  0.,  0.,  0.,  0.],\n",
              "        [ 0.,  0.,  0.,  0.,  0.,  0.,  0.,  0.]])"
            ]
          },
          "metadata": {
            "tags": []
          },
          "execution_count": 18
        }
      ]
    },
    {
      "metadata": {
        "id": "jftaeHTDx4U1",
        "colab_type": "code",
        "colab": {
          "base_uri": "https://localhost:8080/",
          "height": 136
        },
        "outputId": "a9ea0c89-867d-4ec6-e7bb-b42576dec769"
      },
      "cell_type": "code",
      "source": [
        "t"
      ],
      "execution_count": 22,
      "outputs": [
        {
          "output_type": "execute_result",
          "data": {
            "text/plain": [
              "tensor([[[ 0.,  0.,  0.,  0.],\n",
              "         [ 0.,  0.,  0.,  0.],\n",
              "         [ 0.,  0.,  0.,  0.]],\n",
              "\n",
              "        [[ 0.,  0.,  0.,  0.],\n",
              "         [ 0.,  0.,  0.,  0.],\n",
              "         [ 0.,  0.,  0.,  0.]]])"
            ]
          },
          "metadata": {
            "tags": []
          },
          "execution_count": 22
        }
      ]
    },
    {
      "metadata": {
        "id": "0-prTSwIx4U2",
        "colab_type": "code",
        "colab": {}
      },
      "cell_type": "code",
      "source": [
        "# This *is* important, sigh...\n",
        "s = r.clone()"
      ],
      "execution_count": 0,
      "outputs": []
    },
    {
      "metadata": {
        "id": "5b1WRvyGx4U4",
        "colab_type": "code",
        "colab": {
          "base_uri": "https://localhost:8080/",
          "height": 68
        },
        "outputId": "a2d9277a-33c1-4474-c0f5-f92cd779e3eb"
      },
      "cell_type": "code",
      "source": [
        "s.fill_(1)\n",
        "s"
      ],
      "execution_count": 24,
      "outputs": [
        {
          "output_type": "execute_result",
          "data": {
            "text/plain": [
              "tensor([[ 1.,  1.,  1.,  1.,  1.,  1.,  1.,  1.],\n",
              "        [ 1.,  1.,  1.,  1.,  1.,  1.,  1.,  1.],\n",
              "        [ 1.,  1.,  1.,  1.,  1.,  1.,  1.,  1.]])"
            ]
          },
          "metadata": {
            "tags": []
          },
          "execution_count": 24
        }
      ]
    },
    {
      "metadata": {
        "id": "M6MnERKFx4U5",
        "colab_type": "code",
        "colab": {
          "base_uri": "https://localhost:8080/",
          "height": 68
        },
        "outputId": "8842936f-846a-4e02-c154-847879876228"
      },
      "cell_type": "code",
      "source": [
        "r"
      ],
      "execution_count": 25,
      "outputs": [
        {
          "output_type": "execute_result",
          "data": {
            "text/plain": [
              "tensor([[ 0.,  0.,  0.,  0.,  0.,  0.,  0.,  0.],\n",
              "        [ 0.,  0.,  0.,  0.,  0.,  0.,  0.,  0.],\n",
              "        [ 0.,  0.,  0.,  0.,  0.,  0.,  0.,  0.]])"
            ]
          },
          "metadata": {
            "tags": []
          },
          "execution_count": 25
        }
      ]
    },
    {
      "metadata": {
        "id": "VxdzeMK4x4U7",
        "colab_type": "text"
      },
      "cell_type": "markdown",
      "source": [
        "## Vectors (1D Tensors)"
      ]
    },
    {
      "metadata": {
        "id": "nD59re0Gx4U7",
        "colab_type": "code",
        "colab": {
          "base_uri": "https://localhost:8080/",
          "height": 34
        },
        "outputId": "9d3e8167-dcdb-441c-8c75-0b23d3418b08"
      },
      "cell_type": "code",
      "source": [
        "v = torch.Tensor([1, 2, 3, 4]); v"
      ],
      "execution_count": 26,
      "outputs": [
        {
          "output_type": "execute_result",
          "data": {
            "text/plain": [
              "tensor([ 1.,  2.,  3.,  4.])"
            ]
          },
          "metadata": {
            "tags": []
          },
          "execution_count": 26
        }
      ]
    },
    {
      "metadata": {
        "id": "p8OX9wqLx4U9",
        "colab_type": "code",
        "colab": {
          "base_uri": "https://localhost:8080/",
          "height": 34
        },
        "outputId": "7f854f27-8cee-4ae0-a178-0d3959e3f145"
      },
      "cell_type": "code",
      "source": [
        "print(f'dim: {v.dim()}, size: {v.size()[0]}')"
      ],
      "execution_count": 27,
      "outputs": [
        {
          "output_type": "stream",
          "text": [
            "dim: 1, size: 4\n"
          ],
          "name": "stdout"
        }
      ]
    },
    {
      "metadata": {
        "id": "qdZJDtEzx4U_",
        "colab_type": "code",
        "colab": {
          "base_uri": "https://localhost:8080/",
          "height": 34
        },
        "outputId": "e00887e1-9a73-48e3-c397-202a59d9d209"
      },
      "cell_type": "code",
      "source": [
        "w = torch.Tensor([1, 0, 2, 0]); w"
      ],
      "execution_count": 28,
      "outputs": [
        {
          "output_type": "execute_result",
          "data": {
            "text/plain": [
              "tensor([ 1.,  0.,  2.,  0.])"
            ]
          },
          "metadata": {
            "tags": []
          },
          "execution_count": 28
        }
      ]
    },
    {
      "metadata": {
        "id": "hj2SLYrsx4VB",
        "colab_type": "code",
        "colab": {
          "base_uri": "https://localhost:8080/",
          "height": 34
        },
        "outputId": "362c80c6-e1bf-457a-c514-e1ac4a448081"
      },
      "cell_type": "code",
      "source": [
        "# Element-wise multiplication\n",
        "v * w"
      ],
      "execution_count": 29,
      "outputs": [
        {
          "output_type": "execute_result",
          "data": {
            "text/plain": [
              "tensor([ 1.,  0.,  6.,  0.])"
            ]
          },
          "metadata": {
            "tags": []
          },
          "execution_count": 29
        }
      ]
    },
    {
      "metadata": {
        "id": "WnfS3EVdx4VC",
        "colab_type": "code",
        "colab": {
          "base_uri": "https://localhost:8080/",
          "height": 34
        },
        "outputId": "65557eba-2b72-41d8-9a1b-f8e385dac09e"
      },
      "cell_type": "code",
      "source": [
        "# Scalar product: 1*1 + 2*0 + 3*2 + 4*0\n",
        "v @ w"
      ],
      "execution_count": 30,
      "outputs": [
        {
          "output_type": "execute_result",
          "data": {
            "text/plain": [
              "tensor(7.)"
            ]
          },
          "metadata": {
            "tags": []
          },
          "execution_count": 30
        }
      ]
    },
    {
      "metadata": {
        "id": "XBm3XOgex4VE",
        "colab_type": "code",
        "colab": {
          "base_uri": "https://localhost:8080/",
          "height": 34
        },
        "outputId": "d60fdb2f-0c64-4246-9281-69d60549ffa4"
      },
      "cell_type": "code",
      "source": [
        "x = torch.Tensor(5).random_(10); x"
      ],
      "execution_count": 31,
      "outputs": [
        {
          "output_type": "execute_result",
          "data": {
            "text/plain": [
              "tensor([ 3.,  0.,  3.,  8.,  4.])"
            ]
          },
          "metadata": {
            "tags": []
          },
          "execution_count": 31
        }
      ]
    },
    {
      "metadata": {
        "id": "0xVMHY29x4VH",
        "colab_type": "code",
        "colab": {
          "base_uri": "https://localhost:8080/",
          "height": 34
        },
        "outputId": "0a6369f0-ba3c-4182-8917-299ae02922bf"
      },
      "cell_type": "code",
      "source": [
        "print(f'first: {x[0]}, last: {x[-1]}')"
      ],
      "execution_count": 32,
      "outputs": [
        {
          "output_type": "stream",
          "text": [
            "first: 3.0, last: 4.0\n"
          ],
          "name": "stdout"
        }
      ]
    },
    {
      "metadata": {
        "id": "kzjroR1sx4VJ",
        "colab_type": "code",
        "colab": {
          "base_uri": "https://localhost:8080/",
          "height": 34
        },
        "outputId": "06896f7a-e686-4c7e-ab83-72e8aa47038b"
      },
      "cell_type": "code",
      "source": [
        "# Extract sub-Tensor [from:to)\n",
        "x[1:2 + 1]"
      ],
      "execution_count": 33,
      "outputs": [
        {
          "output_type": "execute_result",
          "data": {
            "text/plain": [
              "tensor([ 0.,  3.])"
            ]
          },
          "metadata": {
            "tags": []
          },
          "execution_count": 33
        }
      ]
    },
    {
      "metadata": {
        "id": "NPHG7u6Ex4VM",
        "colab_type": "code",
        "colab": {
          "base_uri": "https://localhost:8080/",
          "height": 34
        },
        "outputId": "8b23d44e-a394-4d81-b43b-7813c01c7515"
      },
      "cell_type": "code",
      "source": [
        "v"
      ],
      "execution_count": 34,
      "outputs": [
        {
          "output_type": "execute_result",
          "data": {
            "text/plain": [
              "tensor([ 1.,  2.,  3.,  4.])"
            ]
          },
          "metadata": {
            "tags": []
          },
          "execution_count": 34
        }
      ]
    },
    {
      "metadata": {
        "id": "wrIcgnHcx4VO",
        "colab_type": "code",
        "colab": {
          "base_uri": "https://localhost:8080/",
          "height": 34
        },
        "outputId": "6b65c208-69fc-4a8d-a4da-532fc779f142"
      },
      "cell_type": "code",
      "source": [
        "v = torch.arange(1, 4 + 1); v"
      ],
      "execution_count": 35,
      "outputs": [
        {
          "output_type": "execute_result",
          "data": {
            "text/plain": [
              "tensor([ 1.,  2.,  3.,  4.])"
            ]
          },
          "metadata": {
            "tags": []
          },
          "execution_count": 35
        }
      ]
    },
    {
      "metadata": {
        "id": "R_-Nbp12x4VQ",
        "colab_type": "code",
        "colab": {
          "base_uri": "https://localhost:8080/",
          "height": 34
        },
        "outputId": "ef88350f-12ff-42cd-b488-712eda82eb84"
      },
      "cell_type": "code",
      "source": [
        "print(v.pow(2), v)"
      ],
      "execution_count": 36,
      "outputs": [
        {
          "output_type": "stream",
          "text": [
            "tensor([  1.,   4.,   9.,  16.]) tensor([ 1.,  2.,  3.,  4.])\n"
          ],
          "name": "stdout"
        }
      ]
    },
    {
      "metadata": {
        "id": "2TcuoyUDx4VS",
        "colab_type": "code",
        "colab": {
          "base_uri": "https://localhost:8080/",
          "height": 34
        },
        "outputId": "7f7fce90-69f0-40d0-cf92-58a259e60ad7"
      },
      "cell_type": "code",
      "source": [
        "print(v.pow_(2), v)"
      ],
      "execution_count": 37,
      "outputs": [
        {
          "output_type": "stream",
          "text": [
            "tensor([  1.,   4.,   9.,  16.]) tensor([  1.,   4.,   9.,  16.])\n"
          ],
          "name": "stdout"
        }
      ]
    },
    {
      "metadata": {
        "id": "dN6brUWFx4VV",
        "colab_type": "text"
      },
      "cell_type": "markdown",
      "source": [
        "## Matrices (2D Tensors)"
      ]
    },
    {
      "metadata": {
        "id": "lNc8ZFz0x4VV",
        "colab_type": "code",
        "colab": {
          "base_uri": "https://localhost:8080/",
          "height": 51
        },
        "outputId": "d65d2e8f-575f-4027-e26f-1f441b238315"
      },
      "cell_type": "code",
      "source": [
        "m = torch.Tensor([[2, 5, 3, 7],\n",
        "                  [4, 2, 1, 9]]); m"
      ],
      "execution_count": 15,
      "outputs": [
        {
          "output_type": "execute_result",
          "data": {
            "text/plain": [
              "tensor([[ 2.,  5.,  3.,  7.],\n",
              "        [ 4.,  2.,  1.,  9.]])"
            ]
          },
          "metadata": {
            "tags": []
          },
          "execution_count": 15
        }
      ]
    },
    {
      "metadata": {
        "id": "j_Vz4FaCx4VX",
        "colab_type": "code",
        "colab": {
          "base_uri": "https://localhost:8080/",
          "height": 34
        },
        "outputId": "8601660e-5e9d-474c-83aa-acf49da492d4"
      },
      "cell_type": "code",
      "source": [
        "m.dim()"
      ],
      "execution_count": 16,
      "outputs": [
        {
          "output_type": "execute_result",
          "data": {
            "text/plain": [
              "2"
            ]
          },
          "metadata": {
            "tags": []
          },
          "execution_count": 16
        }
      ]
    },
    {
      "metadata": {
        "id": "7L_w8Zkhx4VZ",
        "colab_type": "code",
        "colab": {
          "base_uri": "https://localhost:8080/",
          "height": 34
        },
        "outputId": "097c3e30-c185-4814-e80f-ba12acc436a8"
      },
      "cell_type": "code",
      "source": [
        "print(m.size(0), m.size(1), m.size(), sep=' -- ')"
      ],
      "execution_count": 17,
      "outputs": [
        {
          "output_type": "stream",
          "text": [
            "2 -- 4 -- torch.Size([2, 4])\n"
          ],
          "name": "stdout"
        }
      ]
    },
    {
      "metadata": {
        "id": "n6OKyelpx4Va",
        "colab_type": "code",
        "colab": {
          "base_uri": "https://localhost:8080/",
          "height": 34
        },
        "outputId": "c5c222e9-a721-490c-a1c3-fe655586cd26"
      },
      "cell_type": "code",
      "source": [
        "#Returns the total number of elements in the input tensor.\n",
        "m.numel()"
      ],
      "execution_count": 18,
      "outputs": [
        {
          "output_type": "execute_result",
          "data": {
            "text/plain": [
              "8"
            ]
          },
          "metadata": {
            "tags": []
          },
          "execution_count": 18
        }
      ]
    },
    {
      "metadata": {
        "id": "Ndu8UxFDx4Vd",
        "colab_type": "code",
        "colab": {
          "base_uri": "https://localhost:8080/",
          "height": 34
        },
        "outputId": "c849fe06-ad20-4fe4-e36d-1cc617325fae"
      },
      "cell_type": "code",
      "source": [
        "m[0][2]"
      ],
      "execution_count": 19,
      "outputs": [
        {
          "output_type": "execute_result",
          "data": {
            "text/plain": [
              "tensor(3.)"
            ]
          },
          "metadata": {
            "tags": []
          },
          "execution_count": 19
        }
      ]
    },
    {
      "metadata": {
        "id": "KsKN2WG-x4Ve",
        "colab_type": "code",
        "colab": {
          "base_uri": "https://localhost:8080/",
          "height": 34
        },
        "outputId": "2bbd500e-68bd-43ab-ff03-1d66dcc9c4ad"
      },
      "cell_type": "code",
      "source": [
        "m[0, 2]"
      ],
      "execution_count": 20,
      "outputs": [
        {
          "output_type": "execute_result",
          "data": {
            "text/plain": [
              "tensor(3.)"
            ]
          },
          "metadata": {
            "tags": []
          },
          "execution_count": 20
        }
      ]
    },
    {
      "metadata": {
        "id": "_SoYxtstx4Vh",
        "colab_type": "code",
        "colab": {
          "base_uri": "https://localhost:8080/",
          "height": 34
        },
        "outputId": "089bdffd-64dc-4b74-8423-45e75c2e0292"
      },
      "cell_type": "code",
      "source": [
        "m[:, 1]"
      ],
      "execution_count": 21,
      "outputs": [
        {
          "output_type": "execute_result",
          "data": {
            "text/plain": [
              "tensor([ 5.,  2.])"
            ]
          },
          "metadata": {
            "tags": []
          },
          "execution_count": 21
        }
      ]
    },
    {
      "metadata": {
        "id": "w9KqZSlAx4Vk",
        "colab_type": "code",
        "colab": {
          "base_uri": "https://localhost:8080/",
          "height": 51
        },
        "outputId": "1283ca16-283c-4210-85e9-fe8bfaa24192"
      },
      "cell_type": "code",
      "source": [
        "m[:, [1]]"
      ],
      "execution_count": 22,
      "outputs": [
        {
          "output_type": "execute_result",
          "data": {
            "text/plain": [
              "tensor([[ 5.],\n",
              "        [ 2.]])"
            ]
          },
          "metadata": {
            "tags": []
          },
          "execution_count": 22
        }
      ]
    },
    {
      "metadata": {
        "id": "GBzPmhF1x4Vl",
        "colab_type": "code",
        "colab": {
          "base_uri": "https://localhost:8080/",
          "height": 34
        },
        "outputId": "9d2ec47a-ef10-4d97-bd93-8527b0ffdc49"
      },
      "cell_type": "code",
      "source": [
        "m[[0], :]"
      ],
      "execution_count": 23,
      "outputs": [
        {
          "output_type": "execute_result",
          "data": {
            "text/plain": [
              "tensor([[ 2.,  5.,  3.,  7.]])"
            ]
          },
          "metadata": {
            "tags": []
          },
          "execution_count": 23
        }
      ]
    },
    {
      "metadata": {
        "id": "toFn64NCx4Vn",
        "colab_type": "code",
        "colab": {
          "base_uri": "https://localhost:8080/",
          "height": 34
        },
        "outputId": "848f5510-bd6d-4bbc-e1cb-b190832dfc32"
      },
      "cell_type": "code",
      "source": [
        "m[0, :]"
      ],
      "execution_count": 24,
      "outputs": [
        {
          "output_type": "execute_result",
          "data": {
            "text/plain": [
              "tensor([ 2.,  5.,  3.,  7.])"
            ]
          },
          "metadata": {
            "tags": []
          },
          "execution_count": 24
        }
      ]
    },
    {
      "metadata": {
        "id": "rZ1pz7EKx4Vo",
        "colab_type": "code",
        "colab": {
          "base_uri": "https://localhost:8080/",
          "height": 34
        },
        "outputId": "8ad2c4b2-4146-4978-db93-33be4e7ddd48"
      },
      "cell_type": "code",
      "source": [
        "v = torch.arange(1, 4 + 1); v"
      ],
      "execution_count": 25,
      "outputs": [
        {
          "output_type": "execute_result",
          "data": {
            "text/plain": [
              "tensor([ 1.,  2.,  3.,  4.])"
            ]
          },
          "metadata": {
            "tags": []
          },
          "execution_count": 25
        }
      ]
    },
    {
      "metadata": {
        "id": "Z-FGe4PIx4Vp",
        "colab_type": "code",
        "colab": {
          "base_uri": "https://localhost:8080/",
          "height": 51
        },
        "outputId": "782b1c1e-d04d-4ac0-ba61-ccd96609efe2"
      },
      "cell_type": "code",
      "source": [
        "m @ v\n",
        "print(m.size())\n",
        "print(v.size())"
      ],
      "execution_count": 35,
      "outputs": [
        {
          "output_type": "stream",
          "text": [
            "torch.Size([2, 4])\n",
            "torch.Size([4])\n"
          ],
          "name": "stdout"
        }
      ]
    },
    {
      "metadata": {
        "id": "TSNfyssnx4Vr",
        "colab_type": "code",
        "colab": {
          "base_uri": "https://localhost:8080/",
          "height": 34
        },
        "outputId": "e14308ac-c4b4-44ae-d852-a26350bc209b"
      },
      "cell_type": "code",
      "source": [
        "m[[0], :] @ v"
      ],
      "execution_count": 27,
      "outputs": [
        {
          "output_type": "execute_result",
          "data": {
            "text/plain": [
              "tensor([ 49.])"
            ]
          },
          "metadata": {
            "tags": []
          },
          "execution_count": 27
        }
      ]
    },
    {
      "metadata": {
        "id": "PrJHoNi2x4Vt",
        "colab_type": "code",
        "colab": {
          "base_uri": "https://localhost:8080/",
          "height": 34
        },
        "outputId": "532c3b05-e202-41d4-c128-742fa4b9d64a"
      },
      "cell_type": "code",
      "source": [
        "m[[1], :] @ v"
      ],
      "execution_count": 28,
      "outputs": [
        {
          "output_type": "execute_result",
          "data": {
            "text/plain": [
              "tensor([ 47.])"
            ]
          },
          "metadata": {
            "tags": []
          },
          "execution_count": 28
        }
      ]
    },
    {
      "metadata": {
        "id": "FIC_3auyx4Vu",
        "colab_type": "code",
        "colab": {
          "base_uri": "https://localhost:8080/",
          "height": 51
        },
        "outputId": "8ad51775-bda3-4415-856c-9450957dce75"
      },
      "cell_type": "code",
      "source": [
        "m + torch.rand(2, 4)"
      ],
      "execution_count": 29,
      "outputs": [
        {
          "output_type": "execute_result",
          "data": {
            "text/plain": [
              "tensor([[ 2.3003,  5.7658,  3.5523,  7.3742],\n",
              "        [ 4.1339,  2.5576,  1.5529,  9.1708]])"
            ]
          },
          "metadata": {
            "tags": []
          },
          "execution_count": 29
        }
      ]
    },
    {
      "metadata": {
        "id": "d7pF9123x4Vv",
        "colab_type": "code",
        "colab": {
          "base_uri": "https://localhost:8080/",
          "height": 51
        },
        "outputId": "2775e163-6cf7-44eb-efca-576376f23447"
      },
      "cell_type": "code",
      "source": [
        "m - torch.rand(2, 4)"
      ],
      "execution_count": 30,
      "outputs": [
        {
          "output_type": "execute_result",
          "data": {
            "text/plain": [
              "tensor([[ 1.2585,  4.1292,  2.7148,  6.5454],\n",
              "        [ 3.9516,  1.5019,  0.2126,  8.7266]])"
            ]
          },
          "metadata": {
            "tags": []
          },
          "execution_count": 30
        }
      ]
    },
    {
      "metadata": {
        "id": "uSC7nslIx4Vy",
        "colab_type": "code",
        "colab": {
          "base_uri": "https://localhost:8080/",
          "height": 51
        },
        "outputId": "712eb1e6-154b-49df-d67f-f466df373c29"
      },
      "cell_type": "code",
      "source": [
        "m * torch.rand(2, 4)"
      ],
      "execution_count": 31,
      "outputs": [
        {
          "output_type": "execute_result",
          "data": {
            "text/plain": [
              "tensor([[ 0.8614,  0.9613,  2.9095,  6.9239],\n",
              "        [ 0.1884,  1.2310,  0.9757,  4.2724]])"
            ]
          },
          "metadata": {
            "tags": []
          },
          "execution_count": 31
        }
      ]
    },
    {
      "metadata": {
        "id": "TpIsP9OSx4Vz",
        "colab_type": "code",
        "colab": {
          "base_uri": "https://localhost:8080/",
          "height": 51
        },
        "outputId": "f60476e7-7295-43a8-cfdd-81c4df310b9c"
      },
      "cell_type": "code",
      "source": [
        "m / torch.rand(2, 4)"
      ],
      "execution_count": 32,
      "outputs": [
        {
          "output_type": "execute_result",
          "data": {
            "text/plain": [
              "tensor([[  3.2162,   7.6830,   3.9918,   7.5706],\n",
              "        [  6.8367,   2.7500,   1.1894,  10.4253]])"
            ]
          },
          "metadata": {
            "tags": []
          },
          "execution_count": 32
        }
      ]
    },
    {
      "metadata": {
        "id": "-rR5qsWfx4V0",
        "colab_type": "code",
        "colab": {
          "base_uri": "https://localhost:8080/",
          "height": 85
        },
        "outputId": "8c3b839c-98a5-4795-861d-f4abd6d12c45"
      },
      "cell_type": "code",
      "source": [
        "#Expects input to be a matrix (2-D tensor) and transposes dimensions 0 and 1.\n",
        "m.t()"
      ],
      "execution_count": 33,
      "outputs": [
        {
          "output_type": "execute_result",
          "data": {
            "text/plain": [
              "tensor([[ 2.,  4.],\n",
              "        [ 5.,  2.],\n",
              "        [ 3.,  1.],\n",
              "        [ 7.,  9.]])"
            ]
          },
          "metadata": {
            "tags": []
          },
          "execution_count": 33
        }
      ]
    },
    {
      "metadata": {
        "id": "wJCzwsTnx4V2",
        "colab_type": "code",
        "colab": {
          "base_uri": "https://localhost:8080/",
          "height": 85
        },
        "outputId": "52dc25b3-5f62-4fb7-9b08-18f4e8eb4ced"
      },
      "cell_type": "code",
      "source": [
        "# Same as\n",
        "m.transpose(0, 1)"
      ],
      "execution_count": 34,
      "outputs": [
        {
          "output_type": "execute_result",
          "data": {
            "text/plain": [
              "tensor([[ 2.,  4.],\n",
              "        [ 5.,  2.],\n",
              "        [ 3.,  1.],\n",
              "        [ 7.,  9.]])"
            ]
          },
          "metadata": {
            "tags": []
          },
          "execution_count": 34
        }
      ]
    },
    {
      "metadata": {
        "id": "yBMpAuvvx4V3",
        "colab_type": "text"
      },
      "cell_type": "markdown",
      "source": [
        "## Constructors"
      ]
    },
    {
      "metadata": {
        "id": "mBSwsqf_x4V4",
        "colab_type": "code",
        "colab": {},
        "outputId": "6efcda0d-0bcd-471e-e2eb-de8db310d386"
      },
      "cell_type": "code",
      "source": [
        "torch.arange(3, 8 + 1)"
      ],
      "execution_count": 0,
      "outputs": [
        {
          "output_type": "execute_result",
          "data": {
            "text/plain": [
              "\n",
              " 3\n",
              " 4\n",
              " 5\n",
              " 6\n",
              " 7\n",
              " 8\n",
              "[torch.FloatTensor of size 6]"
            ]
          },
          "metadata": {
            "tags": []
          },
          "execution_count": 54
        }
      ]
    },
    {
      "metadata": {
        "id": "ZnudrD_nx4V5",
        "colab_type": "code",
        "colab": {},
        "outputId": "083da191-51b6-43cc-c8b2-5b2ff3ca1418"
      },
      "cell_type": "code",
      "source": [
        "torch.arange(5.7, -3, -2.1)"
      ],
      "execution_count": 0,
      "outputs": [
        {
          "output_type": "execute_result",
          "data": {
            "text/plain": [
              "\n",
              " 5.7000\n",
              " 3.6000\n",
              " 1.5000\n",
              "-0.6000\n",
              "-2.7000\n",
              "[torch.FloatTensor of size 5]"
            ]
          },
          "metadata": {
            "tags": []
          },
          "execution_count": 55
        }
      ]
    },
    {
      "metadata": {
        "id": "fJGILka5x4V7",
        "colab_type": "code",
        "colab": {},
        "outputId": "495ca0bc-6963-42a4-b28f-057b8ac7bbb1"
      },
      "cell_type": "code",
      "source": [
        "torch.linspace(3, 8, 20).view(1, -1)"
      ],
      "execution_count": 0,
      "outputs": [
        {
          "output_type": "execute_result",
          "data": {
            "text/plain": [
              "\n",
              "\n",
              "Columns 0 to 9 \n",
              " 3.0000  3.2632  3.5263  3.7895  4.0526  4.3158  4.5789  4.8421  5.1053  5.3684\n",
              "\n",
              "Columns 10 to 19 \n",
              " 5.6316  5.8947  6.1579  6.4211  6.6842  6.9474  7.2105  7.4737  7.7368  8.0000\n",
              "[torch.FloatTensor of size 1x20]"
            ]
          },
          "metadata": {
            "tags": []
          },
          "execution_count": 56
        }
      ]
    },
    {
      "metadata": {
        "id": "UZ-e_EWnx4V8",
        "colab_type": "code",
        "colab": {},
        "outputId": "a04893b6-debf-42b3-efff-2d8873c29a92"
      },
      "cell_type": "code",
      "source": [
        "torch.zeros(3, 5)"
      ],
      "execution_count": 0,
      "outputs": [
        {
          "output_type": "execute_result",
          "data": {
            "text/plain": [
              "\n",
              " 0  0  0  0  0\n",
              " 0  0  0  0  0\n",
              " 0  0  0  0  0\n",
              "[torch.FloatTensor of size 3x5]"
            ]
          },
          "metadata": {
            "tags": []
          },
          "execution_count": 57
        }
      ]
    },
    {
      "metadata": {
        "id": "IVKtZlBGx4V9",
        "colab_type": "code",
        "colab": {},
        "outputId": "cbce2a83-6fb4-471f-edef-72e704d43326"
      },
      "cell_type": "code",
      "source": [
        "torch.ones(3, 2, 5)"
      ],
      "execution_count": 0,
      "outputs": [
        {
          "output_type": "execute_result",
          "data": {
            "text/plain": [
              "\n",
              "(0 ,.,.) = \n",
              "  1  1  1  1  1\n",
              "  1  1  1  1  1\n",
              "\n",
              "(1 ,.,.) = \n",
              "  1  1  1  1  1\n",
              "  1  1  1  1  1\n",
              "\n",
              "(2 ,.,.) = \n",
              "  1  1  1  1  1\n",
              "  1  1  1  1  1\n",
              "[torch.FloatTensor of size 3x2x5]"
            ]
          },
          "metadata": {
            "tags": []
          },
          "execution_count": 58
        }
      ]
    },
    {
      "metadata": {
        "id": "EhqJcmRbx4V_",
        "colab_type": "code",
        "colab": {},
        "outputId": "a55f22a5-8a84-47c5-ef2d-74e2d152ed14"
      },
      "cell_type": "code",
      "source": [
        "torch.eye(3)"
      ],
      "execution_count": 0,
      "outputs": [
        {
          "output_type": "execute_result",
          "data": {
            "text/plain": [
              "\n",
              " 1  0  0\n",
              " 0  1  0\n",
              " 0  0  1\n",
              "[torch.FloatTensor of size 3x3]"
            ]
          },
          "metadata": {
            "tags": []
          },
          "execution_count": 59
        }
      ]
    },
    {
      "metadata": {
        "id": "NJZWGh-Ix4WA",
        "colab_type": "code",
        "colab": {}
      },
      "cell_type": "code",
      "source": [
        "# Pretty plotting config\n",
        "%run ~/Dropbox/NYU/Work/plot_conf.py"
      ],
      "execution_count": 0,
      "outputs": []
    },
    {
      "metadata": {
        "id": "ohr8KJWHx4WD",
        "colab_type": "code",
        "colab": {}
      },
      "cell_type": "code",
      "source": [
        "# Pretty plotting config\n",
        "%run ~/Dropbox/NYU/Work/plot_conf.py"
      ],
      "execution_count": 0,
      "outputs": []
    },
    {
      "metadata": {
        "id": "qaj5fwkXx4WF",
        "colab_type": "code",
        "colab": {},
        "outputId": "45b68252-ab16-497d-b076-487261b37a8f"
      },
      "cell_type": "code",
      "source": [
        "# Numpy bridge!\n",
        "plt.hist(torch.randn(1000).numpy(), 100);"
      ],
      "execution_count": 0,
      "outputs": [
        {
          "output_type": "display_data",
          "data": {
            "image/png": "[encoded data removed]",
            "text/plain": [
              "<matplotlib.figure.Figure at 0x11ee6ebe0>"
            ]
          },
          "metadata": {
            "tags": []
          }
        }
      ]
    },
    {
      "metadata": {
        "id": "1KkO5-tix4WH",
        "colab_type": "code",
        "colab": {},
        "outputId": "183e302b-2cea-4fc4-93c9-f90e0bff799c"
      },
      "cell_type": "code",
      "source": [
        "plt.hist(torch.randn(10**6).numpy(), 100);  # how much does this chart weight?\n",
        "# use rasterized=True for SVG/EPS/PDF!"
      ],
      "execution_count": 0,
      "outputs": [
        {
          "output_type": "display_data",
          "data": {
            "image/png": "[encoded data removed]",
            "text/plain": [
              "<matplotlib.figure.Figure at 0x11f1459e8>"
            ]
          },
          "metadata": {
            "tags": []
          }
        }
      ]
    },
    {
      "metadata": {
        "id": "OCg0wkYXx4WJ",
        "colab_type": "code",
        "colab": {},
        "outputId": "e258909f-07fb-46e1-91f6-49697f419d8c"
      },
      "cell_type": "code",
      "source": [
        "plt.hist(torch.rand(10**6).numpy(), 100);"
      ],
      "execution_count": 0,
      "outputs": [
        {
          "output_type": "display_data",
          "data": {
            "image/png": "[encoded data removed]",
            "text/plain": [
              "<matplotlib.figure.Figure at 0x11f73b0f0>"
            ]
          },
          "metadata": {
            "tags": []
          }
        }
      ]
    },
    {
      "metadata": {
        "id": "MYP4Yprmx4WK",
        "colab_type": "text"
      },
      "cell_type": "markdown",
      "source": [
        "## Casting"
      ]
    },
    {
      "metadata": {
        "id": "W9Ppoo5wx4WK",
        "colab_type": "code",
        "colab": {}
      },
      "cell_type": "code",
      "source": [
        "torch.*Tensor?"
      ],
      "execution_count": 0,
      "outputs": []
    },
    {
      "metadata": {
        "id": "kCbWVn7Jx4WL",
        "colab_type": "code",
        "colab": {
          "base_uri": "https://localhost:8080/",
          "height": 163
        },
        "outputId": "29117d6c-335b-4bc2-ed64-1e86ddc6f6cd"
      },
      "cell_type": "code",
      "source": [
        "m"
      ],
      "execution_count": 3,
      "outputs": [
        {
          "output_type": "error",
          "ename": "NameError",
          "evalue": "ignored",
          "traceback": [
            "\u001b[0;31m---------------------------------------------------------------------------\u001b[0m",
            "\u001b[0;31mNameError\u001b[0m                                 Traceback (most recent call last)",
            "\u001b[0;32m<ipython-input-3-9a40b379906c>\u001b[0m in \u001b[0;36m<module>\u001b[0;34m()\u001b[0m\n\u001b[0;32m----> 1\u001b[0;31m \u001b[0mm\u001b[0m\u001b[0;34m\u001b[0m\u001b[0m\n\u001b[0m",
            "\u001b[0;31mNameError\u001b[0m: name 'm' is not defined"
          ]
        }
      ]
    },
    {
      "metadata": {
        "id": "n1hEwEPox4WN",
        "colab_type": "code",
        "colab": {
          "base_uri": "https://localhost:8080/",
          "height": 51
        },
        "outputId": "34159573-b872-4d56-9ef3-47e7ca38dbb5"
      },
      "cell_type": "code",
      "source": [
        "m.double()"
      ],
      "execution_count": 7,
      "outputs": [
        {
          "output_type": "execute_result",
          "data": {
            "text/plain": [
              "tensor([[ 2.,  5.,  3.,  7.],\n",
              "        [ 4.,  2.,  1.,  9.]], dtype=torch.float64)"
            ]
          },
          "metadata": {
            "tags": []
          },
          "execution_count": 7
        }
      ]
    },
    {
      "metadata": {
        "id": "QCnDHhICx4WN",
        "colab_type": "code",
        "colab": {
          "base_uri": "https://localhost:8080/",
          "height": 51
        },
        "outputId": "22104507-4ba3-4e8e-aff4-aec46681c689"
      },
      "cell_type": "code",
      "source": [
        "m.byte()"
      ],
      "execution_count": 8,
      "outputs": [
        {
          "output_type": "execute_result",
          "data": {
            "text/plain": [
              "tensor([[ 2,  5,  3,  7],\n",
              "        [ 4,  2,  1,  9]], dtype=torch.uint8)"
            ]
          },
          "metadata": {
            "tags": []
          },
          "execution_count": 8
        }
      ]
    },
    {
      "metadata": {
        "id": "oWEB8JpKx4WO",
        "colab_type": "code",
        "colab": {
          "base_uri": "https://localhost:8080/",
          "height": 51
        },
        "outputId": "579f21f1-b5b5-4e47-aac0-e9f5f338b338"
      },
      "cell_type": "code",
      "source": [
        "# Device configuration\n",
        "device = torch.device('cuda:0' if torch.cuda.is_available() else 'cpu')\n",
        "m.to(device)"
      ],
      "execution_count": 9,
      "outputs": [
        {
          "output_type": "execute_result",
          "data": {
            "text/plain": [
              "tensor([[ 2.,  5.,  3.,  7.],\n",
              "        [ 4.,  2.,  1.,  9.]], device='cuda:0')"
            ]
          },
          "metadata": {
            "tags": []
          },
          "execution_count": 9
        }
      ]
    },
    {
      "metadata": {
        "id": "6mtnrbQox4WQ",
        "colab_type": "code",
        "colab": {
          "base_uri": "https://localhost:8080/",
          "height": 51
        },
        "outputId": "a312f89c-0102-4d15-f355-1a71d589664b"
      },
      "cell_type": "code",
      "source": [
        "m_np = m.numpy(); m_np"
      ],
      "execution_count": 10,
      "outputs": [
        {
          "output_type": "execute_result",
          "data": {
            "text/plain": [
              "array([[2., 5., 3., 7.],\n",
              "       [4., 2., 1., 9.]], dtype=float32)"
            ]
          },
          "metadata": {
            "tags": []
          },
          "execution_count": 10
        }
      ]
    },
    {
      "metadata": {
        "id": "2IX6_Nm6x4WR",
        "colab_type": "code",
        "colab": {
          "base_uri": "https://localhost:8080/",
          "height": 51
        },
        "outputId": "b71868fb-7d1d-4df8-ab41-0260d04ccb59"
      },
      "cell_type": "code",
      "source": [
        "m_np[0, 0] = -1; m_np"
      ],
      "execution_count": 11,
      "outputs": [
        {
          "output_type": "execute_result",
          "data": {
            "text/plain": [
              "array([[-1.,  5.,  3.,  7.],\n",
              "       [ 4.,  2.,  1.,  9.]], dtype=float32)"
            ]
          },
          "metadata": {
            "tags": []
          },
          "execution_count": 11
        }
      ]
    },
    {
      "metadata": {
        "id": "oLbFr2Ymx4WS",
        "colab_type": "code",
        "colab": {
          "base_uri": "https://localhost:8080/",
          "height": 51
        },
        "outputId": "0b4d3cb9-cb60-4a4e-fe18-b8b543f23f2a"
      },
      "cell_type": "code",
      "source": [
        "m"
      ],
      "execution_count": 12,
      "outputs": [
        {
          "output_type": "execute_result",
          "data": {
            "text/plain": [
              "tensor([[-1.,  5.,  3.,  7.],\n",
              "        [ 4.,  2.,  1.,  9.]])"
            ]
          },
          "metadata": {
            "tags": []
          },
          "execution_count": 12
        }
      ]
    },
    {
      "metadata": {
        "id": "oN9jqgM6x4WU",
        "colab_type": "code",
        "colab": {
          "base_uri": "https://localhost:8080/",
          "height": 197
        },
        "outputId": "516a68a1-88d0-464c-f40b-bfaae29a49c2"
      },
      "cell_type": "code",
      "source": [
        "import numpy as np\n",
        "n_np = np.arange(5)\n",
        "n = torch.from_numpy(n_np)\n",
        "print(n_np, n)"
      ],
      "execution_count": 13,
      "outputs": [
        {
          "output_type": "error",
          "ename": "NameError",
          "evalue": "ignored",
          "traceback": [
            "\u001b[0;31m---------------------------------------------------------------------------\u001b[0m",
            "\u001b[0;31mNameError\u001b[0m                                 Traceback (most recent call last)",
            "\u001b[0;32m<ipython-input-13-c08f4476978f>\u001b[0m in \u001b[0;36m<module>\u001b[0;34m()\u001b[0m\n\u001b[0;32m----> 1\u001b[0;31m \u001b[0mn_np\u001b[0m \u001b[0;34m=\u001b[0m \u001b[0mnp\u001b[0m\u001b[0;34m.\u001b[0m\u001b[0marange\u001b[0m\u001b[0;34m(\u001b[0m\u001b[0;36m5\u001b[0m\u001b[0;34m)\u001b[0m\u001b[0;34m\u001b[0m\u001b[0m\n\u001b[0m\u001b[1;32m      2\u001b[0m \u001b[0mn\u001b[0m \u001b[0;34m=\u001b[0m \u001b[0mtorch\u001b[0m\u001b[0;34m.\u001b[0m\u001b[0mfrom_numpy\u001b[0m\u001b[0;34m(\u001b[0m\u001b[0mn_np\u001b[0m\u001b[0;34m)\u001b[0m\u001b[0;34m\u001b[0m\u001b[0m\n\u001b[1;32m      3\u001b[0m \u001b[0mprint\u001b[0m\u001b[0;34m(\u001b[0m\u001b[0mn_np\u001b[0m\u001b[0;34m,\u001b[0m \u001b[0mn\u001b[0m\u001b[0;34m)\u001b[0m\u001b[0;34m\u001b[0m\u001b[0m\n",
            "\u001b[0;31mNameError\u001b[0m: name 'np' is not defined"
          ]
        }
      ]
    },
    {
      "metadata": {
        "id": "d8SVuHNBx4WV",
        "colab_type": "code",
        "colab": {},
        "outputId": "1bbb6028-10d2-45be-acc3-4e07604fc33d"
      },
      "cell_type": "code",
      "source": [
        "n.mul_(2)\n",
        "n_np"
      ],
      "execution_count": 0,
      "outputs": [
        {
          "output_type": "execute_result",
          "data": {
            "text/plain": [
              "array([0, 2, 4, 6, 8])"
            ]
          },
          "metadata": {
            "tags": []
          },
          "execution_count": 74
        }
      ]
    },
    {
      "metadata": {
        "id": "-cRmJ5Xsx4WV",
        "colab_type": "text"
      },
      "cell_type": "markdown",
      "source": [
        "## More fun"
      ]
    },
    {
      "metadata": {
        "id": "gp11Etnux4WV",
        "colab_type": "code",
        "colab": {},
        "outputId": "fb6fc8e6-ad93-456a-bfdb-020e22855afc"
      },
      "cell_type": "code",
      "source": [
        "a = torch.Tensor([[1, 2, 3, 4]])\n",
        "b = torch.Tensor([[5, 6, 7, 8]])\n",
        "print(a, b)"
      ],
      "execution_count": 0,
      "outputs": [
        {
          "output_type": "stream",
          "text": [
            "\n",
            " 1  2  3  4\n",
            "[torch.FloatTensor of size 1x4]\n",
            " \n",
            " 5  6  7  8\n",
            "[torch.FloatTensor of size 1x4]\n",
            "\n"
          ],
          "name": "stdout"
        }
      ]
    },
    {
      "metadata": {
        "id": "a9mnETCFx4WX",
        "colab_type": "code",
        "colab": {},
        "outputId": "2ed27d46-81cc-4a38-f167-0b56e2d966b5"
      },
      "cell_type": "code",
      "source": [
        "#Concatenates the given sequence of seq tensors in the given dimension\n",
        "torch.cat((a, b), 0)"
      ],
      "execution_count": 0,
      "outputs": [
        {
          "output_type": "execute_result",
          "data": {
            "text/plain": [
              "\n",
              " 1  2  3  4\n",
              " 5  6  7  8\n",
              "[torch.FloatTensor of size 2x4]"
            ]
          },
          "metadata": {
            "tags": []
          },
          "execution_count": 76
        }
      ]
    },
    {
      "metadata": {
        "id": "mjVFiY9Fx4WY",
        "colab_type": "code",
        "colab": {},
        "outputId": "68573492-606b-4867-dac2-646e0f312820"
      },
      "cell_type": "code",
      "source": [
        "torch.cat((a, b), 1)"
      ],
      "execution_count": 0,
      "outputs": [
        {
          "output_type": "execute_result",
          "data": {
            "text/plain": [
              "\n",
              "    1     2     3     4     5     6     7     8\n",
              "[torch.FloatTensor of size 1x8]"
            ]
          },
          "metadata": {
            "tags": []
          },
          "execution_count": 77
        }
      ]
    },
    {
      "metadata": {
        "id": "wMDdPJEGx4WY",
        "colab_type": "text"
      },
      "cell_type": "markdown",
      "source": [
        "## Much more\n",
        "\n",
        "There's definitely much more, but this was the basics about `Tensor`s fun.\n",
        "\n",
        "*Torch* full API should be read at least once.\n",
        "Hence, go [here](http://pytorch.org/docs/0.3.0/torch.html).\n",
        "You'll find 100+ `Tensor` operations, including transposing, indexing, slicing, mathematical operations, linear algebra, random numbers, etc are described."
      ]
    }
  ]
}