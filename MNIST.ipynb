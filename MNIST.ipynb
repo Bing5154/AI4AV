{
  "nbformat": 4,
  "nbformat_minor": 0,
  "metadata": {
    "colab": {
      "name": "Copy of MNIST.ipynb",
      "version": "0.3.2",
      "provenance": [],
      "collapsed_sections": [],
      "include_colab_link": true
    },
    "kernelspec": {
      "display_name": "Python 3",
      "language": "python",
      "name": "python3"
    }
  },
  "cells": [
    {
      "cell_type": "markdown",
      "metadata": {
        "id": "view-in-github",
        "colab_type": "text"
      },
      "source": [
        "[View in Colaboratory](https://colab.research.google.com/github/Bing5154/Summer18/blob/master/MNIST.ipynb)"
      ]
    },
    {
      "metadata": {
        "id": "ZZ024N7vUn4n",
        "colab_type": "text"
      },
      "cell_type": "markdown",
      "source": [
        "# Outline\n",
        "\n",
        "Here we will train a fully-connected network to classify hand-written digits from images using the MNIST dataset\n",
        "\n",
        "The network will take 28x28 pixel images and map them to digit categories {0, 1, 2, ..., 9}. "
      ]
    },
    {
      "metadata": {
        "id": "psOOYZtbUn4o",
        "colab_type": "code",
        "colab": {}
      },
      "cell_type": "code",
      "source": [
        "# http://pytorch.org/\n",
        "from os import path\n",
        "from wheel.pep425tags import get_abbr_impl, get_impl_ver, get_abi_tag\n",
        "platform = '{}{}-{}'.format(get_abbr_impl(), get_impl_ver(), get_abi_tag())\n",
        "accelerator = 'cu90' if path.exists('/opt/bin/nvidia-smi') else 'cpu'\n",
        "!pip install -q http://download.pytorch.org/whl/{accelerator}/torch-0.4.0-{platform}-linux_x86_64.whl torchvision\n",
        "import torch\n",
        "from torch import nn, optim\n",
        "import torch.nn.functional as F\n",
        "from torchvision import datasets, transforms"
      ],
      "execution_count": 0,
      "outputs": []
    },
    {
      "metadata": {
        "id": "UXzz9sswUn4u",
        "colab_type": "text"
      },
      "cell_type": "markdown",
      "source": [
        "# Load the Dataset (MNIST)\n",
        "\n",
        "\n",
        "We can use some PyTorch DataLoader utilities for this.  "
      ]
    },
    {
      "metadata": {
        "id": "8-lkVes2Un4u",
        "colab_type": "code",
        "colab": {
          "base_uri": "https://localhost:8080/",
          "height": 121
        },
        "outputId": "5df1b981-d194-4a73-8cc2-eba18358b3f0"
      },
      "cell_type": "code",
      "source": [
        "train_loader = torch.utils.data.DataLoader(\n",
        "    # transforms the images to tensor (gray scale: 0 - 1)\n",
        "    datasets.MNIST('../data', train=True, download=True,\n",
        "                   transform=transforms.Compose([\n",
        "                       transforms.ToTensor(),\n",
        "                   ])),\n",
        "    batch_size=64, shuffle=True)  #creates batch size and randomly assign data to each batch\n",
        "test_loader = torch.utils.data.DataLoader(\n",
        "    datasets.MNIST('../data', train=False, transform=transforms.Compose([\n",
        "                       transforms.ToTensor(),\n",
        "                   ])),\n",
        "    batch_size=1000, shuffle=True)\n"
      ],
      "execution_count": 3,
      "outputs": [
        {
          "output_type": "stream",
          "text": [
            "Downloading http://yann.lecun.com/exdb/mnist/train-images-idx3-ubyte.gz\n",
            "Downloading http://yann.lecun.com/exdb/mnist/train-labels-idx1-ubyte.gz\n",
            "Downloading http://yann.lecun.com/exdb/mnist/t10k-images-idx3-ubyte.gz\n",
            "Downloading http://yann.lecun.com/exdb/mnist/t10k-labels-idx1-ubyte.gz\n",
            "Processing...\n",
            "Done!\n"
          ],
          "name": "stdout"
        }
      ]
    },
    {
      "metadata": {
        "id": "xFFKO0MmUn4y",
        "colab_type": "code",
        "colab": {
          "base_uri": "https://localhost:8080/",
          "height": 81
        },
        "outputId": "4ef31fb1-b1ac-490e-aab2-37d6d0676ebd"
      },
      "cell_type": "code",
      "source": [
        "from google.colab import files\n",
        "uploaded = files.upload() # then browse, select the files. It's then uploaded\n",
        "# choose plot_conf.py"
      ],
      "execution_count": 5,
      "outputs": [
        {
          "output_type": "display_data",
          "data": {
            "text/html": [
              "\n",
              "     <input type=\"file\" id=\"files-62d5b425-3ba9-48ac-b5ec-51358595c18f\" name=\"files[]\" multiple disabled />\n",
              "     <output id=\"result-62d5b425-3ba9-48ac-b5ec-51358595c18f\">\n",
              "      Upload widget is only available when the cell has been executed in the\n",
              "      current browser session. Please rerun this cell to enable.\n",
              "      </output>\n",
              "      <script src=\"/nbextensions/google.colab/files.js\"></script> "
            ],
            "text/plain": [
              "<IPython.core.display.HTML object>"
            ]
          },
          "metadata": {
            "tags": []
          }
        },
        {
          "output_type": "stream",
          "text": [
            "Saving plot_conf.py to plot_conf.py\n"
          ],
          "name": "stdout"
        }
      ]
    },
    {
      "metadata": {
        "id": "JqeCmqEFUn40",
        "colab_type": "code",
        "colab": {}
      },
      "cell_type": "code",
      "source": [
        "%run ~/plot_conf.py\n",
        "plt_style()"
      ],
      "execution_count": 0,
      "outputs": []
    },
    {
      "metadata": {
        "id": "GiPJUXSKUn43",
        "colab_type": "code",
        "colab": {
          "base_uri": "https://localhost:8080/",
          "height": 453
        },
        "outputId": "c9d34913-08e3-4a8a-99e5-a48f60e1ce42"
      },
      "cell_type": "code",
      "source": [
        "for i in range(10):\n",
        "    plt.subplot(2, 5, i + 1)\n",
        "    image, label = train_loader.dataset.__getitem__(i)\n",
        "    plt.imshow(image.squeeze().numpy())\n",
        "    plt.title(label.numpy())"
      ],
      "execution_count": 8,
      "outputs": [
        {
          "output_type": "display_data",
          "data": {
            "image/png": "[encoded data removed]",
            "text/plain": [
              "<matplotlib.figure.Figure at 0x7f24fb65fa90>"
            ]
          },
          "metadata": {
            "tags": []
          }
        }
      ]
    },
    {
      "metadata": {
        "id": "PiVShDeLU42A",
        "colab_type": "code",
        "colab": {
          "base_uri": "https://localhost:8080/",
          "height": 52
        },
        "outputId": "5a37b6b0-a15c-48eb-8760-b03be6e4898b"
      },
      "cell_type": "code",
      "source": [
        "print(image.size())\n",
        "print(image.squeeze().size())"
      ],
      "execution_count": 9,
      "outputs": [
        {
          "output_type": "stream",
          "text": [
            "torch.Size([1, 28, 28])\n",
            "torch.Size([28, 28])\n"
          ],
          "name": "stdout"
        }
      ]
    },
    {
      "metadata": {
        "id": "pn6QDQPzUn48",
        "colab_type": "code",
        "colab": {
          "base_uri": "https://localhost:8080/",
          "height": 139
        },
        "outputId": "04ac6369-5427-4d89-a6dc-fd7aced7559e"
      },
      "cell_type": "code",
      "source": [
        "for batch_idx, (data, target) in enumerate(train_loader):\n",
        "    # Move tensors to the configured device\n",
        "    print(data.size())\n",
        "    data = data.reshape(-1,28*28)  # reset to size 1 x 784 \n",
        "    print(data.size())\n",
        "    data = data\n",
        "    target = target  #print out the value pf the dataset\n",
        "    print(target)\n",
        "    break\n",
        "\n"
      ],
      "execution_count": 13,
      "outputs": [
        {
          "output_type": "stream",
          "text": [
            "torch.Size([64, 1, 28, 28])\n",
            "torch.Size([64, 784])\n",
            "tensor([ 6,  9,  3,  7,  2,  1,  9,  4,  8,  1,  1,  1,  6,  9,\n",
            "         5,  0,  2,  9,  8,  2,  7,  0,  1,  6,  2,  7,  5,  4,\n",
            "         4,  8,  1,  5,  8,  3,  1,  9,  1,  5,  0,  1,  4,  1,\n",
            "         7,  0,  5,  4,  1,  5,  7,  6,  5,  3,  6,  5,  8,  6,\n",
            "         7,  4,  6,  8,  0,  3,  0,  8])\n"
          ],
          "name": "stdout"
        }
      ]
    },
    {
      "metadata": {
        "id": "IGkN4hwiVN-O",
        "colab_type": "code",
        "colab": {
          "base_uri": "https://localhost:8080/",
          "height": 104
        },
        "outputId": "112e8746-ad62-4db5-ce1b-c29556ad0df5"
      },
      "cell_type": "code",
      "source": [
        "data.size()\n",
        "target"
      ],
      "execution_count": 11,
      "outputs": [
        {
          "output_type": "execute_result",
          "data": {
            "text/plain": [
              "tensor([ 2,  8,  5,  6,  4,  7,  7,  5,  9,  6,  0,  8,  2,  9,\n",
              "         7,  8,  4,  1,  2,  1,  1,  4,  5,  0,  8,  2,  8,  4,\n",
              "         9,  6,  2,  5,  7,  0,  4,  0,  5,  7,  5,  7,  3,  2,\n",
              "         0,  9,  4,  1,  6,  9,  4,  5,  8,  8,  2,  6,  2,  1,\n",
              "         6,  8,  1,  0,  4,  2,  9,  3])"
            ]
          },
          "metadata": {
            "tags": []
          },
          "execution_count": 11
        }
      ]
    },
    {
      "metadata": {
        "id": "aD1rqvEqVQ2N",
        "colab_type": "code",
        "colab": {}
      },
      "cell_type": "code",
      "source": [
        ""
      ],
      "execution_count": 0,
      "outputs": []
    }
  ]
}