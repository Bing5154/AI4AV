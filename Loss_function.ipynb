{
  "nbformat": 4,
  "nbformat_minor": 0,
  "metadata": {
    "colab": {
      "name": "Copy of Loss function.ipynb",
      "version": "0.3.2",
      "provenance": [],
      "collapsed_sections": [],
      "include_colab_link": true
    },
    "kernelspec": {
      "name": "python3",
      "display_name": "Python 3"
    }
  },
  "cells": [
    {
      "cell_type": "markdown",
      "metadata": {
        "id": "view-in-github",
        "colab_type": "text"
      },
      "source": [
        "[View in Colaboratory](https://colab.research.google.com/github/Bing5154/AI4AV/blob/master/Loss_function.ipynb)"
      ]
    },
    {
      "metadata": {
        "id": "N67GVtYMXurM",
        "colab_type": "code",
        "colab": {}
      },
      "cell_type": "code",
      "source": [
        "# http://pytorch.org/\n",
        "from os import path\n",
        "from wheel.pep425tags import get_abbr_impl, get_impl_ver, get_abi_tag\n",
        "platform = '{}{}-{}'.format(get_abbr_impl(), get_impl_ver(), get_abi_tag())\n",
        "accelerator = 'cu90' if path.exists('/opt/bin/nvidia-smi') else 'cpu'\n",
        "!pip install -q http://download.pytorch.org/whl/{accelerator}/torch-0.4.0-{platform}-linux_x86_64.whl torchvision\n",
        "import torch\n",
        "import torch.nn.functional as F"
      ],
      "execution_count": 0,
      "outputs": []
    },
    {
      "metadata": {
        "id": "LCxkAkjxXwqp",
        "colab_type": "code",
        "colab": {
          "base_uri": "https://localhost:8080/",
          "height": 34
        },
        "outputId": "ff76be1e-5351-4b93-b880-05386709e28a"
      },
      "cell_type": "code",
      "source": [
        "input = torch.tensor([[-96.8, 437.9, 61.95]])\n",
        "target = torch.tensor([1]) # do not forget to minus 1, because the index starts at 0 in Python!\n",
        "output = F.cross_entropy(input, target)\n",
        "print(\"The cross-entropy loss is \",output.item())"
      ],
      "execution_count": 0,
      "outputs": [
        {
          "output_type": "stream",
          "text": [
            "The cross-entropy loss is  0.0\n"
          ],
          "name": "stdout"
        }
      ]
    },
    {
      "metadata": {
        "id": "ukJGEIEMGp2E",
        "colab_type": "code",
        "colab": {
          "base_uri": "https://localhost:8080/",
          "height": 34
        },
        "outputId": "71c9ba82-d726-444c-a91e-a33f44067890"
      },
      "cell_type": "code",
      "source": [
        "input = torch.tensor([[-2.85, 0.86, 0.28]])\n",
        "target = torch.tensor([2]) # do not forget to minus 1, because the index starts at 0 in Python!\n",
        "output = F.cross_entropy(input, target)\n",
        "print(\"The cross-entropy loss is \",output.item())"
      ],
      "execution_count": 0,
      "outputs": [
        {
          "output_type": "stream",
          "text": [
            "The cross-entropy loss is  1.040190577507019\n"
          ],
          "name": "stdout"
        }
      ]
    },
    {
      "metadata": {
        "id": "r5xpslIne1f7",
        "colab_type": "code",
        "colab": {
          "base_uri": "https://localhost:8080/",
          "height": 34
        },
        "outputId": "14719da7-07f0-4040-bb59-353cbf040c93"
      },
      "cell_type": "code",
      "source": [
        "input = torch.tensor([[2000.0, 3000.0, 2520.0]])\n",
        "target = torch.tensor([[2000.0, 3000.0, 2500.0]])\n",
        "output = F.mse_loss(input, target)\n",
        "print(\"The MSE loss is \",output.item())"
      ],
      "execution_count": 0,
      "outputs": [
        {
          "output_type": "stream",
          "text": [
            "The MSE loss is  133.3333282470703\n"
          ],
          "name": "stdout"
        }
      ]
    }
  ]
}